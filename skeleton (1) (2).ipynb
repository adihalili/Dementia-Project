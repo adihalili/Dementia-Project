{
 "cells": [
  {
   "cell_type": "markdown",
   "id": "d1c9ed47-3eee-44e1-98ee-58000b1078c3",
   "metadata": {},
   "source": [
    "# **Dementia Patient Health,Prescriptions** \n",
    "\n",
    "## **Group number 18**\n",
    "\n",
    "שיר ירון  \n",
    "עדי חלילי  \n",
    "שירה רוט \n"
   ]
  },
  {
   "cell_type": "markdown",
   "id": "ff7d2ece-fb8e-4dbd-8aee-392c8eeab6a3",
   "metadata": {
    "tags": []
   },
   "source": [
    "<a id='top'></a>\n",
    "\n",
    "<div>\n",
    "<img src=\"https://github.com/adihalili/project1/blob/d11331e482fbdcb69ab6b38eed2d108a1343e0f8/dementia_pic1.jpg?raw=true\"\n",
    "width=\"800\"/>\n",
    "</div>\n"
   ]
  },
  {
   "cell_type": "markdown",
   "id": "9fd3cf32-6a3e-452c-94be-82df019c8626",
   "metadata": {
    "tags": []
   },
   "source": [
    "*Table of Contents:*\n",
    "<b id=\"Top\"> </b>  \n",
    "1. [Geting to know+clearing the data](#1)\n",
    "2. [first path](#2)\n",
    "3. [Second path](#3)\n",
    "4. [Third path](#4)\n",
    "5. [summary & recommendations](#5)"
   ]
  },
  {
   "cell_type": "markdown",
   "id": "ac2aecce-19ae-4a3e-bd23-568556db62e8",
   "metadata": {
    "tags": []
   },
   "source": [
    "### Geting to know the data:\n",
    "- הסבר על העמודות שלה\n",
    "- הצגת אחוז חולים בריאים-\n",
    "- הצגת החוסר קורולציה \n",
    "- התמקדות בעמוד ההשכלה\n",
    "\n",
    "מכיוון שראינו שאין גורם ישיר ובולט למקרה, החלטנו לחקור לעומק כל אחת מהעמודות ולהצליב מידע בינהן "
   ]
  },
  {
   "cell_type": "code",
   "execution_count": 59,
   "id": "2cf11624-f6b5-47cd-b098-9f2efc0e3ed9",
   "metadata": {
    "tags": []
   },
   "outputs": [],
   "source": [
    "import pandas as pd\n",
    "import matplotlib.pyplot as plt\n",
    "from plotly.subplots import make_subplots\n",
    "import numpy as np\n",
    "import seaborn as sns\n",
    "from sklearn.preprocessing import OneHotEncoder\n",
    "import array as arr\n",
    "import plotly.graph_objects as go"
   ]
  },
  {
   "cell_type": "code",
   "execution_count": 235,
   "id": "a0f5b572-36cf-4386-b6bf-ce0c19808d77",
   "metadata": {
    "tags": []
   },
   "outputs": [
    {
     "data": {
      "text/html": [
       "<div>\n",
       "<style scoped>\n",
       "    .dataframe tbody tr th:only-of-type {\n",
       "        vertical-align: middle;\n",
       "    }\n",
       "\n",
       "    .dataframe tbody tr th {\n",
       "        vertical-align: top;\n",
       "    }\n",
       "\n",
       "    .dataframe thead th {\n",
       "        text-align: right;\n",
       "    }\n",
       "</style>\n",
       "<table border=\"1\" class=\"dataframe\">\n",
       "  <thead>\n",
       "    <tr style=\"text-align: right;\">\n",
       "      <th></th>\n",
       "      <th>Diabetic</th>\n",
       "      <th>AlcoholLevel</th>\n",
       "      <th>HeartRate</th>\n",
       "      <th>BloodOxygenLevel</th>\n",
       "      <th>BodyTemperature</th>\n",
       "      <th>Weight</th>\n",
       "      <th>MRI_Delay</th>\n",
       "      <th>Prescription</th>\n",
       "      <th>Dosage in mg</th>\n",
       "      <th>Age</th>\n",
       "      <th>...</th>\n",
       "      <th>Smoking_Status</th>\n",
       "      <th>APOE_ε4</th>\n",
       "      <th>Physical_Activity</th>\n",
       "      <th>Depression_Status</th>\n",
       "      <th>Cognitive_Test_Scores</th>\n",
       "      <th>Medication_History</th>\n",
       "      <th>Nutrition_Diet</th>\n",
       "      <th>Sleep_Quality</th>\n",
       "      <th>Chronic_Health_Conditions</th>\n",
       "      <th>Dementia</th>\n",
       "    </tr>\n",
       "  </thead>\n",
       "  <tbody>\n",
       "    <tr>\n",
       "      <th>0</th>\n",
       "      <td>1</td>\n",
       "      <td>0.084974</td>\n",
       "      <td>98</td>\n",
       "      <td>96.230743</td>\n",
       "      <td>36.224852</td>\n",
       "      <td>57.563978</td>\n",
       "      <td>36.421028</td>\n",
       "      <td>NaN</td>\n",
       "      <td>NaN</td>\n",
       "      <td>60</td>\n",
       "      <td>...</td>\n",
       "      <td>Current Smoker</td>\n",
       "      <td>Negative</td>\n",
       "      <td>Sedentary</td>\n",
       "      <td>No</td>\n",
       "      <td>10</td>\n",
       "      <td>No</td>\n",
       "      <td>Low-Carb Diet</td>\n",
       "      <td>Poor</td>\n",
       "      <td>Diabetes</td>\n",
       "      <td>0</td>\n",
       "    </tr>\n",
       "    <tr>\n",
       "      <th>1</th>\n",
       "      <td>0</td>\n",
       "      <td>0.016973</td>\n",
       "      <td>78</td>\n",
       "      <td>93.032122</td>\n",
       "      <td>36.183874</td>\n",
       "      <td>56.832335</td>\n",
       "      <td>31.157633</td>\n",
       "      <td>Galantamine</td>\n",
       "      <td>12.0</td>\n",
       "      <td>61</td>\n",
       "      <td>...</td>\n",
       "      <td>Former Smoker</td>\n",
       "      <td>Positive</td>\n",
       "      <td>Moderate Activity</td>\n",
       "      <td>No</td>\n",
       "      <td>1</td>\n",
       "      <td>Yes</td>\n",
       "      <td>Low-Carb Diet</td>\n",
       "      <td>Poor</td>\n",
       "      <td>Heart Disease</td>\n",
       "      <td>1</td>\n",
       "    </tr>\n",
       "    <tr>\n",
       "      <th>2</th>\n",
       "      <td>0</td>\n",
       "      <td>0.009000</td>\n",
       "      <td>89</td>\n",
       "      <td>93.566504</td>\n",
       "      <td>37.326321</td>\n",
       "      <td>59.759066</td>\n",
       "      <td>37.640435</td>\n",
       "      <td>NaN</td>\n",
       "      <td>NaN</td>\n",
       "      <td>69</td>\n",
       "      <td>...</td>\n",
       "      <td>Former Smoker</td>\n",
       "      <td>Negative</td>\n",
       "      <td>Moderate Activity</td>\n",
       "      <td>No</td>\n",
       "      <td>8</td>\n",
       "      <td>No</td>\n",
       "      <td>Mediterranean Diet</td>\n",
       "      <td>Poor</td>\n",
       "      <td>Heart Disease</td>\n",
       "      <td>0</td>\n",
       "    </tr>\n",
       "    <tr>\n",
       "      <th>3</th>\n",
       "      <td>0</td>\n",
       "      <td>0.086437</td>\n",
       "      <td>60</td>\n",
       "      <td>93.906510</td>\n",
       "      <td>37.030620</td>\n",
       "      <td>58.266471</td>\n",
       "      <td>50.673992</td>\n",
       "      <td>Donepezil</td>\n",
       "      <td>23.0</td>\n",
       "      <td>78</td>\n",
       "      <td>...</td>\n",
       "      <td>Never Smoked</td>\n",
       "      <td>Negative</td>\n",
       "      <td>Mild Activity</td>\n",
       "      <td>Yes</td>\n",
       "      <td>5</td>\n",
       "      <td>Yes</td>\n",
       "      <td>Balanced Diet</td>\n",
       "      <td>Poor</td>\n",
       "      <td>Hypertension</td>\n",
       "      <td>1</td>\n",
       "    </tr>\n",
       "    <tr>\n",
       "      <th>4</th>\n",
       "      <td>1</td>\n",
       "      <td>0.150747</td>\n",
       "      <td>67</td>\n",
       "      <td>97.508994</td>\n",
       "      <td>36.062121</td>\n",
       "      <td>67.705027</td>\n",
       "      <td>27.810601</td>\n",
       "      <td>Memantine</td>\n",
       "      <td>20.0</td>\n",
       "      <td>77</td>\n",
       "      <td>...</td>\n",
       "      <td>Never Smoked</td>\n",
       "      <td>Positive</td>\n",
       "      <td>Mild Activity</td>\n",
       "      <td>No</td>\n",
       "      <td>0</td>\n",
       "      <td>Yes</td>\n",
       "      <td>Low-Carb Diet</td>\n",
       "      <td>Good</td>\n",
       "      <td>Diabetes</td>\n",
       "      <td>1</td>\n",
       "    </tr>\n",
       "    <tr>\n",
       "      <th>5</th>\n",
       "      <td>1</td>\n",
       "      <td>0.114028</td>\n",
       "      <td>94</td>\n",
       "      <td>94.546754</td>\n",
       "      <td>36.678071</td>\n",
       "      <td>66.592329</td>\n",
       "      <td>21.154863</td>\n",
       "      <td>Rivastigmine</td>\n",
       "      <td>1.5</td>\n",
       "      <td>67</td>\n",
       "      <td>...</td>\n",
       "      <td>Former Smoker</td>\n",
       "      <td>Positive</td>\n",
       "      <td>Mild Activity</td>\n",
       "      <td>Yes</td>\n",
       "      <td>1</td>\n",
       "      <td>No</td>\n",
       "      <td>Low-Carb Diet</td>\n",
       "      <td>Poor</td>\n",
       "      <td>Diabetes</td>\n",
       "      <td>1</td>\n",
       "    </tr>\n",
       "    <tr>\n",
       "      <th>6</th>\n",
       "      <td>1</td>\n",
       "      <td>0.016194</td>\n",
       "      <td>90</td>\n",
       "      <td>96.423361</td>\n",
       "      <td>37.024630</td>\n",
       "      <td>83.976553</td>\n",
       "      <td>11.350612</td>\n",
       "      <td>Donepezil</td>\n",
       "      <td>10.0</td>\n",
       "      <td>87</td>\n",
       "      <td>...</td>\n",
       "      <td>Never Smoked</td>\n",
       "      <td>Positive</td>\n",
       "      <td>Mild Activity</td>\n",
       "      <td>No</td>\n",
       "      <td>7</td>\n",
       "      <td>No</td>\n",
       "      <td>Mediterranean Diet</td>\n",
       "      <td>Poor</td>\n",
       "      <td>Diabetes</td>\n",
       "      <td>1</td>\n",
       "    </tr>\n",
       "    <tr>\n",
       "      <th>7</th>\n",
       "      <td>0</td>\n",
       "      <td>0.161158</td>\n",
       "      <td>98</td>\n",
       "      <td>92.007370</td>\n",
       "      <td>36.050294</td>\n",
       "      <td>69.653564</td>\n",
       "      <td>30.339413</td>\n",
       "      <td>NaN</td>\n",
       "      <td>NaN</td>\n",
       "      <td>66</td>\n",
       "      <td>...</td>\n",
       "      <td>Former Smoker</td>\n",
       "      <td>Negative</td>\n",
       "      <td>Mild Activity</td>\n",
       "      <td>No</td>\n",
       "      <td>9</td>\n",
       "      <td>Yes</td>\n",
       "      <td>Low-Carb Diet</td>\n",
       "      <td>Poor</td>\n",
       "      <td>Hypertension</td>\n",
       "      <td>0</td>\n",
       "    </tr>\n",
       "    <tr>\n",
       "      <th>8</th>\n",
       "      <td>0</td>\n",
       "      <td>0.015754</td>\n",
       "      <td>69</td>\n",
       "      <td>99.859490</td>\n",
       "      <td>36.955259</td>\n",
       "      <td>53.725078</td>\n",
       "      <td>36.629687</td>\n",
       "      <td>NaN</td>\n",
       "      <td>NaN</td>\n",
       "      <td>66</td>\n",
       "      <td>...</td>\n",
       "      <td>Former Smoker</td>\n",
       "      <td>Positive</td>\n",
       "      <td>Mild Activity</td>\n",
       "      <td>No</td>\n",
       "      <td>10</td>\n",
       "      <td>Yes</td>\n",
       "      <td>Mediterranean Diet</td>\n",
       "      <td>Poor</td>\n",
       "      <td>NaN</td>\n",
       "      <td>0</td>\n",
       "    </tr>\n",
       "    <tr>\n",
       "      <th>9</th>\n",
       "      <td>1</td>\n",
       "      <td>0.097340</td>\n",
       "      <td>64</td>\n",
       "      <td>90.319068</td>\n",
       "      <td>36.396286</td>\n",
       "      <td>58.366698</td>\n",
       "      <td>49.175758</td>\n",
       "      <td>Rivastigmine</td>\n",
       "      <td>3.0</td>\n",
       "      <td>87</td>\n",
       "      <td>...</td>\n",
       "      <td>Former Smoker</td>\n",
       "      <td>Positive</td>\n",
       "      <td>Sedentary</td>\n",
       "      <td>Yes</td>\n",
       "      <td>7</td>\n",
       "      <td>Yes</td>\n",
       "      <td>Balanced Diet</td>\n",
       "      <td>Good</td>\n",
       "      <td>Diabetes</td>\n",
       "      <td>1</td>\n",
       "    </tr>\n",
       "  </tbody>\n",
       "</table>\n",
       "<p>10 rows × 24 columns</p>\n",
       "</div>"
      ],
      "text/plain": [
       "   Diabetic  AlcoholLevel  HeartRate  BloodOxygenLevel  BodyTemperature  \\\n",
       "0         1      0.084974         98         96.230743        36.224852   \n",
       "1         0      0.016973         78         93.032122        36.183874   \n",
       "2         0      0.009000         89         93.566504        37.326321   \n",
       "3         0      0.086437         60         93.906510        37.030620   \n",
       "4         1      0.150747         67         97.508994        36.062121   \n",
       "5         1      0.114028         94         94.546754        36.678071   \n",
       "6         1      0.016194         90         96.423361        37.024630   \n",
       "7         0      0.161158         98         92.007370        36.050294   \n",
       "8         0      0.015754         69         99.859490        36.955259   \n",
       "9         1      0.097340         64         90.319068        36.396286   \n",
       "\n",
       "      Weight  MRI_Delay  Prescription  Dosage in mg  Age  ...  Smoking_Status  \\\n",
       "0  57.563978  36.421028           NaN           NaN   60  ...  Current Smoker   \n",
       "1  56.832335  31.157633   Galantamine          12.0   61  ...   Former Smoker   \n",
       "2  59.759066  37.640435           NaN           NaN   69  ...   Former Smoker   \n",
       "3  58.266471  50.673992     Donepezil          23.0   78  ...    Never Smoked   \n",
       "4  67.705027  27.810601     Memantine          20.0   77  ...    Never Smoked   \n",
       "5  66.592329  21.154863  Rivastigmine           1.5   67  ...   Former Smoker   \n",
       "6  83.976553  11.350612     Donepezil          10.0   87  ...    Never Smoked   \n",
       "7  69.653564  30.339413           NaN           NaN   66  ...   Former Smoker   \n",
       "8  53.725078  36.629687           NaN           NaN   66  ...   Former Smoker   \n",
       "9  58.366698  49.175758  Rivastigmine           3.0   87  ...   Former Smoker   \n",
       "\n",
       "    APOE_ε4  Physical_Activity Depression_Status Cognitive_Test_Scores  \\\n",
       "0  Negative          Sedentary                No                    10   \n",
       "1  Positive  Moderate Activity                No                     1   \n",
       "2  Negative  Moderate Activity                No                     8   \n",
       "3  Negative      Mild Activity               Yes                     5   \n",
       "4  Positive      Mild Activity                No                     0   \n",
       "5  Positive      Mild Activity               Yes                     1   \n",
       "6  Positive      Mild Activity                No                     7   \n",
       "7  Negative      Mild Activity                No                     9   \n",
       "8  Positive      Mild Activity                No                    10   \n",
       "9  Positive          Sedentary               Yes                     7   \n",
       "\n",
       "  Medication_History      Nutrition_Diet Sleep_Quality  \\\n",
       "0                 No       Low-Carb Diet          Poor   \n",
       "1                Yes       Low-Carb Diet          Poor   \n",
       "2                 No  Mediterranean Diet          Poor   \n",
       "3                Yes       Balanced Diet          Poor   \n",
       "4                Yes       Low-Carb Diet          Good   \n",
       "5                 No       Low-Carb Diet          Poor   \n",
       "6                 No  Mediterranean Diet          Poor   \n",
       "7                Yes       Low-Carb Diet          Poor   \n",
       "8                Yes  Mediterranean Diet          Poor   \n",
       "9                Yes       Balanced Diet          Good   \n",
       "\n",
       "   Chronic_Health_Conditions Dementia  \n",
       "0                   Diabetes        0  \n",
       "1              Heart Disease        1  \n",
       "2              Heart Disease        0  \n",
       "3               Hypertension        1  \n",
       "4                   Diabetes        1  \n",
       "5                   Diabetes        1  \n",
       "6                   Diabetes        1  \n",
       "7               Hypertension        0  \n",
       "8                        NaN        0  \n",
       "9                   Diabetes        1  \n",
       "\n",
       "[10 rows x 24 columns]"
      ]
     },
     "execution_count": 235,
     "metadata": {},
     "output_type": "execute_result"
    }
   ],
   "source": [
    "url=\"https://raw.githubusercontent.com/adihalili/project1/main/dementia_patients_health_data.csv\"\n",
    "dmn_df = pd.read_csv(url)\n",
    "dmn_df.head(10)"
   ]
  },
  {
   "cell_type": "code",
   "execution_count": 3,
   "id": "fb8b13f6-d923-45e1-b919-ccd729691f21",
   "metadata": {
    "tags": []
   },
   "outputs": [
    {
     "data": {
      "text/plain": [
       "(1000, 24)"
      ]
     },
     "execution_count": 3,
     "metadata": {},
     "output_type": "execute_result"
    }
   ],
   "source": [
    "dmn_df.shape"
   ]
  },
  {
   "cell_type": "code",
   "execution_count": null,
   "id": "fc68ac3a-dc6e-4b82-86d9-d81993c8df70",
   "metadata": {},
   "outputs": [],
   "source": [
    "dmn_df.columns"
   ]
  },
  {
   "cell_type": "code",
   "execution_count": 5,
   "id": "5b71a741-62f3-472d-a925-624eab0277e9",
   "metadata": {
    "tags": []
   },
   "outputs": [
    {
     "data": {
      "text/plain": [
       "Diabetic                       0\n",
       "AlcoholLevel                   0\n",
       "HeartRate                      0\n",
       "BloodOxygenLevel               0\n",
       "BodyTemperature                0\n",
       "Weight                         0\n",
       "MRI_Delay                      0\n",
       "Prescription                 515\n",
       "Dosage in mg                 515\n",
       "Age                            0\n",
       "Education_Level                0\n",
       "Dominant_Hand                  0\n",
       "Gender                         0\n",
       "Family_History                 0\n",
       "Smoking_Status                 0\n",
       "APOE_ε4                        0\n",
       "Physical_Activity              0\n",
       "Depression_Status              0\n",
       "Cognitive_Test_Scores          0\n",
       "Medication_History             0\n",
       "Nutrition_Diet                 0\n",
       "Sleep_Quality                  0\n",
       "Chronic_Health_Conditions    179\n",
       "Dementia                       0\n",
       "dtype: int64"
      ]
     },
     "execution_count": 5,
     "metadata": {},
     "output_type": "execute_result"
    }
   ],
   "source": [
    "dmn_df.isnull().sum()"
   ]
  },
  {
   "cell_type": "code",
   "execution_count": 237,
   "id": "9733da59-7bc8-4b05-8b44-40cd103e625e",
   "metadata": {
    "tags": []
   },
   "outputs": [
    {
     "data": {
      "text/html": [
       "<div>\n",
       "<style scoped>\n",
       "    .dataframe tbody tr th:only-of-type {\n",
       "        vertical-align: middle;\n",
       "    }\n",
       "\n",
       "    .dataframe tbody tr th {\n",
       "        vertical-align: top;\n",
       "    }\n",
       "\n",
       "    .dataframe thead th {\n",
       "        text-align: right;\n",
       "    }\n",
       "</style>\n",
       "<table border=\"1\" class=\"dataframe\">\n",
       "  <thead>\n",
       "    <tr style=\"text-align: right;\">\n",
       "      <th></th>\n",
       "      <th>Diabetic</th>\n",
       "      <th>AlcoholLevel</th>\n",
       "      <th>HeartRate</th>\n",
       "      <th>BloodOxygenLevel</th>\n",
       "      <th>BodyTemperature</th>\n",
       "      <th>Weight</th>\n",
       "      <th>MRI_Delay</th>\n",
       "      <th>Prescription</th>\n",
       "      <th>Dosage in mg</th>\n",
       "      <th>Age</th>\n",
       "      <th>...</th>\n",
       "      <th>Smoking_Status</th>\n",
       "      <th>APOE_ε4</th>\n",
       "      <th>Physical_Activity</th>\n",
       "      <th>Depression_Status</th>\n",
       "      <th>Cognitive_Test_Scores</th>\n",
       "      <th>Medication_History</th>\n",
       "      <th>Nutrition_Diet</th>\n",
       "      <th>Sleep_Quality</th>\n",
       "      <th>Chronic_Health_Conditions</th>\n",
       "      <th>Dementia</th>\n",
       "    </tr>\n",
       "  </thead>\n",
       "  <tbody>\n",
       "    <tr>\n",
       "      <th>0</th>\n",
       "      <td>1</td>\n",
       "      <td>0.084974</td>\n",
       "      <td>98</td>\n",
       "      <td>96.230743</td>\n",
       "      <td>36.224852</td>\n",
       "      <td>57.563978</td>\n",
       "      <td>36.421028</td>\n",
       "      <td>No medication was prescribed</td>\n",
       "      <td>0.0</td>\n",
       "      <td>60</td>\n",
       "      <td>...</td>\n",
       "      <td>Current Smoker</td>\n",
       "      <td>Negative</td>\n",
       "      <td>Sedentary</td>\n",
       "      <td>No</td>\n",
       "      <td>10</td>\n",
       "      <td>No</td>\n",
       "      <td>Low-Carb Diet</td>\n",
       "      <td>Poor</td>\n",
       "      <td>Diabetes</td>\n",
       "      <td>0</td>\n",
       "    </tr>\n",
       "    <tr>\n",
       "      <th>1</th>\n",
       "      <td>0</td>\n",
       "      <td>0.016973</td>\n",
       "      <td>78</td>\n",
       "      <td>93.032122</td>\n",
       "      <td>36.183874</td>\n",
       "      <td>56.832335</td>\n",
       "      <td>31.157633</td>\n",
       "      <td>Galantamine</td>\n",
       "      <td>12.0</td>\n",
       "      <td>61</td>\n",
       "      <td>...</td>\n",
       "      <td>Former Smoker</td>\n",
       "      <td>Positive</td>\n",
       "      <td>Moderate Activity</td>\n",
       "      <td>No</td>\n",
       "      <td>1</td>\n",
       "      <td>Yes</td>\n",
       "      <td>Low-Carb Diet</td>\n",
       "      <td>Poor</td>\n",
       "      <td>Heart Disease</td>\n",
       "      <td>1</td>\n",
       "    </tr>\n",
       "    <tr>\n",
       "      <th>2</th>\n",
       "      <td>0</td>\n",
       "      <td>0.009000</td>\n",
       "      <td>89</td>\n",
       "      <td>93.566504</td>\n",
       "      <td>37.326321</td>\n",
       "      <td>59.759066</td>\n",
       "      <td>37.640435</td>\n",
       "      <td>No medication was prescribed</td>\n",
       "      <td>0.0</td>\n",
       "      <td>69</td>\n",
       "      <td>...</td>\n",
       "      <td>Former Smoker</td>\n",
       "      <td>Negative</td>\n",
       "      <td>Moderate Activity</td>\n",
       "      <td>No</td>\n",
       "      <td>8</td>\n",
       "      <td>No</td>\n",
       "      <td>Mediterranean Diet</td>\n",
       "      <td>Poor</td>\n",
       "      <td>Heart Disease</td>\n",
       "      <td>0</td>\n",
       "    </tr>\n",
       "    <tr>\n",
       "      <th>3</th>\n",
       "      <td>0</td>\n",
       "      <td>0.086437</td>\n",
       "      <td>60</td>\n",
       "      <td>93.906510</td>\n",
       "      <td>37.030620</td>\n",
       "      <td>58.266471</td>\n",
       "      <td>50.673992</td>\n",
       "      <td>Donepezil</td>\n",
       "      <td>23.0</td>\n",
       "      <td>78</td>\n",
       "      <td>...</td>\n",
       "      <td>Never Smoked</td>\n",
       "      <td>Negative</td>\n",
       "      <td>Mild Activity</td>\n",
       "      <td>Yes</td>\n",
       "      <td>5</td>\n",
       "      <td>Yes</td>\n",
       "      <td>Balanced Diet</td>\n",
       "      <td>Poor</td>\n",
       "      <td>Hypertension</td>\n",
       "      <td>1</td>\n",
       "    </tr>\n",
       "    <tr>\n",
       "      <th>4</th>\n",
       "      <td>1</td>\n",
       "      <td>0.150747</td>\n",
       "      <td>67</td>\n",
       "      <td>97.508994</td>\n",
       "      <td>36.062121</td>\n",
       "      <td>67.705027</td>\n",
       "      <td>27.810601</td>\n",
       "      <td>Memantine</td>\n",
       "      <td>20.0</td>\n",
       "      <td>77</td>\n",
       "      <td>...</td>\n",
       "      <td>Never Smoked</td>\n",
       "      <td>Positive</td>\n",
       "      <td>Mild Activity</td>\n",
       "      <td>No</td>\n",
       "      <td>0</td>\n",
       "      <td>Yes</td>\n",
       "      <td>Low-Carb Diet</td>\n",
       "      <td>Good</td>\n",
       "      <td>Diabetes</td>\n",
       "      <td>1</td>\n",
       "    </tr>\n",
       "    <tr>\n",
       "      <th>...</th>\n",
       "      <td>...</td>\n",
       "      <td>...</td>\n",
       "      <td>...</td>\n",
       "      <td>...</td>\n",
       "      <td>...</td>\n",
       "      <td>...</td>\n",
       "      <td>...</td>\n",
       "      <td>...</td>\n",
       "      <td>...</td>\n",
       "      <td>...</td>\n",
       "      <td>...</td>\n",
       "      <td>...</td>\n",
       "      <td>...</td>\n",
       "      <td>...</td>\n",
       "      <td>...</td>\n",
       "      <td>...</td>\n",
       "      <td>...</td>\n",
       "      <td>...</td>\n",
       "      <td>...</td>\n",
       "      <td>...</td>\n",
       "      <td>...</td>\n",
       "    </tr>\n",
       "    <tr>\n",
       "      <th>995</th>\n",
       "      <td>1</td>\n",
       "      <td>0.081825</td>\n",
       "      <td>87</td>\n",
       "      <td>93.851963</td>\n",
       "      <td>36.495134</td>\n",
       "      <td>50.380106</td>\n",
       "      <td>42.318663</td>\n",
       "      <td>Donepezil</td>\n",
       "      <td>10.0</td>\n",
       "      <td>88</td>\n",
       "      <td>...</td>\n",
       "      <td>Never Smoked</td>\n",
       "      <td>Positive</td>\n",
       "      <td>Mild Activity</td>\n",
       "      <td>No</td>\n",
       "      <td>5</td>\n",
       "      <td>No</td>\n",
       "      <td>Balanced Diet</td>\n",
       "      <td>Poor</td>\n",
       "      <td>Diabetes</td>\n",
       "      <td>1</td>\n",
       "    </tr>\n",
       "    <tr>\n",
       "      <th>996</th>\n",
       "      <td>1</td>\n",
       "      <td>0.145249</td>\n",
       "      <td>97</td>\n",
       "      <td>94.522391</td>\n",
       "      <td>36.270804</td>\n",
       "      <td>94.006484</td>\n",
       "      <td>52.812568</td>\n",
       "      <td>No medication was prescribed</td>\n",
       "      <td>0.0</td>\n",
       "      <td>80</td>\n",
       "      <td>...</td>\n",
       "      <td>Never Smoked</td>\n",
       "      <td>Negative</td>\n",
       "      <td>Moderate Activity</td>\n",
       "      <td>No</td>\n",
       "      <td>9</td>\n",
       "      <td>Yes</td>\n",
       "      <td>Low-Carb Diet</td>\n",
       "      <td>Poor</td>\n",
       "      <td>Diabetes</td>\n",
       "      <td>0</td>\n",
       "    </tr>\n",
       "    <tr>\n",
       "      <th>997</th>\n",
       "      <td>1</td>\n",
       "      <td>0.073692</td>\n",
       "      <td>65</td>\n",
       "      <td>98.578388</td>\n",
       "      <td>37.065703</td>\n",
       "      <td>80.088613</td>\n",
       "      <td>13.640229</td>\n",
       "      <td>No medication was prescribed</td>\n",
       "      <td>0.0</td>\n",
       "      <td>67</td>\n",
       "      <td>...</td>\n",
       "      <td>Never Smoked</td>\n",
       "      <td>Positive</td>\n",
       "      <td>Sedentary</td>\n",
       "      <td>No</td>\n",
       "      <td>8</td>\n",
       "      <td>Yes</td>\n",
       "      <td>Balanced Diet</td>\n",
       "      <td>Good</td>\n",
       "      <td>Diabetes</td>\n",
       "      <td>0</td>\n",
       "    </tr>\n",
       "    <tr>\n",
       "      <th>998</th>\n",
       "      <td>0</td>\n",
       "      <td>0.037347</td>\n",
       "      <td>71</td>\n",
       "      <td>91.298580</td>\n",
       "      <td>37.037202</td>\n",
       "      <td>95.322210</td>\n",
       "      <td>17.445715</td>\n",
       "      <td>Memantine</td>\n",
       "      <td>20.0</td>\n",
       "      <td>62</td>\n",
       "      <td>...</td>\n",
       "      <td>Never Smoked</td>\n",
       "      <td>Positive</td>\n",
       "      <td>Sedentary</td>\n",
       "      <td>Yes</td>\n",
       "      <td>2</td>\n",
       "      <td>No</td>\n",
       "      <td>Low-Carb Diet</td>\n",
       "      <td>Good</td>\n",
       "      <td>Not diagnosed with chronic illness</td>\n",
       "      <td>1</td>\n",
       "    </tr>\n",
       "    <tr>\n",
       "      <th>999</th>\n",
       "      <td>0</td>\n",
       "      <td>0.085969</td>\n",
       "      <td>90</td>\n",
       "      <td>95.522825</td>\n",
       "      <td>36.026748</td>\n",
       "      <td>57.671455</td>\n",
       "      <td>30.011838</td>\n",
       "      <td>No medication was prescribed</td>\n",
       "      <td>0.0</td>\n",
       "      <td>80</td>\n",
       "      <td>...</td>\n",
       "      <td>Never Smoked</td>\n",
       "      <td>Positive</td>\n",
       "      <td>Mild Activity</td>\n",
       "      <td>No</td>\n",
       "      <td>10</td>\n",
       "      <td>Yes</td>\n",
       "      <td>Mediterranean Diet</td>\n",
       "      <td>Good</td>\n",
       "      <td>Heart Disease</td>\n",
       "      <td>0</td>\n",
       "    </tr>\n",
       "  </tbody>\n",
       "</table>\n",
       "<p>1000 rows × 24 columns</p>\n",
       "</div>"
      ],
      "text/plain": [
       "     Diabetic  AlcoholLevel  HeartRate  BloodOxygenLevel  BodyTemperature  \\\n",
       "0           1      0.084974         98         96.230743        36.224852   \n",
       "1           0      0.016973         78         93.032122        36.183874   \n",
       "2           0      0.009000         89         93.566504        37.326321   \n",
       "3           0      0.086437         60         93.906510        37.030620   \n",
       "4           1      0.150747         67         97.508994        36.062121   \n",
       "..        ...           ...        ...               ...              ...   \n",
       "995         1      0.081825         87         93.851963        36.495134   \n",
       "996         1      0.145249         97         94.522391        36.270804   \n",
       "997         1      0.073692         65         98.578388        37.065703   \n",
       "998         0      0.037347         71         91.298580        37.037202   \n",
       "999         0      0.085969         90         95.522825        36.026748   \n",
       "\n",
       "        Weight  MRI_Delay                  Prescription  Dosage in mg  Age  \\\n",
       "0    57.563978  36.421028  No medication was prescribed           0.0   60   \n",
       "1    56.832335  31.157633                   Galantamine          12.0   61   \n",
       "2    59.759066  37.640435  No medication was prescribed           0.0   69   \n",
       "3    58.266471  50.673992                     Donepezil          23.0   78   \n",
       "4    67.705027  27.810601                     Memantine          20.0   77   \n",
       "..         ...        ...                           ...           ...  ...   \n",
       "995  50.380106  42.318663                     Donepezil          10.0   88   \n",
       "996  94.006484  52.812568  No medication was prescribed           0.0   80   \n",
       "997  80.088613  13.640229  No medication was prescribed           0.0   67   \n",
       "998  95.322210  17.445715                     Memantine          20.0   62   \n",
       "999  57.671455  30.011838  No medication was prescribed           0.0   80   \n",
       "\n",
       "     ...  Smoking_Status   APOE_ε4  Physical_Activity Depression_Status  \\\n",
       "0    ...  Current Smoker  Negative          Sedentary                No   \n",
       "1    ...   Former Smoker  Positive  Moderate Activity                No   \n",
       "2    ...   Former Smoker  Negative  Moderate Activity                No   \n",
       "3    ...    Never Smoked  Negative      Mild Activity               Yes   \n",
       "4    ...    Never Smoked  Positive      Mild Activity                No   \n",
       "..   ...             ...       ...                ...               ...   \n",
       "995  ...    Never Smoked  Positive      Mild Activity                No   \n",
       "996  ...    Never Smoked  Negative  Moderate Activity                No   \n",
       "997  ...    Never Smoked  Positive          Sedentary                No   \n",
       "998  ...    Never Smoked  Positive          Sedentary               Yes   \n",
       "999  ...    Never Smoked  Positive      Mild Activity                No   \n",
       "\n",
       "    Cognitive_Test_Scores Medication_History      Nutrition_Diet  \\\n",
       "0                      10                 No       Low-Carb Diet   \n",
       "1                       1                Yes       Low-Carb Diet   \n",
       "2                       8                 No  Mediterranean Diet   \n",
       "3                       5                Yes       Balanced Diet   \n",
       "4                       0                Yes       Low-Carb Diet   \n",
       "..                    ...                ...                 ...   \n",
       "995                     5                 No       Balanced Diet   \n",
       "996                     9                Yes       Low-Carb Diet   \n",
       "997                     8                Yes       Balanced Diet   \n",
       "998                     2                 No       Low-Carb Diet   \n",
       "999                    10                Yes  Mediterranean Diet   \n",
       "\n",
       "    Sleep_Quality           Chronic_Health_Conditions Dementia  \n",
       "0            Poor                            Diabetes        0  \n",
       "1            Poor                       Heart Disease        1  \n",
       "2            Poor                       Heart Disease        0  \n",
       "3            Poor                        Hypertension        1  \n",
       "4            Good                            Diabetes        1  \n",
       "..            ...                                 ...      ...  \n",
       "995          Poor                            Diabetes        1  \n",
       "996          Poor                            Diabetes        0  \n",
       "997          Good                            Diabetes        0  \n",
       "998          Good  Not diagnosed with chronic illness        1  \n",
       "999          Good                       Heart Disease        0  \n",
       "\n",
       "[1000 rows x 24 columns]"
      ]
     },
     "execution_count": 237,
     "metadata": {},
     "output_type": "execute_result"
    }
   ],
   "source": [
    "dmn_df['Prescription'].replace(np.nan, \"No medication was prescribed\", inplace=True)\n",
    "dmn_df['Dosage in mg'].replace(np.nan, 0, inplace=True) \n",
    "#אעפ שיש סיכון שההחלפה תווריג\n",
    "dmn_df['Chronic_Health_Conditions'].replace(np.nan, \"Not diagnosed with chronic illness\", inplace=True)\n",
    "dmn_df\n",
    "#dmn_df.isnull().sum()"
   ]
  },
  {
   "cell_type": "markdown",
   "id": "bbc1845b-8326-40f6-8292-58b65d2a634f",
   "metadata": {
    "tags": []
   },
   "source": [
    "דבר ראשון רצינו לראות את התפלגות החולים בקרב הנבדקים:"
   ]
  },
  {
   "cell_type": "code",
   "execution_count": 48,
   "id": "72ebd2ad-0835-43cd-a8c0-01c5a8e43f26",
   "metadata": {
    "tags": []
   },
   "outputs": [
    {
     "data": {
      "application/vnd.plotly.v1+json": {
       "config": {
        "plotlyServerURL": "https://plot.ly"
       },
       "data": [
        {
         "labels": [
          0,
          1
         ],
         "type": "pie",
         "values": [
          515,
          485
         ]
        }
       ],
       "layout": {
        "height": 500,
        "template": {
         "data": {
          "bar": [
           {
            "error_x": {
             "color": "#2a3f5f"
            },
            "error_y": {
             "color": "#2a3f5f"
            },
            "marker": {
             "line": {
              "color": "#E5ECF6",
              "width": 0.5
             },
             "pattern": {
              "fillmode": "overlay",
              "size": 10,
              "solidity": 0.2
             }
            },
            "type": "bar"
           }
          ],
          "barpolar": [
           {
            "marker": {
             "line": {
              "color": "#E5ECF6",
              "width": 0.5
             },
             "pattern": {
              "fillmode": "overlay",
              "size": 10,
              "solidity": 0.2
             }
            },
            "type": "barpolar"
           }
          ],
          "carpet": [
           {
            "aaxis": {
             "endlinecolor": "#2a3f5f",
             "gridcolor": "white",
             "linecolor": "white",
             "minorgridcolor": "white",
             "startlinecolor": "#2a3f5f"
            },
            "baxis": {
             "endlinecolor": "#2a3f5f",
             "gridcolor": "white",
             "linecolor": "white",
             "minorgridcolor": "white",
             "startlinecolor": "#2a3f5f"
            },
            "type": "carpet"
           }
          ],
          "choropleth": [
           {
            "colorbar": {
             "outlinewidth": 0,
             "ticks": ""
            },
            "type": "choropleth"
           }
          ],
          "contour": [
           {
            "colorbar": {
             "outlinewidth": 0,
             "ticks": ""
            },
            "colorscale": [
             [
              0,
              "#0d0887"
             ],
             [
              0.1111111111111111,
              "#46039f"
             ],
             [
              0.2222222222222222,
              "#7201a8"
             ],
             [
              0.3333333333333333,
              "#9c179e"
             ],
             [
              0.4444444444444444,
              "#bd3786"
             ],
             [
              0.5555555555555556,
              "#d8576b"
             ],
             [
              0.6666666666666666,
              "#ed7953"
             ],
             [
              0.7777777777777778,
              "#fb9f3a"
             ],
             [
              0.8888888888888888,
              "#fdca26"
             ],
             [
              1,
              "#f0f921"
             ]
            ],
            "type": "contour"
           }
          ],
          "contourcarpet": [
           {
            "colorbar": {
             "outlinewidth": 0,
             "ticks": ""
            },
            "type": "contourcarpet"
           }
          ],
          "heatmap": [
           {
            "colorbar": {
             "outlinewidth": 0,
             "ticks": ""
            },
            "colorscale": [
             [
              0,
              "#0d0887"
             ],
             [
              0.1111111111111111,
              "#46039f"
             ],
             [
              0.2222222222222222,
              "#7201a8"
             ],
             [
              0.3333333333333333,
              "#9c179e"
             ],
             [
              0.4444444444444444,
              "#bd3786"
             ],
             [
              0.5555555555555556,
              "#d8576b"
             ],
             [
              0.6666666666666666,
              "#ed7953"
             ],
             [
              0.7777777777777778,
              "#fb9f3a"
             ],
             [
              0.8888888888888888,
              "#fdca26"
             ],
             [
              1,
              "#f0f921"
             ]
            ],
            "type": "heatmap"
           }
          ],
          "heatmapgl": [
           {
            "colorbar": {
             "outlinewidth": 0,
             "ticks": ""
            },
            "colorscale": [
             [
              0,
              "#0d0887"
             ],
             [
              0.1111111111111111,
              "#46039f"
             ],
             [
              0.2222222222222222,
              "#7201a8"
             ],
             [
              0.3333333333333333,
              "#9c179e"
             ],
             [
              0.4444444444444444,
              "#bd3786"
             ],
             [
              0.5555555555555556,
              "#d8576b"
             ],
             [
              0.6666666666666666,
              "#ed7953"
             ],
             [
              0.7777777777777778,
              "#fb9f3a"
             ],
             [
              0.8888888888888888,
              "#fdca26"
             ],
             [
              1,
              "#f0f921"
             ]
            ],
            "type": "heatmapgl"
           }
          ],
          "histogram": [
           {
            "marker": {
             "pattern": {
              "fillmode": "overlay",
              "size": 10,
              "solidity": 0.2
             }
            },
            "type": "histogram"
           }
          ],
          "histogram2d": [
           {
            "colorbar": {
             "outlinewidth": 0,
             "ticks": ""
            },
            "colorscale": [
             [
              0,
              "#0d0887"
             ],
             [
              0.1111111111111111,
              "#46039f"
             ],
             [
              0.2222222222222222,
              "#7201a8"
             ],
             [
              0.3333333333333333,
              "#9c179e"
             ],
             [
              0.4444444444444444,
              "#bd3786"
             ],
             [
              0.5555555555555556,
              "#d8576b"
             ],
             [
              0.6666666666666666,
              "#ed7953"
             ],
             [
              0.7777777777777778,
              "#fb9f3a"
             ],
             [
              0.8888888888888888,
              "#fdca26"
             ],
             [
              1,
              "#f0f921"
             ]
            ],
            "type": "histogram2d"
           }
          ],
          "histogram2dcontour": [
           {
            "colorbar": {
             "outlinewidth": 0,
             "ticks": ""
            },
            "colorscale": [
             [
              0,
              "#0d0887"
             ],
             [
              0.1111111111111111,
              "#46039f"
             ],
             [
              0.2222222222222222,
              "#7201a8"
             ],
             [
              0.3333333333333333,
              "#9c179e"
             ],
             [
              0.4444444444444444,
              "#bd3786"
             ],
             [
              0.5555555555555556,
              "#d8576b"
             ],
             [
              0.6666666666666666,
              "#ed7953"
             ],
             [
              0.7777777777777778,
              "#fb9f3a"
             ],
             [
              0.8888888888888888,
              "#fdca26"
             ],
             [
              1,
              "#f0f921"
             ]
            ],
            "type": "histogram2dcontour"
           }
          ],
          "mesh3d": [
           {
            "colorbar": {
             "outlinewidth": 0,
             "ticks": ""
            },
            "type": "mesh3d"
           }
          ],
          "parcoords": [
           {
            "line": {
             "colorbar": {
              "outlinewidth": 0,
              "ticks": ""
             }
            },
            "type": "parcoords"
           }
          ],
          "pie": [
           {
            "automargin": true,
            "type": "pie"
           }
          ],
          "scatter": [
           {
            "fillpattern": {
             "fillmode": "overlay",
             "size": 10,
             "solidity": 0.2
            },
            "type": "scatter"
           }
          ],
          "scatter3d": [
           {
            "line": {
             "colorbar": {
              "outlinewidth": 0,
              "ticks": ""
             }
            },
            "marker": {
             "colorbar": {
              "outlinewidth": 0,
              "ticks": ""
             }
            },
            "type": "scatter3d"
           }
          ],
          "scattercarpet": [
           {
            "marker": {
             "colorbar": {
              "outlinewidth": 0,
              "ticks": ""
             }
            },
            "type": "scattercarpet"
           }
          ],
          "scattergeo": [
           {
            "marker": {
             "colorbar": {
              "outlinewidth": 0,
              "ticks": ""
             }
            },
            "type": "scattergeo"
           }
          ],
          "scattergl": [
           {
            "marker": {
             "colorbar": {
              "outlinewidth": 0,
              "ticks": ""
             }
            },
            "type": "scattergl"
           }
          ],
          "scattermapbox": [
           {
            "marker": {
             "colorbar": {
              "outlinewidth": 0,
              "ticks": ""
             }
            },
            "type": "scattermapbox"
           }
          ],
          "scatterpolar": [
           {
            "marker": {
             "colorbar": {
              "outlinewidth": 0,
              "ticks": ""
             }
            },
            "type": "scatterpolar"
           }
          ],
          "scatterpolargl": [
           {
            "marker": {
             "colorbar": {
              "outlinewidth": 0,
              "ticks": ""
             }
            },
            "type": "scatterpolargl"
           }
          ],
          "scatterternary": [
           {
            "marker": {
             "colorbar": {
              "outlinewidth": 0,
              "ticks": ""
             }
            },
            "type": "scatterternary"
           }
          ],
          "surface": [
           {
            "colorbar": {
             "outlinewidth": 0,
             "ticks": ""
            },
            "colorscale": [
             [
              0,
              "#0d0887"
             ],
             [
              0.1111111111111111,
              "#46039f"
             ],
             [
              0.2222222222222222,
              "#7201a8"
             ],
             [
              0.3333333333333333,
              "#9c179e"
             ],
             [
              0.4444444444444444,
              "#bd3786"
             ],
             [
              0.5555555555555556,
              "#d8576b"
             ],
             [
              0.6666666666666666,
              "#ed7953"
             ],
             [
              0.7777777777777778,
              "#fb9f3a"
             ],
             [
              0.8888888888888888,
              "#fdca26"
             ],
             [
              1,
              "#f0f921"
             ]
            ],
            "type": "surface"
           }
          ],
          "table": [
           {
            "cells": {
             "fill": {
              "color": "#EBF0F8"
             },
             "line": {
              "color": "white"
             }
            },
            "header": {
             "fill": {
              "color": "#C8D4E3"
             },
             "line": {
              "color": "white"
             }
            },
            "type": "table"
           }
          ]
         },
         "layout": {
          "annotationdefaults": {
           "arrowcolor": "#2a3f5f",
           "arrowhead": 0,
           "arrowwidth": 1
          },
          "autotypenumbers": "strict",
          "coloraxis": {
           "colorbar": {
            "outlinewidth": 0,
            "ticks": ""
           }
          },
          "colorscale": {
           "diverging": [
            [
             0,
             "#8e0152"
            ],
            [
             0.1,
             "#c51b7d"
            ],
            [
             0.2,
             "#de77ae"
            ],
            [
             0.3,
             "#f1b6da"
            ],
            [
             0.4,
             "#fde0ef"
            ],
            [
             0.5,
             "#f7f7f7"
            ],
            [
             0.6,
             "#e6f5d0"
            ],
            [
             0.7,
             "#b8e186"
            ],
            [
             0.8,
             "#7fbc41"
            ],
            [
             0.9,
             "#4d9221"
            ],
            [
             1,
             "#276419"
            ]
           ],
           "sequential": [
            [
             0,
             "#0d0887"
            ],
            [
             0.1111111111111111,
             "#46039f"
            ],
            [
             0.2222222222222222,
             "#7201a8"
            ],
            [
             0.3333333333333333,
             "#9c179e"
            ],
            [
             0.4444444444444444,
             "#bd3786"
            ],
            [
             0.5555555555555556,
             "#d8576b"
            ],
            [
             0.6666666666666666,
             "#ed7953"
            ],
            [
             0.7777777777777778,
             "#fb9f3a"
            ],
            [
             0.8888888888888888,
             "#fdca26"
            ],
            [
             1,
             "#f0f921"
            ]
           ],
           "sequentialminus": [
            [
             0,
             "#0d0887"
            ],
            [
             0.1111111111111111,
             "#46039f"
            ],
            [
             0.2222222222222222,
             "#7201a8"
            ],
            [
             0.3333333333333333,
             "#9c179e"
            ],
            [
             0.4444444444444444,
             "#bd3786"
            ],
            [
             0.5555555555555556,
             "#d8576b"
            ],
            [
             0.6666666666666666,
             "#ed7953"
            ],
            [
             0.7777777777777778,
             "#fb9f3a"
            ],
            [
             0.8888888888888888,
             "#fdca26"
            ],
            [
             1,
             "#f0f921"
            ]
           ]
          },
          "colorway": [
           "#636efa",
           "#EF553B",
           "#00cc96",
           "#ab63fa",
           "#FFA15A",
           "#19d3f3",
           "#FF6692",
           "#B6E880",
           "#FF97FF",
           "#FECB52"
          ],
          "font": {
           "color": "#2a3f5f"
          },
          "geo": {
           "bgcolor": "white",
           "lakecolor": "white",
           "landcolor": "#E5ECF6",
           "showlakes": true,
           "showland": true,
           "subunitcolor": "white"
          },
          "hoverlabel": {
           "align": "left"
          },
          "hovermode": "closest",
          "mapbox": {
           "style": "light"
          },
          "paper_bgcolor": "white",
          "plot_bgcolor": "#E5ECF6",
          "polar": {
           "angularaxis": {
            "gridcolor": "white",
            "linecolor": "white",
            "ticks": ""
           },
           "bgcolor": "#E5ECF6",
           "radialaxis": {
            "gridcolor": "white",
            "linecolor": "white",
            "ticks": ""
           }
          },
          "scene": {
           "xaxis": {
            "backgroundcolor": "#E5ECF6",
            "gridcolor": "white",
            "gridwidth": 2,
            "linecolor": "white",
            "showbackground": true,
            "ticks": "",
            "zerolinecolor": "white"
           },
           "yaxis": {
            "backgroundcolor": "#E5ECF6",
            "gridcolor": "white",
            "gridwidth": 2,
            "linecolor": "white",
            "showbackground": true,
            "ticks": "",
            "zerolinecolor": "white"
           },
           "zaxis": {
            "backgroundcolor": "#E5ECF6",
            "gridcolor": "white",
            "gridwidth": 2,
            "linecolor": "white",
            "showbackground": true,
            "ticks": "",
            "zerolinecolor": "white"
           }
          },
          "shapedefaults": {
           "line": {
            "color": "#2a3f5f"
           }
          },
          "ternary": {
           "aaxis": {
            "gridcolor": "white",
            "linecolor": "white",
            "ticks": ""
           },
           "baxis": {
            "gridcolor": "white",
            "linecolor": "white",
            "ticks": ""
           },
           "bgcolor": "#E5ECF6",
           "caxis": {
            "gridcolor": "white",
            "linecolor": "white",
            "ticks": ""
           }
          },
          "title": {
           "x": 0.05
          },
          "xaxis": {
           "automargin": true,
           "gridcolor": "white",
           "linecolor": "white",
           "ticks": "",
           "title": {
            "standoff": 15
           },
           "zerolinecolor": "white",
           "zerolinewidth": 2
          },
          "yaxis": {
           "automargin": true,
           "gridcolor": "white",
           "linecolor": "white",
           "ticks": "",
           "title": {
            "standoff": 15
           },
           "zerolinecolor": "white",
           "zerolinewidth": 2
          }
         }
        },
        "title": {
         "text": "Dementia among the subjects"
        },
        "width": 700
       }
      },
      "image/png": "[encoded data removed]",
      "text/html": [
       "<div>                            <div id=\"1fd077a0-4a83-441d-82f0-bc1477167d21\" class=\"plotly-graph-div\" style=\"height:500px; width:700px;\"></div>            <script type=\"text/javascript\">                require([\"plotly\"], function(Plotly) {                    window.PLOTLYENV=window.PLOTLYENV || {};                                    if (document.getElementById(\"1fd077a0-4a83-441d-82f0-bc1477167d21\")) {                    Plotly.newPlot(                        \"1fd077a0-4a83-441d-82f0-bc1477167d21\",                        [{\"labels\":[0,1],\"values\":[515,485],\"type\":\"pie\"}],                        {\"template\":{\"data\":{\"histogram2dcontour\":[{\"type\":\"histogram2dcontour\",\"colorbar\":{\"outlinewidth\":0,\"ticks\":\"\"},\"colorscale\":[[0.0,\"#0d0887\"],[0.1111111111111111,\"#46039f\"],[0.2222222222222222,\"#7201a8\"],[0.3333333333333333,\"#9c179e\"],[0.4444444444444444,\"#bd3786\"],[0.5555555555555556,\"#d8576b\"],[0.6666666666666666,\"#ed7953\"],[0.7777777777777778,\"#fb9f3a\"],[0.8888888888888888,\"#fdca26\"],[1.0,\"#f0f921\"]]}],\"choropleth\":[{\"type\":\"choropleth\",\"colorbar\":{\"outlinewidth\":0,\"ticks\":\"\"}}],\"histogram2d\":[{\"type\":\"histogram2d\",\"colorbar\":{\"outlinewidth\":0,\"ticks\":\"\"},\"colorscale\":[[0.0,\"#0d0887\"],[0.1111111111111111,\"#46039f\"],[0.2222222222222222,\"#7201a8\"],[0.3333333333333333,\"#9c179e\"],[0.4444444444444444,\"#bd3786\"],[0.5555555555555556,\"#d8576b\"],[0.6666666666666666,\"#ed7953\"],[0.7777777777777778,\"#fb9f3a\"],[0.8888888888888888,\"#fdca26\"],[1.0,\"#f0f921\"]]}],\"heatmap\":[{\"type\":\"heatmap\",\"colorbar\":{\"outlinewidth\":0,\"ticks\":\"\"},\"colorscale\":[[0.0,\"#0d0887\"],[0.1111111111111111,\"#46039f\"],[0.2222222222222222,\"#7201a8\"],[0.3333333333333333,\"#9c179e\"],[0.4444444444444444,\"#bd3786\"],[0.5555555555555556,\"#d8576b\"],[0.6666666666666666,\"#ed7953\"],[0.7777777777777778,\"#fb9f3a\"],[0.8888888888888888,\"#fdca26\"],[1.0,\"#f0f921\"]]}],\"heatmapgl\":[{\"type\":\"heatmapgl\",\"colorbar\":{\"outlinewidth\":0,\"ticks\":\"\"},\"colorscale\":[[0.0,\"#0d0887\"],[0.1111111111111111,\"#46039f\"],[0.2222222222222222,\"#7201a8\"],[0.3333333333333333,\"#9c179e\"],[0.4444444444444444,\"#bd3786\"],[0.5555555555555556,\"#d8576b\"],[0.6666666666666666,\"#ed7953\"],[0.7777777777777778,\"#fb9f3a\"],[0.8888888888888888,\"#fdca26\"],[1.0,\"#f0f921\"]]}],\"contourcarpet\":[{\"type\":\"contourcarpet\",\"colorbar\":{\"outlinewidth\":0,\"ticks\":\"\"}}],\"contour\":[{\"type\":\"contour\",\"colorbar\":{\"outlinewidth\":0,\"ticks\":\"\"},\"colorscale\":[[0.0,\"#0d0887\"],[0.1111111111111111,\"#46039f\"],[0.2222222222222222,\"#7201a8\"],[0.3333333333333333,\"#9c179e\"],[0.4444444444444444,\"#bd3786\"],[0.5555555555555556,\"#d8576b\"],[0.6666666666666666,\"#ed7953\"],[0.7777777777777778,\"#fb9f3a\"],[0.8888888888888888,\"#fdca26\"],[1.0,\"#f0f921\"]]}],\"surface\":[{\"type\":\"surface\",\"colorbar\":{\"outlinewidth\":0,\"ticks\":\"\"},\"colorscale\":[[0.0,\"#0d0887\"],[0.1111111111111111,\"#46039f\"],[0.2222222222222222,\"#7201a8\"],[0.3333333333333333,\"#9c179e\"],[0.4444444444444444,\"#bd3786\"],[0.5555555555555556,\"#d8576b\"],[0.6666666666666666,\"#ed7953\"],[0.7777777777777778,\"#fb9f3a\"],[0.8888888888888888,\"#fdca26\"],[1.0,\"#f0f921\"]]}],\"mesh3d\":[{\"type\":\"mesh3d\",\"colorbar\":{\"outlinewidth\":0,\"ticks\":\"\"}}],\"scatter\":[{\"fillpattern\":{\"fillmode\":\"overlay\",\"size\":10,\"solidity\":0.2},\"type\":\"scatter\"}],\"parcoords\":[{\"type\":\"parcoords\",\"line\":{\"colorbar\":{\"outlinewidth\":0,\"ticks\":\"\"}}}],\"scatterpolargl\":[{\"type\":\"scatterpolargl\",\"marker\":{\"colorbar\":{\"outlinewidth\":0,\"ticks\":\"\"}}}],\"bar\":[{\"error_x\":{\"color\":\"#2a3f5f\"},\"error_y\":{\"color\":\"#2a3f5f\"},\"marker\":{\"line\":{\"color\":\"#E5ECF6\",\"width\":0.5},\"pattern\":{\"fillmode\":\"overlay\",\"size\":10,\"solidity\":0.2}},\"type\":\"bar\"}],\"scattergeo\":[{\"type\":\"scattergeo\",\"marker\":{\"colorbar\":{\"outlinewidth\":0,\"ticks\":\"\"}}}],\"scatterpolar\":[{\"type\":\"scatterpolar\",\"marker\":{\"colorbar\":{\"outlinewidth\":0,\"ticks\":\"\"}}}],\"histogram\":[{\"marker\":{\"pattern\":{\"fillmode\":\"overlay\",\"size\":10,\"solidity\":0.2}},\"type\":\"histogram\"}],\"scattergl\":[{\"type\":\"scattergl\",\"marker\":{\"colorbar\":{\"outlinewidth\":0,\"ticks\":\"\"}}}],\"scatter3d\":[{\"type\":\"scatter3d\",\"line\":{\"colorbar\":{\"outlinewidth\":0,\"ticks\":\"\"}},\"marker\":{\"colorbar\":{\"outlinewidth\":0,\"ticks\":\"\"}}}],\"scattermapbox\":[{\"type\":\"scattermapbox\",\"marker\":{\"colorbar\":{\"outlinewidth\":0,\"ticks\":\"\"}}}],\"scatterternary\":[{\"type\":\"scatterternary\",\"marker\":{\"colorbar\":{\"outlinewidth\":0,\"ticks\":\"\"}}}],\"scattercarpet\":[{\"type\":\"scattercarpet\",\"marker\":{\"colorbar\":{\"outlinewidth\":0,\"ticks\":\"\"}}}],\"carpet\":[{\"aaxis\":{\"endlinecolor\":\"#2a3f5f\",\"gridcolor\":\"white\",\"linecolor\":\"white\",\"minorgridcolor\":\"white\",\"startlinecolor\":\"#2a3f5f\"},\"baxis\":{\"endlinecolor\":\"#2a3f5f\",\"gridcolor\":\"white\",\"linecolor\":\"white\",\"minorgridcolor\":\"white\",\"startlinecolor\":\"#2a3f5f\"},\"type\":\"carpet\"}],\"table\":[{\"cells\":{\"fill\":{\"color\":\"#EBF0F8\"},\"line\":{\"color\":\"white\"}},\"header\":{\"fill\":{\"color\":\"#C8D4E3\"},\"line\":{\"color\":\"white\"}},\"type\":\"table\"}],\"barpolar\":[{\"marker\":{\"line\":{\"color\":\"#E5ECF6\",\"width\":0.5},\"pattern\":{\"fillmode\":\"overlay\",\"size\":10,\"solidity\":0.2}},\"type\":\"barpolar\"}],\"pie\":[{\"automargin\":true,\"type\":\"pie\"}]},\"layout\":{\"autotypenumbers\":\"strict\",\"colorway\":[\"#636efa\",\"#EF553B\",\"#00cc96\",\"#ab63fa\",\"#FFA15A\",\"#19d3f3\",\"#FF6692\",\"#B6E880\",\"#FF97FF\",\"#FECB52\"],\"font\":{\"color\":\"#2a3f5f\"},\"hovermode\":\"closest\",\"hoverlabel\":{\"align\":\"left\"},\"paper_bgcolor\":\"white\",\"plot_bgcolor\":\"#E5ECF6\",\"polar\":{\"bgcolor\":\"#E5ECF6\",\"angularaxis\":{\"gridcolor\":\"white\",\"linecolor\":\"white\",\"ticks\":\"\"},\"radialaxis\":{\"gridcolor\":\"white\",\"linecolor\":\"white\",\"ticks\":\"\"}},\"ternary\":{\"bgcolor\":\"#E5ECF6\",\"aaxis\":{\"gridcolor\":\"white\",\"linecolor\":\"white\",\"ticks\":\"\"},\"baxis\":{\"gridcolor\":\"white\",\"linecolor\":\"white\",\"ticks\":\"\"},\"caxis\":{\"gridcolor\":\"white\",\"linecolor\":\"white\",\"ticks\":\"\"}},\"coloraxis\":{\"colorbar\":{\"outlinewidth\":0,\"ticks\":\"\"}},\"colorscale\":{\"sequential\":[[0.0,\"#0d0887\"],[0.1111111111111111,\"#46039f\"],[0.2222222222222222,\"#7201a8\"],[0.3333333333333333,\"#9c179e\"],[0.4444444444444444,\"#bd3786\"],[0.5555555555555556,\"#d8576b\"],[0.6666666666666666,\"#ed7953\"],[0.7777777777777778,\"#fb9f3a\"],[0.8888888888888888,\"#fdca26\"],[1.0,\"#f0f921\"]],\"sequentialminus\":[[0.0,\"#0d0887\"],[0.1111111111111111,\"#46039f\"],[0.2222222222222222,\"#7201a8\"],[0.3333333333333333,\"#9c179e\"],[0.4444444444444444,\"#bd3786\"],[0.5555555555555556,\"#d8576b\"],[0.6666666666666666,\"#ed7953\"],[0.7777777777777778,\"#fb9f3a\"],[0.8888888888888888,\"#fdca26\"],[1.0,\"#f0f921\"]],\"diverging\":[[0,\"#8e0152\"],[0.1,\"#c51b7d\"],[0.2,\"#de77ae\"],[0.3,\"#f1b6da\"],[0.4,\"#fde0ef\"],[0.5,\"#f7f7f7\"],[0.6,\"#e6f5d0\"],[0.7,\"#b8e186\"],[0.8,\"#7fbc41\"],[0.9,\"#4d9221\"],[1,\"#276419\"]]},\"xaxis\":{\"gridcolor\":\"white\",\"linecolor\":\"white\",\"ticks\":\"\",\"title\":{\"standoff\":15},\"zerolinecolor\":\"white\",\"automargin\":true,\"zerolinewidth\":2},\"yaxis\":{\"gridcolor\":\"white\",\"linecolor\":\"white\",\"ticks\":\"\",\"title\":{\"standoff\":15},\"zerolinecolor\":\"white\",\"automargin\":true,\"zerolinewidth\":2},\"scene\":{\"xaxis\":{\"backgroundcolor\":\"#E5ECF6\",\"gridcolor\":\"white\",\"linecolor\":\"white\",\"showbackground\":true,\"ticks\":\"\",\"zerolinecolor\":\"white\",\"gridwidth\":2},\"yaxis\":{\"backgroundcolor\":\"#E5ECF6\",\"gridcolor\":\"white\",\"linecolor\":\"white\",\"showbackground\":true,\"ticks\":\"\",\"zerolinecolor\":\"white\",\"gridwidth\":2},\"zaxis\":{\"backgroundcolor\":\"#E5ECF6\",\"gridcolor\":\"white\",\"linecolor\":\"white\",\"showbackground\":true,\"ticks\":\"\",\"zerolinecolor\":\"white\",\"gridwidth\":2}},\"shapedefaults\":{\"line\":{\"color\":\"#2a3f5f\"}},\"annotationdefaults\":{\"arrowcolor\":\"#2a3f5f\",\"arrowhead\":0,\"arrowwidth\":1},\"geo\":{\"bgcolor\":\"white\",\"landcolor\":\"#E5ECF6\",\"subunitcolor\":\"white\",\"showland\":true,\"showlakes\":true,\"lakecolor\":\"white\"},\"title\":{\"x\":0.05},\"mapbox\":{\"style\":\"light\"}}},\"width\":700,\"height\":500,\"title\":{\"text\":\"Dementia among the subjects\"}},                        {\"responsive\": true}                    ).then(function(){\n",
       "                            \n",
       "var gd = document.getElementById('1fd077a0-4a83-441d-82f0-bc1477167d21');\n",
       "var x = new MutationObserver(function (mutations, observer) {{\n",
       "        var display = window.getComputedStyle(gd).display;\n",
       "        if (!display || display === 'none') {{\n",
       "            console.log([gd, 'removed!']);\n",
       "            Plotly.purge(gd);\n",
       "            observer.disconnect();\n",
       "        }}\n",
       "}});\n",
       "\n",
       "// Listen for the removal of the full notebook cells\n",
       "var notebookContainer = gd.closest('#notebook-container');\n",
       "if (notebookContainer) {{\n",
       "    x.observe(notebookContainer, {childList: true});\n",
       "}}\n",
       "\n",
       "// Listen for the clearing of the current output cell\n",
       "var outputEl = gd.closest('.output');\n",
       "if (outputEl) {{\n",
       "    x.observe(outputEl, {childList: true});\n",
       "}}\n",
       "\n",
       "                        })                };                });            </script>        </div>"
      ]
     },
     "metadata": {},
     "output_type": "display_data"
    }
   ],
   "source": [
    "dementia_counts = dmn_df['Dementia'].value_counts()\n",
    "fig = go.Figure(data=[go.Pie(labels=dementia_counts.index, values=dementia_counts)])\n",
    "fig.update_layout(width=700, height=500)\n",
    "fig.update_layout(title='Dementia among the subjects')\n",
    "fig.show()"
   ]
  },
  {
   "cell_type": "markdown",
   "id": "c394b5fb-b4b8-4d70-8624-f339fc6ad217",
   "metadata": {},
   "source": [
    "רצינו בתור התחלה לעשות קורלציה לכל הדאטה, על מנת לראות קשרים בין הנתונים ולבחור במה להתעמק ולהתמקד: "
   ]
  },
  {
   "cell_type": "code",
   "execution_count": 238,
   "id": "2085f309-ccf1-4554-9a0b-1e70a9339a87",
   "metadata": {
    "tags": []
   },
   "outputs": [
    {
     "data": {
      "text/plain": [
       "<Axes: >"
      ]
     },
     "execution_count": 238,
     "metadata": {},
     "output_type": "execute_result"
    },
    {
     "data": {
      "image/png": "[encoded data removed]",
      "text/plain": [
       "<Figure size 2000x1000 with 2 Axes>"
      ]
     },
     "metadata": {},
     "output_type": "display_data"
    }
   ],
   "source": [
    "corrs= dmn_df.corr(method= 'kendall', numeric_only= True)\n",
    "plt.figure(figsize=(20,10))\n",
    "sns.heatmap(corrs, cmap= 'coolwarm', center= 0, annot = True)\n"
   ]
  },
  {
   "cell_type": "markdown",
   "id": "32995f37-36a3-4911-a198-2a709ca8c37f",
   "metadata": {
    "tags": []
   },
   "source": [
    "נשתמש בפונקציית get_dummies כדי לבדוק קולציה גם ביו העמודות הלא נומריות"
   ]
  },
  {
   "cell_type": "code",
   "execution_count": 16,
   "id": "960f4725-1ce2-4218-8c27-0263161c3582",
   "metadata": {
    "tags": []
   },
   "outputs": [
    {
     "data": {
      "text/html": [
       "<div>\n",
       "<style scoped>\n",
       "    .dataframe tbody tr th:only-of-type {\n",
       "        vertical-align: middle;\n",
       "    }\n",
       "\n",
       "    .dataframe tbody tr th {\n",
       "        vertical-align: top;\n",
       "    }\n",
       "\n",
       "    .dataframe thead th {\n",
       "        text-align: right;\n",
       "    }\n",
       "</style>\n",
       "<table border=\"1\" class=\"dataframe\">\n",
       "  <thead>\n",
       "    <tr style=\"text-align: right;\">\n",
       "      <th></th>\n",
       "      <th>Diabetic</th>\n",
       "      <th>AlcoholLevel</th>\n",
       "      <th>HeartRate</th>\n",
       "      <th>BloodOxygenLevel</th>\n",
       "      <th>BodyTemperature</th>\n",
       "      <th>Weight</th>\n",
       "      <th>MRI_Delay</th>\n",
       "      <th>Dosage in mg</th>\n",
       "      <th>Age</th>\n",
       "      <th>Cognitive_Test_Scores</th>\n",
       "      <th>...</th>\n",
       "      <th>Medication_History_Yes</th>\n",
       "      <th>Nutrition_Diet_Balanced Diet</th>\n",
       "      <th>Nutrition_Diet_Low-Carb Diet</th>\n",
       "      <th>Nutrition_Diet_Mediterranean Diet</th>\n",
       "      <th>Sleep_Quality_Good</th>\n",
       "      <th>Sleep_Quality_Poor</th>\n",
       "      <th>Chronic_Health_Conditions_Diabetes</th>\n",
       "      <th>Chronic_Health_Conditions_Heart Disease</th>\n",
       "      <th>Chronic_Health_Conditions_Hypertension</th>\n",
       "      <th>Chronic_Health_Conditions_Not diagnosed with chronic illness</th>\n",
       "    </tr>\n",
       "  </thead>\n",
       "  <tbody>\n",
       "    <tr>\n",
       "      <th>0</th>\n",
       "      <td>1</td>\n",
       "      <td>0.084974</td>\n",
       "      <td>98</td>\n",
       "      <td>96.230743</td>\n",
       "      <td>36.224852</td>\n",
       "      <td>57.563978</td>\n",
       "      <td>36.421028</td>\n",
       "      <td>0.0</td>\n",
       "      <td>60</td>\n",
       "      <td>10</td>\n",
       "      <td>...</td>\n",
       "      <td>False</td>\n",
       "      <td>False</td>\n",
       "      <td>True</td>\n",
       "      <td>False</td>\n",
       "      <td>False</td>\n",
       "      <td>True</td>\n",
       "      <td>True</td>\n",
       "      <td>False</td>\n",
       "      <td>False</td>\n",
       "      <td>False</td>\n",
       "    </tr>\n",
       "    <tr>\n",
       "      <th>1</th>\n",
       "      <td>0</td>\n",
       "      <td>0.016973</td>\n",
       "      <td>78</td>\n",
       "      <td>93.032122</td>\n",
       "      <td>36.183874</td>\n",
       "      <td>56.832335</td>\n",
       "      <td>31.157633</td>\n",
       "      <td>12.0</td>\n",
       "      <td>61</td>\n",
       "      <td>1</td>\n",
       "      <td>...</td>\n",
       "      <td>True</td>\n",
       "      <td>False</td>\n",
       "      <td>True</td>\n",
       "      <td>False</td>\n",
       "      <td>False</td>\n",
       "      <td>True</td>\n",
       "      <td>False</td>\n",
       "      <td>True</td>\n",
       "      <td>False</td>\n",
       "      <td>False</td>\n",
       "    </tr>\n",
       "    <tr>\n",
       "      <th>2</th>\n",
       "      <td>0</td>\n",
       "      <td>0.009000</td>\n",
       "      <td>89</td>\n",
       "      <td>93.566504</td>\n",
       "      <td>37.326321</td>\n",
       "      <td>59.759066</td>\n",
       "      <td>37.640435</td>\n",
       "      <td>0.0</td>\n",
       "      <td>69</td>\n",
       "      <td>8</td>\n",
       "      <td>...</td>\n",
       "      <td>False</td>\n",
       "      <td>False</td>\n",
       "      <td>False</td>\n",
       "      <td>True</td>\n",
       "      <td>False</td>\n",
       "      <td>True</td>\n",
       "      <td>False</td>\n",
       "      <td>True</td>\n",
       "      <td>False</td>\n",
       "      <td>False</td>\n",
       "    </tr>\n",
       "    <tr>\n",
       "      <th>3</th>\n",
       "      <td>0</td>\n",
       "      <td>0.086437</td>\n",
       "      <td>60</td>\n",
       "      <td>93.906510</td>\n",
       "      <td>37.030620</td>\n",
       "      <td>58.266471</td>\n",
       "      <td>50.673992</td>\n",
       "      <td>23.0</td>\n",
       "      <td>78</td>\n",
       "      <td>5</td>\n",
       "      <td>...</td>\n",
       "      <td>True</td>\n",
       "      <td>True</td>\n",
       "      <td>False</td>\n",
       "      <td>False</td>\n",
       "      <td>False</td>\n",
       "      <td>True</td>\n",
       "      <td>False</td>\n",
       "      <td>False</td>\n",
       "      <td>True</td>\n",
       "      <td>False</td>\n",
       "    </tr>\n",
       "    <tr>\n",
       "      <th>4</th>\n",
       "      <td>1</td>\n",
       "      <td>0.150747</td>\n",
       "      <td>67</td>\n",
       "      <td>97.508994</td>\n",
       "      <td>36.062121</td>\n",
       "      <td>67.705027</td>\n",
       "      <td>27.810601</td>\n",
       "      <td>20.0</td>\n",
       "      <td>77</td>\n",
       "      <td>0</td>\n",
       "      <td>...</td>\n",
       "      <td>True</td>\n",
       "      <td>False</td>\n",
       "      <td>True</td>\n",
       "      <td>False</td>\n",
       "      <td>True</td>\n",
       "      <td>False</td>\n",
       "      <td>True</td>\n",
       "      <td>False</td>\n",
       "      <td>False</td>\n",
       "      <td>False</td>\n",
       "    </tr>\n",
       "    <tr>\n",
       "      <th>...</th>\n",
       "      <td>...</td>\n",
       "      <td>...</td>\n",
       "      <td>...</td>\n",
       "      <td>...</td>\n",
       "      <td>...</td>\n",
       "      <td>...</td>\n",
       "      <td>...</td>\n",
       "      <td>...</td>\n",
       "      <td>...</td>\n",
       "      <td>...</td>\n",
       "      <td>...</td>\n",
       "      <td>...</td>\n",
       "      <td>...</td>\n",
       "      <td>...</td>\n",
       "      <td>...</td>\n",
       "      <td>...</td>\n",
       "      <td>...</td>\n",
       "      <td>...</td>\n",
       "      <td>...</td>\n",
       "      <td>...</td>\n",
       "      <td>...</td>\n",
       "    </tr>\n",
       "    <tr>\n",
       "      <th>995</th>\n",
       "      <td>1</td>\n",
       "      <td>0.081825</td>\n",
       "      <td>87</td>\n",
       "      <td>93.851963</td>\n",
       "      <td>36.495134</td>\n",
       "      <td>50.380106</td>\n",
       "      <td>42.318663</td>\n",
       "      <td>10.0</td>\n",
       "      <td>88</td>\n",
       "      <td>5</td>\n",
       "      <td>...</td>\n",
       "      <td>False</td>\n",
       "      <td>True</td>\n",
       "      <td>False</td>\n",
       "      <td>False</td>\n",
       "      <td>False</td>\n",
       "      <td>True</td>\n",
       "      <td>True</td>\n",
       "      <td>False</td>\n",
       "      <td>False</td>\n",
       "      <td>False</td>\n",
       "    </tr>\n",
       "    <tr>\n",
       "      <th>996</th>\n",
       "      <td>1</td>\n",
       "      <td>0.145249</td>\n",
       "      <td>97</td>\n",
       "      <td>94.522391</td>\n",
       "      <td>36.270804</td>\n",
       "      <td>94.006484</td>\n",
       "      <td>52.812568</td>\n",
       "      <td>0.0</td>\n",
       "      <td>80</td>\n",
       "      <td>9</td>\n",
       "      <td>...</td>\n",
       "      <td>True</td>\n",
       "      <td>False</td>\n",
       "      <td>True</td>\n",
       "      <td>False</td>\n",
       "      <td>False</td>\n",
       "      <td>True</td>\n",
       "      <td>True</td>\n",
       "      <td>False</td>\n",
       "      <td>False</td>\n",
       "      <td>False</td>\n",
       "    </tr>\n",
       "    <tr>\n",
       "      <th>997</th>\n",
       "      <td>1</td>\n",
       "      <td>0.073692</td>\n",
       "      <td>65</td>\n",
       "      <td>98.578388</td>\n",
       "      <td>37.065703</td>\n",
       "      <td>80.088613</td>\n",
       "      <td>13.640229</td>\n",
       "      <td>0.0</td>\n",
       "      <td>67</td>\n",
       "      <td>8</td>\n",
       "      <td>...</td>\n",
       "      <td>True</td>\n",
       "      <td>True</td>\n",
       "      <td>False</td>\n",
       "      <td>False</td>\n",
       "      <td>True</td>\n",
       "      <td>False</td>\n",
       "      <td>True</td>\n",
       "      <td>False</td>\n",
       "      <td>False</td>\n",
       "      <td>False</td>\n",
       "    </tr>\n",
       "    <tr>\n",
       "      <th>998</th>\n",
       "      <td>0</td>\n",
       "      <td>0.037347</td>\n",
       "      <td>71</td>\n",
       "      <td>91.298580</td>\n",
       "      <td>37.037202</td>\n",
       "      <td>95.322210</td>\n",
       "      <td>17.445715</td>\n",
       "      <td>20.0</td>\n",
       "      <td>62</td>\n",
       "      <td>2</td>\n",
       "      <td>...</td>\n",
       "      <td>False</td>\n",
       "      <td>False</td>\n",
       "      <td>True</td>\n",
       "      <td>False</td>\n",
       "      <td>True</td>\n",
       "      <td>False</td>\n",
       "      <td>False</td>\n",
       "      <td>False</td>\n",
       "      <td>False</td>\n",
       "      <td>True</td>\n",
       "    </tr>\n",
       "    <tr>\n",
       "      <th>999</th>\n",
       "      <td>0</td>\n",
       "      <td>0.085969</td>\n",
       "      <td>90</td>\n",
       "      <td>95.522825</td>\n",
       "      <td>36.026748</td>\n",
       "      <td>57.671455</td>\n",
       "      <td>30.011838</td>\n",
       "      <td>0.0</td>\n",
       "      <td>80</td>\n",
       "      <td>10</td>\n",
       "      <td>...</td>\n",
       "      <td>True</td>\n",
       "      <td>False</td>\n",
       "      <td>False</td>\n",
       "      <td>True</td>\n",
       "      <td>True</td>\n",
       "      <td>False</td>\n",
       "      <td>False</td>\n",
       "      <td>True</td>\n",
       "      <td>False</td>\n",
       "      <td>False</td>\n",
       "    </tr>\n",
       "  </tbody>\n",
       "</table>\n",
       "<p>1000 rows × 47 columns</p>\n",
       "</div>"
      ],
      "text/plain": [
       "     Diabetic  AlcoholLevel  HeartRate  BloodOxygenLevel  BodyTemperature  \\\n",
       "0           1      0.084974         98         96.230743        36.224852   \n",
       "1           0      0.016973         78         93.032122        36.183874   \n",
       "2           0      0.009000         89         93.566504        37.326321   \n",
       "3           0      0.086437         60         93.906510        37.030620   \n",
       "4           1      0.150747         67         97.508994        36.062121   \n",
       "..        ...           ...        ...               ...              ...   \n",
       "995         1      0.081825         87         93.851963        36.495134   \n",
       "996         1      0.145249         97         94.522391        36.270804   \n",
       "997         1      0.073692         65         98.578388        37.065703   \n",
       "998         0      0.037347         71         91.298580        37.037202   \n",
       "999         0      0.085969         90         95.522825        36.026748   \n",
       "\n",
       "        Weight  MRI_Delay  Dosage in mg  Age  Cognitive_Test_Scores  ...  \\\n",
       "0    57.563978  36.421028           0.0   60                     10  ...   \n",
       "1    56.832335  31.157633          12.0   61                      1  ...   \n",
       "2    59.759066  37.640435           0.0   69                      8  ...   \n",
       "3    58.266471  50.673992          23.0   78                      5  ...   \n",
       "4    67.705027  27.810601          20.0   77                      0  ...   \n",
       "..         ...        ...           ...  ...                    ...  ...   \n",
       "995  50.380106  42.318663          10.0   88                      5  ...   \n",
       "996  94.006484  52.812568           0.0   80                      9  ...   \n",
       "997  80.088613  13.640229           0.0   67                      8  ...   \n",
       "998  95.322210  17.445715          20.0   62                      2  ...   \n",
       "999  57.671455  30.011838           0.0   80                     10  ...   \n",
       "\n",
       "     Medication_History_Yes  Nutrition_Diet_Balanced Diet  \\\n",
       "0                     False                         False   \n",
       "1                      True                         False   \n",
       "2                     False                         False   \n",
       "3                      True                          True   \n",
       "4                      True                         False   \n",
       "..                      ...                           ...   \n",
       "995                   False                          True   \n",
       "996                    True                         False   \n",
       "997                    True                          True   \n",
       "998                   False                         False   \n",
       "999                    True                         False   \n",
       "\n",
       "     Nutrition_Diet_Low-Carb Diet  Nutrition_Diet_Mediterranean Diet  \\\n",
       "0                            True                              False   \n",
       "1                            True                              False   \n",
       "2                           False                               True   \n",
       "3                           False                              False   \n",
       "4                            True                              False   \n",
       "..                            ...                                ...   \n",
       "995                         False                              False   \n",
       "996                          True                              False   \n",
       "997                         False                              False   \n",
       "998                          True                              False   \n",
       "999                         False                               True   \n",
       "\n",
       "     Sleep_Quality_Good  Sleep_Quality_Poor  \\\n",
       "0                 False                True   \n",
       "1                 False                True   \n",
       "2                 False                True   \n",
       "3                 False                True   \n",
       "4                  True               False   \n",
       "..                  ...                 ...   \n",
       "995               False                True   \n",
       "996               False                True   \n",
       "997                True               False   \n",
       "998                True               False   \n",
       "999                True               False   \n",
       "\n",
       "     Chronic_Health_Conditions_Diabetes  \\\n",
       "0                                  True   \n",
       "1                                 False   \n",
       "2                                 False   \n",
       "3                                 False   \n",
       "4                                  True   \n",
       "..                                  ...   \n",
       "995                                True   \n",
       "996                                True   \n",
       "997                                True   \n",
       "998                               False   \n",
       "999                               False   \n",
       "\n",
       "     Chronic_Health_Conditions_Heart Disease  \\\n",
       "0                                      False   \n",
       "1                                       True   \n",
       "2                                       True   \n",
       "3                                      False   \n",
       "4                                      False   \n",
       "..                                       ...   \n",
       "995                                    False   \n",
       "996                                    False   \n",
       "997                                    False   \n",
       "998                                    False   \n",
       "999                                     True   \n",
       "\n",
       "     Chronic_Health_Conditions_Hypertension  \\\n",
       "0                                     False   \n",
       "1                                     False   \n",
       "2                                     False   \n",
       "3                                      True   \n",
       "4                                     False   \n",
       "..                                      ...   \n",
       "995                                   False   \n",
       "996                                   False   \n",
       "997                                   False   \n",
       "998                                   False   \n",
       "999                                   False   \n",
       "\n",
       "     Chronic_Health_Conditions_Not diagnosed with chronic illness  \n",
       "0                                                False             \n",
       "1                                                False             \n",
       "2                                                False             \n",
       "3                                                False             \n",
       "4                                                False             \n",
       "..                                                 ...             \n",
       "995                                              False             \n",
       "996                                              False             \n",
       "997                                              False             \n",
       "998                                               True             \n",
       "999                                              False             \n",
       "\n",
       "[1000 rows x 47 columns]"
      ]
     },
     "execution_count": 16,
     "metadata": {},
     "output_type": "execute_result"
    }
   ],
   "source": [
    "dmn_df_dummies = pd.get_dummies(dmn_df)\n",
    "dmn_df_dummies"
   ]
  },
  {
   "cell_type": "code",
   "execution_count": 17,
   "id": "e97d7bf7-5c30-4fa0-9517-631020965e2b",
   "metadata": {
    "tags": []
   },
   "outputs": [
    {
     "data": {
      "text/html": [
       "<div>\n",
       "<style scoped>\n",
       "    .dataframe tbody tr th:only-of-type {\n",
       "        vertical-align: middle;\n",
       "    }\n",
       "\n",
       "    .dataframe tbody tr th {\n",
       "        vertical-align: top;\n",
       "    }\n",
       "\n",
       "    .dataframe thead th {\n",
       "        text-align: right;\n",
       "    }\n",
       "</style>\n",
       "<table border=\"1\" class=\"dataframe\">\n",
       "  <thead>\n",
       "    <tr style=\"text-align: right;\">\n",
       "      <th></th>\n",
       "      <th>Diabetic</th>\n",
       "      <th>AlcoholLevel</th>\n",
       "      <th>HeartRate</th>\n",
       "      <th>BloodOxygenLevel</th>\n",
       "      <th>BodyTemperature</th>\n",
       "      <th>Weight</th>\n",
       "      <th>MRI_Delay</th>\n",
       "      <th>Dosage in mg</th>\n",
       "      <th>Age</th>\n",
       "      <th>Cognitive_Test_Scores</th>\n",
       "      <th>...</th>\n",
       "      <th>Medication_History_Yes</th>\n",
       "      <th>Nutrition_Diet_Balanced Diet</th>\n",
       "      <th>Nutrition_Diet_Low-Carb Diet</th>\n",
       "      <th>Nutrition_Diet_Mediterranean Diet</th>\n",
       "      <th>Sleep_Quality_Good</th>\n",
       "      <th>Sleep_Quality_Poor</th>\n",
       "      <th>Chronic_Health_Conditions_Diabetes</th>\n",
       "      <th>Chronic_Health_Conditions_Heart Disease</th>\n",
       "      <th>Chronic_Health_Conditions_Hypertension</th>\n",
       "      <th>Chronic_Health_Conditions_Not diagnosed with chronic illness</th>\n",
       "    </tr>\n",
       "  </thead>\n",
       "  <tbody>\n",
       "    <tr>\n",
       "      <th>Diabetic</th>\n",
       "      <td>1.000000</td>\n",
       "      <td>-0.025616</td>\n",
       "      <td>-0.007188</td>\n",
       "      <td>-0.016575</td>\n",
       "      <td>-0.053851</td>\n",
       "      <td>-0.007501</td>\n",
       "      <td>-0.020378</td>\n",
       "      <td>0.049210</td>\n",
       "      <td>0.000923</td>\n",
       "      <td>-0.050019</td>\n",
       "      <td>...</td>\n",
       "      <td>-0.006733</td>\n",
       "      <td>-0.009839</td>\n",
       "      <td>0.003021</td>\n",
       "      <td>0.006793</td>\n",
       "      <td>0.055916</td>\n",
       "      <td>-0.055916</td>\n",
       "      <td>1.000000</td>\n",
       "      <td>-0.439574</td>\n",
       "      <td>-0.436213</td>\n",
       "      <td>-0.479236</td>\n",
       "    </tr>\n",
       "    <tr>\n",
       "      <th>AlcoholLevel</th>\n",
       "      <td>-0.025616</td>\n",
       "      <td>1.000000</td>\n",
       "      <td>-0.046341</td>\n",
       "      <td>-0.005562</td>\n",
       "      <td>0.030854</td>\n",
       "      <td>0.034553</td>\n",
       "      <td>0.004160</td>\n",
       "      <td>0.008300</td>\n",
       "      <td>-0.003081</td>\n",
       "      <td>-0.018716</td>\n",
       "      <td>...</td>\n",
       "      <td>-0.058951</td>\n",
       "      <td>-0.013902</td>\n",
       "      <td>0.032151</td>\n",
       "      <td>-0.018119</td>\n",
       "      <td>-0.033801</td>\n",
       "      <td>0.033801</td>\n",
       "      <td>-0.025616</td>\n",
       "      <td>-0.055492</td>\n",
       "      <td>0.002164</td>\n",
       "      <td>0.083755</td>\n",
       "    </tr>\n",
       "    <tr>\n",
       "      <th>HeartRate</th>\n",
       "      <td>-0.007188</td>\n",
       "      <td>-0.046341</td>\n",
       "      <td>1.000000</td>\n",
       "      <td>0.022283</td>\n",
       "      <td>0.015585</td>\n",
       "      <td>-0.001730</td>\n",
       "      <td>0.000169</td>\n",
       "      <td>-0.020054</td>\n",
       "      <td>0.011665</td>\n",
       "      <td>0.005493</td>\n",
       "      <td>...</td>\n",
       "      <td>0.027799</td>\n",
       "      <td>-0.001782</td>\n",
       "      <td>-0.083193</td>\n",
       "      <td>0.084472</td>\n",
       "      <td>-0.003392</td>\n",
       "      <td>0.003392</td>\n",
       "      <td>-0.007188</td>\n",
       "      <td>-0.020177</td>\n",
       "      <td>0.036131</td>\n",
       "      <td>-0.005509</td>\n",
       "    </tr>\n",
       "    <tr>\n",
       "      <th>BloodOxygenLevel</th>\n",
       "      <td>-0.016575</td>\n",
       "      <td>-0.005562</td>\n",
       "      <td>0.022283</td>\n",
       "      <td>1.000000</td>\n",
       "      <td>-0.007265</td>\n",
       "      <td>-0.041081</td>\n",
       "      <td>-0.005760</td>\n",
       "      <td>-0.062321</td>\n",
       "      <td>0.029565</td>\n",
       "      <td>0.070218</td>\n",
       "      <td>...</td>\n",
       "      <td>0.015129</td>\n",
       "      <td>-0.000840</td>\n",
       "      <td>-0.014534</td>\n",
       "      <td>0.015284</td>\n",
       "      <td>-0.017862</td>\n",
       "      <td>0.017862</td>\n",
       "      <td>-0.016575</td>\n",
       "      <td>-0.013011</td>\n",
       "      <td>0.013205</td>\n",
       "      <td>0.021495</td>\n",
       "    </tr>\n",
       "    <tr>\n",
       "      <th>BodyTemperature</th>\n",
       "      <td>-0.053851</td>\n",
       "      <td>0.030854</td>\n",
       "      <td>0.015585</td>\n",
       "      <td>-0.007265</td>\n",
       "      <td>1.000000</td>\n",
       "      <td>-0.017750</td>\n",
       "      <td>0.015953</td>\n",
       "      <td>0.045258</td>\n",
       "      <td>0.001586</td>\n",
       "      <td>-0.009791</td>\n",
       "      <td>...</td>\n",
       "      <td>0.022006</td>\n",
       "      <td>0.015300</td>\n",
       "      <td>0.023253</td>\n",
       "      <td>-0.038347</td>\n",
       "      <td>-0.011410</td>\n",
       "      <td>0.011410</td>\n",
       "      <td>-0.053851</td>\n",
       "      <td>0.030771</td>\n",
       "      <td>-0.007905</td>\n",
       "      <td>0.048587</td>\n",
       "    </tr>\n",
       "    <tr>\n",
       "      <th>Weight</th>\n",
       "      <td>-0.007501</td>\n",
       "      <td>0.034553</td>\n",
       "      <td>-0.001730</td>\n",
       "      <td>-0.041081</td>\n",
       "      <td>-0.017750</td>\n",
       "      <td>1.000000</td>\n",
       "      <td>-0.022890</td>\n",
       "      <td>-0.029248</td>\n",
       "      <td>0.011739</td>\n",
       "      <td>0.035821</td>\n",
       "      <td>...</td>\n",
       "      <td>-0.057993</td>\n",
       "      <td>-0.020632</td>\n",
       "      <td>-0.000085</td>\n",
       "      <td>0.020625</td>\n",
       "      <td>-0.005504</td>\n",
       "      <td>0.005504</td>\n",
       "      <td>-0.007501</td>\n",
       "      <td>-0.007676</td>\n",
       "      <td>0.031411</td>\n",
       "      <td>-0.012469</td>\n",
       "    </tr>\n",
       "    <tr>\n",
       "      <th>MRI_Delay</th>\n",
       "      <td>-0.020378</td>\n",
       "      <td>0.004160</td>\n",
       "      <td>0.000169</td>\n",
       "      <td>-0.005760</td>\n",
       "      <td>0.015953</td>\n",
       "      <td>-0.022890</td>\n",
       "      <td>1.000000</td>\n",
       "      <td>-0.035924</td>\n",
       "      <td>-0.002093</td>\n",
       "      <td>-0.052227</td>\n",
       "      <td>...</td>\n",
       "      <td>0.038864</td>\n",
       "      <td>0.008633</td>\n",
       "      <td>-0.013200</td>\n",
       "      <td>0.004527</td>\n",
       "      <td>-0.002877</td>\n",
       "      <td>0.002877</td>\n",
       "      <td>-0.020378</td>\n",
       "      <td>0.074871</td>\n",
       "      <td>-0.022546</td>\n",
       "      <td>-0.022941</td>\n",
       "    </tr>\n",
       "    <tr>\n",
       "      <th>Dosage in mg</th>\n",
       "      <td>0.049210</td>\n",
       "      <td>0.008300</td>\n",
       "      <td>-0.020054</td>\n",
       "      <td>-0.062321</td>\n",
       "      <td>0.045258</td>\n",
       "      <td>-0.029248</td>\n",
       "      <td>-0.035924</td>\n",
       "      <td>1.000000</td>\n",
       "      <td>-0.050452</td>\n",
       "      <td>-0.619073</td>\n",
       "      <td>...</td>\n",
       "      <td>-0.024600</td>\n",
       "      <td>-0.021741</td>\n",
       "      <td>0.021725</td>\n",
       "      <td>0.000048</td>\n",
       "      <td>-0.015638</td>\n",
       "      <td>0.015638</td>\n",
       "      <td>0.049210</td>\n",
       "      <td>-0.048884</td>\n",
       "      <td>-0.010629</td>\n",
       "      <td>-0.008032</td>\n",
       "    </tr>\n",
       "    <tr>\n",
       "      <th>Age</th>\n",
       "      <td>0.000923</td>\n",
       "      <td>-0.003081</td>\n",
       "      <td>0.011665</td>\n",
       "      <td>0.029565</td>\n",
       "      <td>0.001586</td>\n",
       "      <td>0.011739</td>\n",
       "      <td>-0.002093</td>\n",
       "      <td>-0.050452</td>\n",
       "      <td>1.000000</td>\n",
       "      <td>0.062640</td>\n",
       "      <td>...</td>\n",
       "      <td>-0.050559</td>\n",
       "      <td>-0.071585</td>\n",
       "      <td>-0.005764</td>\n",
       "      <td>0.076998</td>\n",
       "      <td>-0.003336</td>\n",
       "      <td>0.003336</td>\n",
       "      <td>0.000923</td>\n",
       "      <td>-0.008128</td>\n",
       "      <td>-0.042758</td>\n",
       "      <td>0.046621</td>\n",
       "    </tr>\n",
       "    <tr>\n",
       "      <th>Cognitive_Test_Scores</th>\n",
       "      <td>-0.050019</td>\n",
       "      <td>-0.018716</td>\n",
       "      <td>0.005493</td>\n",
       "      <td>0.070218</td>\n",
       "      <td>-0.009791</td>\n",
       "      <td>0.035821</td>\n",
       "      <td>-0.052227</td>\n",
       "      <td>-0.619073</td>\n",
       "      <td>0.062640</td>\n",
       "      <td>1.000000</td>\n",
       "      <td>...</td>\n",
       "      <td>0.013304</td>\n",
       "      <td>0.037301</td>\n",
       "      <td>-0.016316</td>\n",
       "      <td>-0.020917</td>\n",
       "      <td>0.004113</td>\n",
       "      <td>-0.004113</td>\n",
       "      <td>-0.050019</td>\n",
       "      <td>0.046618</td>\n",
       "      <td>0.015205</td>\n",
       "      <td>0.006928</td>\n",
       "    </tr>\n",
       "    <tr>\n",
       "      <th>Dementia</th>\n",
       "      <td>0.044815</td>\n",
       "      <td>-0.003720</td>\n",
       "      <td>0.012276</td>\n",
       "      <td>-0.071454</td>\n",
       "      <td>0.033928</td>\n",
       "      <td>-0.049563</td>\n",
       "      <td>0.031251</td>\n",
       "      <td>0.713842</td>\n",
       "      <td>-0.062154</td>\n",
       "      <td>-0.843247</td>\n",
       "      <td>...</td>\n",
       "      <td>0.006846</td>\n",
       "      <td>-0.029827</td>\n",
       "      <td>0.008298</td>\n",
       "      <td>0.021446</td>\n",
       "      <td>-0.020096</td>\n",
       "      <td>0.020096</td>\n",
       "      <td>0.044815</td>\n",
       "      <td>-0.056256</td>\n",
       "      <td>-0.012256</td>\n",
       "      <td>0.006185</td>\n",
       "    </tr>\n",
       "    <tr>\n",
       "      <th>Prescription_Donepezil</th>\n",
       "      <td>0.031793</td>\n",
       "      <td>-0.019462</td>\n",
       "      <td>0.015327</td>\n",
       "      <td>-0.063014</td>\n",
       "      <td>0.071177</td>\n",
       "      <td>0.006841</td>\n",
       "      <td>0.007216</td>\n",
       "      <td>0.539160</td>\n",
       "      <td>0.029325</td>\n",
       "      <td>-0.306300</td>\n",
       "      <td>...</td>\n",
       "      <td>-0.025797</td>\n",
       "      <td>-0.016875</td>\n",
       "      <td>-0.015383</td>\n",
       "      <td>0.032092</td>\n",
       "      <td>0.033825</td>\n",
       "      <td>-0.033825</td>\n",
       "      <td>0.031793</td>\n",
       "      <td>-0.039406</td>\n",
       "      <td>-0.011310</td>\n",
       "      <td>0.006369</td>\n",
       "    </tr>\n",
       "    <tr>\n",
       "      <th>Prescription_Galantamine</th>\n",
       "      <td>0.005293</td>\n",
       "      <td>-0.009723</td>\n",
       "      <td>-0.006215</td>\n",
       "      <td>0.011896</td>\n",
       "      <td>-0.024869</td>\n",
       "      <td>-0.014468</td>\n",
       "      <td>-0.002642</td>\n",
       "      <td>0.212552</td>\n",
       "      <td>-0.075006</td>\n",
       "      <td>-0.328976</td>\n",
       "      <td>...</td>\n",
       "      <td>0.004537</td>\n",
       "      <td>-0.067418</td>\n",
       "      <td>0.036976</td>\n",
       "      <td>0.030363</td>\n",
       "      <td>0.010608</td>\n",
       "      <td>-0.010608</td>\n",
       "      <td>0.005293</td>\n",
       "      <td>-0.003133</td>\n",
       "      <td>-0.043047</td>\n",
       "      <td>0.036480</td>\n",
       "    </tr>\n",
       "    <tr>\n",
       "      <th>Prescription_Memantine</th>\n",
       "      <td>0.037943</td>\n",
       "      <td>0.042229</td>\n",
       "      <td>0.004694</td>\n",
       "      <td>0.001363</td>\n",
       "      <td>-0.003018</td>\n",
       "      <td>-0.046652</td>\n",
       "      <td>0.012960</td>\n",
       "      <td>0.400471</td>\n",
       "      <td>-0.031683</td>\n",
       "      <td>-0.356868</td>\n",
       "      <td>...</td>\n",
       "      <td>0.001246</td>\n",
       "      <td>0.034983</td>\n",
       "      <td>0.004838</td>\n",
       "      <td>-0.039637</td>\n",
       "      <td>-0.045890</td>\n",
       "      <td>0.045890</td>\n",
       "      <td>0.037943</td>\n",
       "      <td>-0.031760</td>\n",
       "      <td>0.011774</td>\n",
       "      <td>-0.030545</td>\n",
       "    </tr>\n",
       "    <tr>\n",
       "      <th>Prescription_No medication was prescribed</th>\n",
       "      <td>-0.044815</td>\n",
       "      <td>0.003720</td>\n",
       "      <td>-0.012276</td>\n",
       "      <td>0.071454</td>\n",
       "      <td>-0.033928</td>\n",
       "      <td>0.049563</td>\n",
       "      <td>-0.031251</td>\n",
       "      <td>-0.713842</td>\n",
       "      <td>0.062154</td>\n",
       "      <td>0.843247</td>\n",
       "      <td>...</td>\n",
       "      <td>-0.006846</td>\n",
       "      <td>0.029827</td>\n",
       "      <td>-0.008298</td>\n",
       "      <td>-0.021446</td>\n",
       "      <td>0.020096</td>\n",
       "      <td>-0.020096</td>\n",
       "      <td>-0.044815</td>\n",
       "      <td>0.056256</td>\n",
       "      <td>0.012256</td>\n",
       "      <td>-0.006185</td>\n",
       "    </tr>\n",
       "    <tr>\n",
       "      <th>Prescription_Rivastigmine</th>\n",
       "      <td>-0.006469</td>\n",
       "      <td>-0.020355</td>\n",
       "      <td>0.005467</td>\n",
       "      <td>-0.062234</td>\n",
       "      <td>0.011288</td>\n",
       "      <td>-0.020277</td>\n",
       "      <td>0.030507</td>\n",
       "      <td>-0.055660</td>\n",
       "      <td>-0.015306</td>\n",
       "      <td>-0.297839</td>\n",
       "      <td>...</td>\n",
       "      <td>0.029871</td>\n",
       "      <td>0.003227</td>\n",
       "      <td>-0.014910</td>\n",
       "      <td>0.011609</td>\n",
       "      <td>-0.027576</td>\n",
       "      <td>0.027576</td>\n",
       "      <td>-0.006469</td>\n",
       "      <td>-0.012331</td>\n",
       "      <td>0.023962</td>\n",
       "      <td>-0.002425</td>\n",
       "    </tr>\n",
       "    <tr>\n",
       "      <th>Education_Level_Diploma/Degree</th>\n",
       "      <td>0.022424</td>\n",
       "      <td>-0.033927</td>\n",
       "      <td>0.006165</td>\n",
       "      <td>-0.004215</td>\n",
       "      <td>0.044537</td>\n",
       "      <td>0.017114</td>\n",
       "      <td>0.027998</td>\n",
       "      <td>-0.094873</td>\n",
       "      <td>-0.000005</td>\n",
       "      <td>0.124226</td>\n",
       "      <td>...</td>\n",
       "      <td>0.004860</td>\n",
       "      <td>-0.020488</td>\n",
       "      <td>-0.036489</td>\n",
       "      <td>0.056669</td>\n",
       "      <td>-0.071649</td>\n",
       "      <td>0.071649</td>\n",
       "      <td>0.022424</td>\n",
       "      <td>0.003386</td>\n",
       "      <td>-0.009718</td>\n",
       "      <td>-0.023309</td>\n",
       "    </tr>\n",
       "    <tr>\n",
       "      <th>Education_Level_No School</th>\n",
       "      <td>0.008209</td>\n",
       "      <td>0.032974</td>\n",
       "      <td>0.048095</td>\n",
       "      <td>-0.022598</td>\n",
       "      <td>0.015182</td>\n",
       "      <td>-0.017542</td>\n",
       "      <td>0.079494</td>\n",
       "      <td>0.092476</td>\n",
       "      <td>-0.021198</td>\n",
       "      <td>-0.115918</td>\n",
       "      <td>...</td>\n",
       "      <td>-0.014761</td>\n",
       "      <td>-0.008566</td>\n",
       "      <td>0.004995</td>\n",
       "      <td>0.003563</td>\n",
       "      <td>-0.006813</td>\n",
       "      <td>0.006813</td>\n",
       "      <td>0.008209</td>\n",
       "      <td>-0.038366</td>\n",
       "      <td>0.055918</td>\n",
       "      <td>-0.026994</td>\n",
       "    </tr>\n",
       "    <tr>\n",
       "      <th>Education_Level_Primary School</th>\n",
       "      <td>0.005922</td>\n",
       "      <td>-0.011959</td>\n",
       "      <td>-0.050678</td>\n",
       "      <td>0.001626</td>\n",
       "      <td>0.016313</td>\n",
       "      <td>0.038624</td>\n",
       "      <td>-0.036853</td>\n",
       "      <td>-0.042848</td>\n",
       "      <td>0.001532</td>\n",
       "      <td>0.049045</td>\n",
       "      <td>...</td>\n",
       "      <td>-0.020298</td>\n",
       "      <td>-0.031134</td>\n",
       "      <td>0.028922</td>\n",
       "      <td>0.002246</td>\n",
       "      <td>0.056440</td>\n",
       "      <td>-0.056440</td>\n",
       "      <td>0.005922</td>\n",
       "      <td>0.038002</td>\n",
       "      <td>-0.020040</td>\n",
       "      <td>-0.024779</td>\n",
       "    </tr>\n",
       "    <tr>\n",
       "      <th>Education_Level_Secondary School</th>\n",
       "      <td>-0.030237</td>\n",
       "      <td>0.013212</td>\n",
       "      <td>0.011060</td>\n",
       "      <td>0.019346</td>\n",
       "      <td>-0.063996</td>\n",
       "      <td>-0.040493</td>\n",
       "      <td>-0.045337</td>\n",
       "      <td>0.046704</td>\n",
       "      <td>0.015059</td>\n",
       "      <td>-0.057739</td>\n",
       "      <td>...</td>\n",
       "      <td>0.029334</td>\n",
       "      <td>0.055729</td>\n",
       "      <td>-0.006103</td>\n",
       "      <td>-0.049415</td>\n",
       "      <td>0.001464</td>\n",
       "      <td>-0.001464</td>\n",
       "      <td>-0.030237</td>\n",
       "      <td>-0.012735</td>\n",
       "      <td>-0.015170</td>\n",
       "      <td>0.065693</td>\n",
       "    </tr>\n",
       "    <tr>\n",
       "      <th>Dominant_Hand_Left</th>\n",
       "      <td>0.083100</td>\n",
       "      <td>0.009488</td>\n",
       "      <td>0.039069</td>\n",
       "      <td>0.009602</td>\n",
       "      <td>0.018718</td>\n",
       "      <td>0.003709</td>\n",
       "      <td>-0.006767</td>\n",
       "      <td>-0.002064</td>\n",
       "      <td>0.065995</td>\n",
       "      <td>0.003288</td>\n",
       "      <td>...</td>\n",
       "      <td>0.008946</td>\n",
       "      <td>0.007191</td>\n",
       "      <td>-0.047970</td>\n",
       "      <td>0.040526</td>\n",
       "      <td>-0.015463</td>\n",
       "      <td>0.015463</td>\n",
       "      <td>0.083100</td>\n",
       "      <td>-0.041173</td>\n",
       "      <td>-0.007823</td>\n",
       "      <td>-0.062134</td>\n",
       "    </tr>\n",
       "    <tr>\n",
       "      <th>Dominant_Hand_Right</th>\n",
       "      <td>-0.083100</td>\n",
       "      <td>-0.009488</td>\n",
       "      <td>-0.039069</td>\n",
       "      <td>-0.009602</td>\n",
       "      <td>-0.018718</td>\n",
       "      <td>-0.003709</td>\n",
       "      <td>0.006767</td>\n",
       "      <td>0.002064</td>\n",
       "      <td>-0.065995</td>\n",
       "      <td>-0.003288</td>\n",
       "      <td>...</td>\n",
       "      <td>-0.008946</td>\n",
       "      <td>-0.007191</td>\n",
       "      <td>0.047970</td>\n",
       "      <td>-0.040526</td>\n",
       "      <td>0.015463</td>\n",
       "      <td>-0.015463</td>\n",
       "      <td>-0.083100</td>\n",
       "      <td>0.041173</td>\n",
       "      <td>0.007823</td>\n",
       "      <td>0.062134</td>\n",
       "    </tr>\n",
       "    <tr>\n",
       "      <th>Gender_Female</th>\n",
       "      <td>-0.022216</td>\n",
       "      <td>-0.045931</td>\n",
       "      <td>-0.051075</td>\n",
       "      <td>0.003194</td>\n",
       "      <td>-0.022369</td>\n",
       "      <td>0.015875</td>\n",
       "      <td>-0.001984</td>\n",
       "      <td>0.010194</td>\n",
       "      <td>-0.045022</td>\n",
       "      <td>0.006271</td>\n",
       "      <td>...</td>\n",
       "      <td>0.031789</td>\n",
       "      <td>0.028336</td>\n",
       "      <td>0.019907</td>\n",
       "      <td>-0.047999</td>\n",
       "      <td>-0.019502</td>\n",
       "      <td>0.019502</td>\n",
       "      <td>-0.022216</td>\n",
       "      <td>0.043549</td>\n",
       "      <td>0.004934</td>\n",
       "      <td>-0.016779</td>\n",
       "    </tr>\n",
       "    <tr>\n",
       "      <th>Gender_Male</th>\n",
       "      <td>0.022216</td>\n",
       "      <td>0.045931</td>\n",
       "      <td>0.051075</td>\n",
       "      <td>-0.003194</td>\n",
       "      <td>0.022369</td>\n",
       "      <td>-0.015875</td>\n",
       "      <td>0.001984</td>\n",
       "      <td>-0.010194</td>\n",
       "      <td>0.045022</td>\n",
       "      <td>-0.006271</td>\n",
       "      <td>...</td>\n",
       "      <td>-0.031789</td>\n",
       "      <td>-0.028336</td>\n",
       "      <td>-0.019907</td>\n",
       "      <td>0.047999</td>\n",
       "      <td>0.019502</td>\n",
       "      <td>-0.019502</td>\n",
       "      <td>0.022216</td>\n",
       "      <td>-0.043549</td>\n",
       "      <td>-0.004934</td>\n",
       "      <td>0.016779</td>\n",
       "    </tr>\n",
       "    <tr>\n",
       "      <th>Family_History_No</th>\n",
       "      <td>0.023066</td>\n",
       "      <td>-0.059860</td>\n",
       "      <td>-0.037189</td>\n",
       "      <td>0.064895</td>\n",
       "      <td>-0.042260</td>\n",
       "      <td>-0.062007</td>\n",
       "      <td>-0.018155</td>\n",
       "      <td>0.067373</td>\n",
       "      <td>-0.071085</td>\n",
       "      <td>-0.084899</td>\n",
       "      <td>...</td>\n",
       "      <td>0.053183</td>\n",
       "      <td>0.011221</td>\n",
       "      <td>-0.005960</td>\n",
       "      <td>-0.005247</td>\n",
       "      <td>0.041409</td>\n",
       "      <td>-0.041409</td>\n",
       "      <td>0.023066</td>\n",
       "      <td>0.008849</td>\n",
       "      <td>-0.019127</td>\n",
       "      <td>-0.020468</td>\n",
       "    </tr>\n",
       "    <tr>\n",
       "      <th>Family_History_Yes</th>\n",
       "      <td>-0.023066</td>\n",
       "      <td>0.059860</td>\n",
       "      <td>0.037189</td>\n",
       "      <td>-0.064895</td>\n",
       "      <td>0.042260</td>\n",
       "      <td>0.062007</td>\n",
       "      <td>0.018155</td>\n",
       "      <td>-0.067373</td>\n",
       "      <td>0.071085</td>\n",
       "      <td>0.084899</td>\n",
       "      <td>...</td>\n",
       "      <td>-0.053183</td>\n",
       "      <td>-0.011221</td>\n",
       "      <td>0.005960</td>\n",
       "      <td>0.005247</td>\n",
       "      <td>-0.041409</td>\n",
       "      <td>0.041409</td>\n",
       "      <td>-0.023066</td>\n",
       "      <td>-0.008849</td>\n",
       "      <td>0.019127</td>\n",
       "      <td>0.020468</td>\n",
       "    </tr>\n",
       "    <tr>\n",
       "      <th>Smoking_Status_Current Smoker</th>\n",
       "      <td>0.012793</td>\n",
       "      <td>0.009778</td>\n",
       "      <td>0.040866</td>\n",
       "      <td>0.061891</td>\n",
       "      <td>-0.011927</td>\n",
       "      <td>0.031636</td>\n",
       "      <td>-0.030748</td>\n",
       "      <td>-0.217856</td>\n",
       "      <td>0.020480</td>\n",
       "      <td>0.251192</td>\n",
       "      <td>...</td>\n",
       "      <td>0.005174</td>\n",
       "      <td>0.008310</td>\n",
       "      <td>-0.042358</td>\n",
       "      <td>0.033833</td>\n",
       "      <td>-0.013589</td>\n",
       "      <td>0.013589</td>\n",
       "      <td>0.012793</td>\n",
       "      <td>-0.028483</td>\n",
       "      <td>-0.036594</td>\n",
       "      <td>0.044573</td>\n",
       "    </tr>\n",
       "    <tr>\n",
       "      <th>Smoking_Status_Former Smoker</th>\n",
       "      <td>-0.031940</td>\n",
       "      <td>-0.032282</td>\n",
       "      <td>-0.037552</td>\n",
       "      <td>-0.034485</td>\n",
       "      <td>0.024157</td>\n",
       "      <td>-0.022560</td>\n",
       "      <td>0.010866</td>\n",
       "      <td>0.112459</td>\n",
       "      <td>-0.002399</td>\n",
       "      <td>-0.098752</td>\n",
       "      <td>...</td>\n",
       "      <td>-0.094017</td>\n",
       "      <td>0.042381</td>\n",
       "      <td>0.025013</td>\n",
       "      <td>-0.067057</td>\n",
       "      <td>-0.037934</td>\n",
       "      <td>0.037934</td>\n",
       "      <td>-0.031940</td>\n",
       "      <td>-0.016582</td>\n",
       "      <td>0.066493</td>\n",
       "      <td>-0.005141</td>\n",
       "    </tr>\n",
       "    <tr>\n",
       "      <th>Smoking_Status_Never Smoked</th>\n",
       "      <td>0.024618</td>\n",
       "      <td>0.026694</td>\n",
       "      <td>0.014094</td>\n",
       "      <td>-0.001066</td>\n",
       "      <td>-0.017325</td>\n",
       "      <td>0.004393</td>\n",
       "      <td>0.006802</td>\n",
       "      <td>0.012690</td>\n",
       "      <td>-0.009375</td>\n",
       "      <td>-0.045580</td>\n",
       "      <td>...</td>\n",
       "      <td>0.091145</td>\n",
       "      <td>-0.047206</td>\n",
       "      <td>-0.000684</td>\n",
       "      <td>0.047676</td>\n",
       "      <td>0.045789</td>\n",
       "      <td>-0.045789</td>\n",
       "      <td>0.024618</td>\n",
       "      <td>0.032979</td>\n",
       "      <td>-0.045523</td>\n",
       "      <td>-0.020483</td>\n",
       "    </tr>\n",
       "    <tr>\n",
       "      <th>APOE_ε4_Negative</th>\n",
       "      <td>-0.025953</td>\n",
       "      <td>-0.033830</td>\n",
       "      <td>-0.061900</td>\n",
       "      <td>0.008023</td>\n",
       "      <td>-0.061852</td>\n",
       "      <td>0.080600</td>\n",
       "      <td>0.014357</td>\n",
       "      <td>-0.310795</td>\n",
       "      <td>0.017701</td>\n",
       "      <td>0.372562</td>\n",
       "      <td>...</td>\n",
       "      <td>0.007450</td>\n",
       "      <td>0.020312</td>\n",
       "      <td>-0.004523</td>\n",
       "      <td>-0.015726</td>\n",
       "      <td>0.006107</td>\n",
       "      <td>-0.006107</td>\n",
       "      <td>-0.025953</td>\n",
       "      <td>0.069374</td>\n",
       "      <td>-0.029043</td>\n",
       "      <td>-0.004381</td>\n",
       "    </tr>\n",
       "    <tr>\n",
       "      <th>APOE_ε4_Positive</th>\n",
       "      <td>0.025953</td>\n",
       "      <td>0.033830</td>\n",
       "      <td>0.061900</td>\n",
       "      <td>-0.008023</td>\n",
       "      <td>0.061852</td>\n",
       "      <td>-0.080600</td>\n",
       "      <td>-0.014357</td>\n",
       "      <td>0.310795</td>\n",
       "      <td>-0.017701</td>\n",
       "      <td>-0.372562</td>\n",
       "      <td>...</td>\n",
       "      <td>-0.007450</td>\n",
       "      <td>-0.020312</td>\n",
       "      <td>0.004523</td>\n",
       "      <td>0.015726</td>\n",
       "      <td>-0.006107</td>\n",
       "      <td>0.006107</td>\n",
       "      <td>0.025953</td>\n",
       "      <td>-0.069374</td>\n",
       "      <td>0.029043</td>\n",
       "      <td>0.004381</td>\n",
       "    </tr>\n",
       "    <tr>\n",
       "      <th>Physical_Activity_Mild Activity</th>\n",
       "      <td>0.003928</td>\n",
       "      <td>-0.029660</td>\n",
       "      <td>-0.005269</td>\n",
       "      <td>0.041730</td>\n",
       "      <td>0.013745</td>\n",
       "      <td>-0.007406</td>\n",
       "      <td>0.031381</td>\n",
       "      <td>0.000993</td>\n",
       "      <td>-0.011918</td>\n",
       "      <td>0.017509</td>\n",
       "      <td>...</td>\n",
       "      <td>0.019225</td>\n",
       "      <td>0.064369</td>\n",
       "      <td>-0.048257</td>\n",
       "      <td>-0.016114</td>\n",
       "      <td>0.098425</td>\n",
       "      <td>-0.098425</td>\n",
       "      <td>0.003928</td>\n",
       "      <td>-0.008134</td>\n",
       "      <td>0.007549</td>\n",
       "      <td>-0.004531</td>\n",
       "    </tr>\n",
       "    <tr>\n",
       "      <th>Physical_Activity_Moderate Activity</th>\n",
       "      <td>0.003720</td>\n",
       "      <td>0.013292</td>\n",
       "      <td>-0.000673</td>\n",
       "      <td>0.017149</td>\n",
       "      <td>-0.017615</td>\n",
       "      <td>-0.025278</td>\n",
       "      <td>-0.018832</td>\n",
       "      <td>0.002669</td>\n",
       "      <td>-0.013876</td>\n",
       "      <td>-0.027555</td>\n",
       "      <td>...</td>\n",
       "      <td>-0.014831</td>\n",
       "      <td>-0.048223</td>\n",
       "      <td>0.050507</td>\n",
       "      <td>-0.002197</td>\n",
       "      <td>-0.039550</td>\n",
       "      <td>0.039550</td>\n",
       "      <td>0.003720</td>\n",
       "      <td>0.022013</td>\n",
       "      <td>-0.015831</td>\n",
       "      <td>-0.010766</td>\n",
       "    </tr>\n",
       "    <tr>\n",
       "      <th>Physical_Activity_Sedentary</th>\n",
       "      <td>-0.007666</td>\n",
       "      <td>0.016928</td>\n",
       "      <td>0.006010</td>\n",
       "      <td>-0.059297</td>\n",
       "      <td>0.003491</td>\n",
       "      <td>0.032528</td>\n",
       "      <td>-0.013191</td>\n",
       "      <td>-0.003648</td>\n",
       "      <td>0.025820</td>\n",
       "      <td>0.009510</td>\n",
       "      <td>...</td>\n",
       "      <td>-0.004822</td>\n",
       "      <td>-0.017563</td>\n",
       "      <td>-0.001039</td>\n",
       "      <td>0.018518</td>\n",
       "      <td>-0.060688</td>\n",
       "      <td>0.060688</td>\n",
       "      <td>-0.007666</td>\n",
       "      <td>-0.013535</td>\n",
       "      <td>0.008011</td>\n",
       "      <td>0.015250</td>\n",
       "    </tr>\n",
       "    <tr>\n",
       "      <th>Depression_Status_No</th>\n",
       "      <td>-0.015421</td>\n",
       "      <td>0.002874</td>\n",
       "      <td>0.003235</td>\n",
       "      <td>0.046504</td>\n",
       "      <td>-0.022563</td>\n",
       "      <td>0.032482</td>\n",
       "      <td>-0.052370</td>\n",
       "      <td>-0.409195</td>\n",
       "      <td>0.018278</td>\n",
       "      <td>0.477475</td>\n",
       "      <td>...</td>\n",
       "      <td>0.004326</td>\n",
       "      <td>-0.003259</td>\n",
       "      <td>0.004203</td>\n",
       "      <td>-0.000934</td>\n",
       "      <td>0.019436</td>\n",
       "      <td>-0.019436</td>\n",
       "      <td>-0.015421</td>\n",
       "      <td>0.019113</td>\n",
       "      <td>0.009591</td>\n",
       "      <td>-0.006945</td>\n",
       "    </tr>\n",
       "    <tr>\n",
       "      <th>Depression_Status_Yes</th>\n",
       "      <td>0.015421</td>\n",
       "      <td>-0.002874</td>\n",
       "      <td>-0.003235</td>\n",
       "      <td>-0.046504</td>\n",
       "      <td>0.022563</td>\n",
       "      <td>-0.032482</td>\n",
       "      <td>0.052370</td>\n",
       "      <td>0.409195</td>\n",
       "      <td>-0.018278</td>\n",
       "      <td>-0.477475</td>\n",
       "      <td>...</td>\n",
       "      <td>-0.004326</td>\n",
       "      <td>0.003259</td>\n",
       "      <td>-0.004203</td>\n",
       "      <td>0.000934</td>\n",
       "      <td>-0.019436</td>\n",
       "      <td>0.019436</td>\n",
       "      <td>0.015421</td>\n",
       "      <td>-0.019113</td>\n",
       "      <td>-0.009591</td>\n",
       "      <td>0.006945</td>\n",
       "    </tr>\n",
       "    <tr>\n",
       "      <th>Medication_History_No</th>\n",
       "      <td>0.006733</td>\n",
       "      <td>0.058951</td>\n",
       "      <td>-0.027799</td>\n",
       "      <td>-0.015129</td>\n",
       "      <td>-0.022006</td>\n",
       "      <td>0.057993</td>\n",
       "      <td>-0.038864</td>\n",
       "      <td>0.024600</td>\n",
       "      <td>0.050559</td>\n",
       "      <td>-0.013304</td>\n",
       "      <td>...</td>\n",
       "      <td>-1.000000</td>\n",
       "      <td>0.011250</td>\n",
       "      <td>-0.010127</td>\n",
       "      <td>-0.001134</td>\n",
       "      <td>-0.029985</td>\n",
       "      <td>0.029985</td>\n",
       "      <td>0.006733</td>\n",
       "      <td>-0.057109</td>\n",
       "      <td>0.036916</td>\n",
       "      <td>0.010470</td>\n",
       "    </tr>\n",
       "    <tr>\n",
       "      <th>Medication_History_Yes</th>\n",
       "      <td>-0.006733</td>\n",
       "      <td>-0.058951</td>\n",
       "      <td>0.027799</td>\n",
       "      <td>0.015129</td>\n",
       "      <td>0.022006</td>\n",
       "      <td>-0.057993</td>\n",
       "      <td>0.038864</td>\n",
       "      <td>-0.024600</td>\n",
       "      <td>-0.050559</td>\n",
       "      <td>0.013304</td>\n",
       "      <td>...</td>\n",
       "      <td>1.000000</td>\n",
       "      <td>-0.011250</td>\n",
       "      <td>0.010127</td>\n",
       "      <td>0.001134</td>\n",
       "      <td>0.029985</td>\n",
       "      <td>-0.029985</td>\n",
       "      <td>-0.006733</td>\n",
       "      <td>0.057109</td>\n",
       "      <td>-0.036916</td>\n",
       "      <td>-0.010470</td>\n",
       "    </tr>\n",
       "    <tr>\n",
       "      <th>Nutrition_Diet_Balanced Diet</th>\n",
       "      <td>-0.009839</td>\n",
       "      <td>-0.013902</td>\n",
       "      <td>-0.001782</td>\n",
       "      <td>-0.000840</td>\n",
       "      <td>0.015300</td>\n",
       "      <td>-0.020632</td>\n",
       "      <td>0.008633</td>\n",
       "      <td>-0.021741</td>\n",
       "      <td>-0.071585</td>\n",
       "      <td>0.037301</td>\n",
       "      <td>...</td>\n",
       "      <td>-0.011250</td>\n",
       "      <td>1.000000</td>\n",
       "      <td>-0.494767</td>\n",
       "      <td>-0.503744</td>\n",
       "      <td>0.022510</td>\n",
       "      <td>-0.022510</td>\n",
       "      <td>-0.009839</td>\n",
       "      <td>0.044240</td>\n",
       "      <td>0.013001</td>\n",
       "      <td>-0.041145</td>\n",
       "    </tr>\n",
       "    <tr>\n",
       "      <th>Nutrition_Diet_Low-Carb Diet</th>\n",
       "      <td>0.003021</td>\n",
       "      <td>0.032151</td>\n",
       "      <td>-0.083193</td>\n",
       "      <td>-0.014534</td>\n",
       "      <td>0.023253</td>\n",
       "      <td>-0.000085</td>\n",
       "      <td>-0.013200</td>\n",
       "      <td>0.021725</td>\n",
       "      <td>-0.005764</td>\n",
       "      <td>-0.016316</td>\n",
       "      <td>...</td>\n",
       "      <td>0.010127</td>\n",
       "      <td>-0.494767</td>\n",
       "      <td>1.000000</td>\n",
       "      <td>-0.501475</td>\n",
       "      <td>-0.016115</td>\n",
       "      <td>0.016115</td>\n",
       "      <td>0.003021</td>\n",
       "      <td>-0.047893</td>\n",
       "      <td>0.008921</td>\n",
       "      <td>0.032897</td>\n",
       "    </tr>\n",
       "    <tr>\n",
       "      <th>Nutrition_Diet_Mediterranean Diet</th>\n",
       "      <td>0.006793</td>\n",
       "      <td>-0.018119</td>\n",
       "      <td>0.084472</td>\n",
       "      <td>0.015284</td>\n",
       "      <td>-0.038347</td>\n",
       "      <td>0.020625</td>\n",
       "      <td>0.004527</td>\n",
       "      <td>0.000048</td>\n",
       "      <td>0.076998</td>\n",
       "      <td>-0.020917</td>\n",
       "      <td>...</td>\n",
       "      <td>0.001134</td>\n",
       "      <td>-0.503744</td>\n",
       "      <td>-0.501475</td>\n",
       "      <td>1.000000</td>\n",
       "      <td>-0.006391</td>\n",
       "      <td>0.006391</td>\n",
       "      <td>0.006793</td>\n",
       "      <td>0.003563</td>\n",
       "      <td>-0.021811</td>\n",
       "      <td>0.008261</td>\n",
       "    </tr>\n",
       "    <tr>\n",
       "      <th>Sleep_Quality_Good</th>\n",
       "      <td>0.055916</td>\n",
       "      <td>-0.033801</td>\n",
       "      <td>-0.003392</td>\n",
       "      <td>-0.017862</td>\n",
       "      <td>-0.011410</td>\n",
       "      <td>-0.005504</td>\n",
       "      <td>-0.002877</td>\n",
       "      <td>-0.015638</td>\n",
       "      <td>-0.003336</td>\n",
       "      <td>0.004113</td>\n",
       "      <td>...</td>\n",
       "      <td>0.029985</td>\n",
       "      <td>0.022510</td>\n",
       "      <td>-0.016115</td>\n",
       "      <td>-0.006391</td>\n",
       "      <td>1.000000</td>\n",
       "      <td>-1.000000</td>\n",
       "      <td>0.055916</td>\n",
       "      <td>0.020883</td>\n",
       "      <td>-0.079620</td>\n",
       "      <td>-0.017853</td>\n",
       "    </tr>\n",
       "    <tr>\n",
       "      <th>Sleep_Quality_Poor</th>\n",
       "      <td>-0.055916</td>\n",
       "      <td>0.033801</td>\n",
       "      <td>0.003392</td>\n",
       "      <td>0.017862</td>\n",
       "      <td>0.011410</td>\n",
       "      <td>0.005504</td>\n",
       "      <td>0.002877</td>\n",
       "      <td>0.015638</td>\n",
       "      <td>0.003336</td>\n",
       "      <td>-0.004113</td>\n",
       "      <td>...</td>\n",
       "      <td>-0.029985</td>\n",
       "      <td>-0.022510</td>\n",
       "      <td>0.016115</td>\n",
       "      <td>0.006391</td>\n",
       "      <td>-1.000000</td>\n",
       "      <td>1.000000</td>\n",
       "      <td>-0.055916</td>\n",
       "      <td>-0.020883</td>\n",
       "      <td>0.079620</td>\n",
       "      <td>0.017853</td>\n",
       "    </tr>\n",
       "    <tr>\n",
       "      <th>Chronic_Health_Conditions_Diabetes</th>\n",
       "      <td>1.000000</td>\n",
       "      <td>-0.025616</td>\n",
       "      <td>-0.007188</td>\n",
       "      <td>-0.016575</td>\n",
       "      <td>-0.053851</td>\n",
       "      <td>-0.007501</td>\n",
       "      <td>-0.020378</td>\n",
       "      <td>0.049210</td>\n",
       "      <td>0.000923</td>\n",
       "      <td>-0.050019</td>\n",
       "      <td>...</td>\n",
       "      <td>-0.006733</td>\n",
       "      <td>-0.009839</td>\n",
       "      <td>0.003021</td>\n",
       "      <td>0.006793</td>\n",
       "      <td>0.055916</td>\n",
       "      <td>-0.055916</td>\n",
       "      <td>1.000000</td>\n",
       "      <td>-0.439574</td>\n",
       "      <td>-0.436213</td>\n",
       "      <td>-0.479236</td>\n",
       "    </tr>\n",
       "    <tr>\n",
       "      <th>Chronic_Health_Conditions_Heart Disease</th>\n",
       "      <td>-0.439574</td>\n",
       "      <td>-0.055492</td>\n",
       "      <td>-0.020177</td>\n",
       "      <td>-0.013011</td>\n",
       "      <td>0.030771</td>\n",
       "      <td>-0.007676</td>\n",
       "      <td>0.074871</td>\n",
       "      <td>-0.048884</td>\n",
       "      <td>-0.008128</td>\n",
       "      <td>0.046618</td>\n",
       "      <td>...</td>\n",
       "      <td>0.057109</td>\n",
       "      <td>0.044240</td>\n",
       "      <td>-0.047893</td>\n",
       "      <td>0.003563</td>\n",
       "      <td>0.020883</td>\n",
       "      <td>-0.020883</td>\n",
       "      <td>-0.439574</td>\n",
       "      <td>1.000000</td>\n",
       "      <td>-0.182029</td>\n",
       "      <td>-0.199983</td>\n",
       "    </tr>\n",
       "    <tr>\n",
       "      <th>Chronic_Health_Conditions_Hypertension</th>\n",
       "      <td>-0.436213</td>\n",
       "      <td>0.002164</td>\n",
       "      <td>0.036131</td>\n",
       "      <td>0.013205</td>\n",
       "      <td>-0.007905</td>\n",
       "      <td>0.031411</td>\n",
       "      <td>-0.022546</td>\n",
       "      <td>-0.010629</td>\n",
       "      <td>-0.042758</td>\n",
       "      <td>0.015205</td>\n",
       "      <td>...</td>\n",
       "      <td>-0.036916</td>\n",
       "      <td>0.013001</td>\n",
       "      <td>0.008921</td>\n",
       "      <td>-0.021811</td>\n",
       "      <td>-0.079620</td>\n",
       "      <td>0.079620</td>\n",
       "      <td>-0.436213</td>\n",
       "      <td>-0.182029</td>\n",
       "      <td>1.000000</td>\n",
       "      <td>-0.198454</td>\n",
       "    </tr>\n",
       "    <tr>\n",
       "      <th>Chronic_Health_Conditions_Not diagnosed with chronic illness</th>\n",
       "      <td>-0.479236</td>\n",
       "      <td>0.083755</td>\n",
       "      <td>-0.005509</td>\n",
       "      <td>0.021495</td>\n",
       "      <td>0.048587</td>\n",
       "      <td>-0.012469</td>\n",
       "      <td>-0.022941</td>\n",
       "      <td>-0.008032</td>\n",
       "      <td>0.046621</td>\n",
       "      <td>0.006928</td>\n",
       "      <td>...</td>\n",
       "      <td>-0.010470</td>\n",
       "      <td>-0.041145</td>\n",
       "      <td>0.032897</td>\n",
       "      <td>0.008261</td>\n",
       "      <td>-0.017853</td>\n",
       "      <td>0.017853</td>\n",
       "      <td>-0.479236</td>\n",
       "      <td>-0.199983</td>\n",
       "      <td>-0.198454</td>\n",
       "      <td>1.000000</td>\n",
       "    </tr>\n",
       "  </tbody>\n",
       "</table>\n",
       "<p>47 rows × 47 columns</p>\n",
       "</div>"
      ],
      "text/plain": [
       "                                                    Diabetic  AlcoholLevel  \\\n",
       "Diabetic                                            1.000000     -0.025616   \n",
       "AlcoholLevel                                       -0.025616      1.000000   \n",
       "HeartRate                                          -0.007188     -0.046341   \n",
       "BloodOxygenLevel                                   -0.016575     -0.005562   \n",
       "BodyTemperature                                    -0.053851      0.030854   \n",
       "Weight                                             -0.007501      0.034553   \n",
       "MRI_Delay                                          -0.020378      0.004160   \n",
       "Dosage in mg                                        0.049210      0.008300   \n",
       "Age                                                 0.000923     -0.003081   \n",
       "Cognitive_Test_Scores                              -0.050019     -0.018716   \n",
       "Dementia                                            0.044815     -0.003720   \n",
       "Prescription_Donepezil                              0.031793     -0.019462   \n",
       "Prescription_Galantamine                            0.005293     -0.009723   \n",
       "Prescription_Memantine                              0.037943      0.042229   \n",
       "Prescription_No medication was prescribed          -0.044815      0.003720   \n",
       "Prescription_Rivastigmine                          -0.006469     -0.020355   \n",
       "Education_Level_Diploma/Degree                      0.022424     -0.033927   \n",
       "Education_Level_No School                           0.008209      0.032974   \n",
       "Education_Level_Primary School                      0.005922     -0.011959   \n",
       "Education_Level_Secondary School                   -0.030237      0.013212   \n",
       "Dominant_Hand_Left                                  0.083100      0.009488   \n",
       "Dominant_Hand_Right                                -0.083100     -0.009488   \n",
       "Gender_Female                                      -0.022216     -0.045931   \n",
       "Gender_Male                                         0.022216      0.045931   \n",
       "Family_History_No                                   0.023066     -0.059860   \n",
       "Family_History_Yes                                 -0.023066      0.059860   \n",
       "Smoking_Status_Current Smoker                       0.012793      0.009778   \n",
       "Smoking_Status_Former Smoker                       -0.031940     -0.032282   \n",
       "Smoking_Status_Never Smoked                         0.024618      0.026694   \n",
       "APOE_ε4_Negative                                   -0.025953     -0.033830   \n",
       "APOE_ε4_Positive                                    0.025953      0.033830   \n",
       "Physical_Activity_Mild Activity                     0.003928     -0.029660   \n",
       "Physical_Activity_Moderate Activity                 0.003720      0.013292   \n",
       "Physical_Activity_Sedentary                        -0.007666      0.016928   \n",
       "Depression_Status_No                               -0.015421      0.002874   \n",
       "Depression_Status_Yes                               0.015421     -0.002874   \n",
       "Medication_History_No                               0.006733      0.058951   \n",
       "Medication_History_Yes                             -0.006733     -0.058951   \n",
       "Nutrition_Diet_Balanced Diet                       -0.009839     -0.013902   \n",
       "Nutrition_Diet_Low-Carb Diet                        0.003021      0.032151   \n",
       "Nutrition_Diet_Mediterranean Diet                   0.006793     -0.018119   \n",
       "Sleep_Quality_Good                                  0.055916     -0.033801   \n",
       "Sleep_Quality_Poor                                 -0.055916      0.033801   \n",
       "Chronic_Health_Conditions_Diabetes                  1.000000     -0.025616   \n",
       "Chronic_Health_Conditions_Heart Disease            -0.439574     -0.055492   \n",
       "Chronic_Health_Conditions_Hypertension             -0.436213      0.002164   \n",
       "Chronic_Health_Conditions_Not diagnosed with ch... -0.479236      0.083755   \n",
       "\n",
       "                                                    HeartRate  \\\n",
       "Diabetic                                            -0.007188   \n",
       "AlcoholLevel                                        -0.046341   \n",
       "HeartRate                                            1.000000   \n",
       "BloodOxygenLevel                                     0.022283   \n",
       "BodyTemperature                                      0.015585   \n",
       "Weight                                              -0.001730   \n",
       "MRI_Delay                                            0.000169   \n",
       "Dosage in mg                                        -0.020054   \n",
       "Age                                                  0.011665   \n",
       "Cognitive_Test_Scores                                0.005493   \n",
       "Dementia                                             0.012276   \n",
       "Prescription_Donepezil                               0.015327   \n",
       "Prescription_Galantamine                            -0.006215   \n",
       "Prescription_Memantine                               0.004694   \n",
       "Prescription_No medication was prescribed           -0.012276   \n",
       "Prescription_Rivastigmine                            0.005467   \n",
       "Education_Level_Diploma/Degree                       0.006165   \n",
       "Education_Level_No School                            0.048095   \n",
       "Education_Level_Primary School                      -0.050678   \n",
       "Education_Level_Secondary School                     0.011060   \n",
       "Dominant_Hand_Left                                   0.039069   \n",
       "Dominant_Hand_Right                                 -0.039069   \n",
       "Gender_Female                                       -0.051075   \n",
       "Gender_Male                                          0.051075   \n",
       "Family_History_No                                   -0.037189   \n",
       "Family_History_Yes                                   0.037189   \n",
       "Smoking_Status_Current Smoker                        0.040866   \n",
       "Smoking_Status_Former Smoker                        -0.037552   \n",
       "Smoking_Status_Never Smoked                          0.014094   \n",
       "APOE_ε4_Negative                                    -0.061900   \n",
       "APOE_ε4_Positive                                     0.061900   \n",
       "Physical_Activity_Mild Activity                     -0.005269   \n",
       "Physical_Activity_Moderate Activity                 -0.000673   \n",
       "Physical_Activity_Sedentary                          0.006010   \n",
       "Depression_Status_No                                 0.003235   \n",
       "Depression_Status_Yes                               -0.003235   \n",
       "Medication_History_No                               -0.027799   \n",
       "Medication_History_Yes                               0.027799   \n",
       "Nutrition_Diet_Balanced Diet                        -0.001782   \n",
       "Nutrition_Diet_Low-Carb Diet                        -0.083193   \n",
       "Nutrition_Diet_Mediterranean Diet                    0.084472   \n",
       "Sleep_Quality_Good                                  -0.003392   \n",
       "Sleep_Quality_Poor                                   0.003392   \n",
       "Chronic_Health_Conditions_Diabetes                  -0.007188   \n",
       "Chronic_Health_Conditions_Heart Disease             -0.020177   \n",
       "Chronic_Health_Conditions_Hypertension               0.036131   \n",
       "Chronic_Health_Conditions_Not diagnosed with ch...  -0.005509   \n",
       "\n",
       "                                                    BloodOxygenLevel  \\\n",
       "Diabetic                                                   -0.016575   \n",
       "AlcoholLevel                                               -0.005562   \n",
       "HeartRate                                                   0.022283   \n",
       "BloodOxygenLevel                                            1.000000   \n",
       "BodyTemperature                                            -0.007265   \n",
       "Weight                                                     -0.041081   \n",
       "MRI_Delay                                                  -0.005760   \n",
       "Dosage in mg                                               -0.062321   \n",
       "Age                                                         0.029565   \n",
       "Cognitive_Test_Scores                                       0.070218   \n",
       "Dementia                                                   -0.071454   \n",
       "Prescription_Donepezil                                     -0.063014   \n",
       "Prescription_Galantamine                                    0.011896   \n",
       "Prescription_Memantine                                      0.001363   \n",
       "Prescription_No medication was prescribed                   0.071454   \n",
       "Prescription_Rivastigmine                                  -0.062234   \n",
       "Education_Level_Diploma/Degree                             -0.004215   \n",
       "Education_Level_No School                                  -0.022598   \n",
       "Education_Level_Primary School                              0.001626   \n",
       "Education_Level_Secondary School                            0.019346   \n",
       "Dominant_Hand_Left                                          0.009602   \n",
       "Dominant_Hand_Right                                        -0.009602   \n",
       "Gender_Female                                               0.003194   \n",
       "Gender_Male                                                -0.003194   \n",
       "Family_History_No                                           0.064895   \n",
       "Family_History_Yes                                         -0.064895   \n",
       "Smoking_Status_Current Smoker                               0.061891   \n",
       "Smoking_Status_Former Smoker                               -0.034485   \n",
       "Smoking_Status_Never Smoked                                -0.001066   \n",
       "APOE_ε4_Negative                                            0.008023   \n",
       "APOE_ε4_Positive                                           -0.008023   \n",
       "Physical_Activity_Mild Activity                             0.041730   \n",
       "Physical_Activity_Moderate Activity                         0.017149   \n",
       "Physical_Activity_Sedentary                                -0.059297   \n",
       "Depression_Status_No                                        0.046504   \n",
       "Depression_Status_Yes                                      -0.046504   \n",
       "Medication_History_No                                      -0.015129   \n",
       "Medication_History_Yes                                      0.015129   \n",
       "Nutrition_Diet_Balanced Diet                               -0.000840   \n",
       "Nutrition_Diet_Low-Carb Diet                               -0.014534   \n",
       "Nutrition_Diet_Mediterranean Diet                           0.015284   \n",
       "Sleep_Quality_Good                                         -0.017862   \n",
       "Sleep_Quality_Poor                                          0.017862   \n",
       "Chronic_Health_Conditions_Diabetes                         -0.016575   \n",
       "Chronic_Health_Conditions_Heart Disease                    -0.013011   \n",
       "Chronic_Health_Conditions_Hypertension                      0.013205   \n",
       "Chronic_Health_Conditions_Not diagnosed with ch...          0.021495   \n",
       "\n",
       "                                                    BodyTemperature    Weight  \\\n",
       "Diabetic                                                  -0.053851 -0.007501   \n",
       "AlcoholLevel                                               0.030854  0.034553   \n",
       "HeartRate                                                  0.015585 -0.001730   \n",
       "BloodOxygenLevel                                          -0.007265 -0.041081   \n",
       "BodyTemperature                                            1.000000 -0.017750   \n",
       "Weight                                                    -0.017750  1.000000   \n",
       "MRI_Delay                                                  0.015953 -0.022890   \n",
       "Dosage in mg                                               0.045258 -0.029248   \n",
       "Age                                                        0.001586  0.011739   \n",
       "Cognitive_Test_Scores                                     -0.009791  0.035821   \n",
       "Dementia                                                   0.033928 -0.049563   \n",
       "Prescription_Donepezil                                     0.071177  0.006841   \n",
       "Prescription_Galantamine                                  -0.024869 -0.014468   \n",
       "Prescription_Memantine                                    -0.003018 -0.046652   \n",
       "Prescription_No medication was prescribed                 -0.033928  0.049563   \n",
       "Prescription_Rivastigmine                                  0.011288 -0.020277   \n",
       "Education_Level_Diploma/Degree                             0.044537  0.017114   \n",
       "Education_Level_No School                                  0.015182 -0.017542   \n",
       "Education_Level_Primary School                             0.016313  0.038624   \n",
       "Education_Level_Secondary School                          -0.063996 -0.040493   \n",
       "Dominant_Hand_Left                                         0.018718  0.003709   \n",
       "Dominant_Hand_Right                                       -0.018718 -0.003709   \n",
       "Gender_Female                                             -0.022369  0.015875   \n",
       "Gender_Male                                                0.022369 -0.015875   \n",
       "Family_History_No                                         -0.042260 -0.062007   \n",
       "Family_History_Yes                                         0.042260  0.062007   \n",
       "Smoking_Status_Current Smoker                             -0.011927  0.031636   \n",
       "Smoking_Status_Former Smoker                               0.024157 -0.022560   \n",
       "Smoking_Status_Never Smoked                               -0.017325  0.004393   \n",
       "APOE_ε4_Negative                                          -0.061852  0.080600   \n",
       "APOE_ε4_Positive                                           0.061852 -0.080600   \n",
       "Physical_Activity_Mild Activity                            0.013745 -0.007406   \n",
       "Physical_Activity_Moderate Activity                       -0.017615 -0.025278   \n",
       "Physical_Activity_Sedentary                                0.003491  0.032528   \n",
       "Depression_Status_No                                      -0.022563  0.032482   \n",
       "Depression_Status_Yes                                      0.022563 -0.032482   \n",
       "Medication_History_No                                     -0.022006  0.057993   \n",
       "Medication_History_Yes                                     0.022006 -0.057993   \n",
       "Nutrition_Diet_Balanced Diet                               0.015300 -0.020632   \n",
       "Nutrition_Diet_Low-Carb Diet                               0.023253 -0.000085   \n",
       "Nutrition_Diet_Mediterranean Diet                         -0.038347  0.020625   \n",
       "Sleep_Quality_Good                                        -0.011410 -0.005504   \n",
       "Sleep_Quality_Poor                                         0.011410  0.005504   \n",
       "Chronic_Health_Conditions_Diabetes                        -0.053851 -0.007501   \n",
       "Chronic_Health_Conditions_Heart Disease                    0.030771 -0.007676   \n",
       "Chronic_Health_Conditions_Hypertension                    -0.007905  0.031411   \n",
       "Chronic_Health_Conditions_Not diagnosed with ch...         0.048587 -0.012469   \n",
       "\n",
       "                                                    MRI_Delay  Dosage in mg  \\\n",
       "Diabetic                                            -0.020378      0.049210   \n",
       "AlcoholLevel                                         0.004160      0.008300   \n",
       "HeartRate                                            0.000169     -0.020054   \n",
       "BloodOxygenLevel                                    -0.005760     -0.062321   \n",
       "BodyTemperature                                      0.015953      0.045258   \n",
       "Weight                                              -0.022890     -0.029248   \n",
       "MRI_Delay                                            1.000000     -0.035924   \n",
       "Dosage in mg                                        -0.035924      1.000000   \n",
       "Age                                                 -0.002093     -0.050452   \n",
       "Cognitive_Test_Scores                               -0.052227     -0.619073   \n",
       "Dementia                                             0.031251      0.713842   \n",
       "Prescription_Donepezil                               0.007216      0.539160   \n",
       "Prescription_Galantamine                            -0.002642      0.212552   \n",
       "Prescription_Memantine                               0.012960      0.400471   \n",
       "Prescription_No medication was prescribed           -0.031251     -0.713842   \n",
       "Prescription_Rivastigmine                            0.030507     -0.055660   \n",
       "Education_Level_Diploma/Degree                       0.027998     -0.094873   \n",
       "Education_Level_No School                            0.079494      0.092476   \n",
       "Education_Level_Primary School                      -0.036853     -0.042848   \n",
       "Education_Level_Secondary School                    -0.045337      0.046704   \n",
       "Dominant_Hand_Left                                  -0.006767     -0.002064   \n",
       "Dominant_Hand_Right                                  0.006767      0.002064   \n",
       "Gender_Female                                       -0.001984      0.010194   \n",
       "Gender_Male                                          0.001984     -0.010194   \n",
       "Family_History_No                                   -0.018155      0.067373   \n",
       "Family_History_Yes                                   0.018155     -0.067373   \n",
       "Smoking_Status_Current Smoker                       -0.030748     -0.217856   \n",
       "Smoking_Status_Former Smoker                         0.010866      0.112459   \n",
       "Smoking_Status_Never Smoked                          0.006802      0.012690   \n",
       "APOE_ε4_Negative                                     0.014357     -0.310795   \n",
       "APOE_ε4_Positive                                    -0.014357      0.310795   \n",
       "Physical_Activity_Mild Activity                      0.031381      0.000993   \n",
       "Physical_Activity_Moderate Activity                 -0.018832      0.002669   \n",
       "Physical_Activity_Sedentary                         -0.013191     -0.003648   \n",
       "Depression_Status_No                                -0.052370     -0.409195   \n",
       "Depression_Status_Yes                                0.052370      0.409195   \n",
       "Medication_History_No                               -0.038864      0.024600   \n",
       "Medication_History_Yes                               0.038864     -0.024600   \n",
       "Nutrition_Diet_Balanced Diet                         0.008633     -0.021741   \n",
       "Nutrition_Diet_Low-Carb Diet                        -0.013200      0.021725   \n",
       "Nutrition_Diet_Mediterranean Diet                    0.004527      0.000048   \n",
       "Sleep_Quality_Good                                  -0.002877     -0.015638   \n",
       "Sleep_Quality_Poor                                   0.002877      0.015638   \n",
       "Chronic_Health_Conditions_Diabetes                  -0.020378      0.049210   \n",
       "Chronic_Health_Conditions_Heart Disease              0.074871     -0.048884   \n",
       "Chronic_Health_Conditions_Hypertension              -0.022546     -0.010629   \n",
       "Chronic_Health_Conditions_Not diagnosed with ch...  -0.022941     -0.008032   \n",
       "\n",
       "                                                         Age  \\\n",
       "Diabetic                                            0.000923   \n",
       "AlcoholLevel                                       -0.003081   \n",
       "HeartRate                                           0.011665   \n",
       "BloodOxygenLevel                                    0.029565   \n",
       "BodyTemperature                                     0.001586   \n",
       "Weight                                              0.011739   \n",
       "MRI_Delay                                          -0.002093   \n",
       "Dosage in mg                                       -0.050452   \n",
       "Age                                                 1.000000   \n",
       "Cognitive_Test_Scores                               0.062640   \n",
       "Dementia                                           -0.062154   \n",
       "Prescription_Donepezil                              0.029325   \n",
       "Prescription_Galantamine                           -0.075006   \n",
       "Prescription_Memantine                             -0.031683   \n",
       "Prescription_No medication was prescribed           0.062154   \n",
       "Prescription_Rivastigmine                          -0.015306   \n",
       "Education_Level_Diploma/Degree                     -0.000005   \n",
       "Education_Level_No School                          -0.021198   \n",
       "Education_Level_Primary School                      0.001532   \n",
       "Education_Level_Secondary School                    0.015059   \n",
       "Dominant_Hand_Left                                  0.065995   \n",
       "Dominant_Hand_Right                                -0.065995   \n",
       "Gender_Female                                      -0.045022   \n",
       "Gender_Male                                         0.045022   \n",
       "Family_History_No                                  -0.071085   \n",
       "Family_History_Yes                                  0.071085   \n",
       "Smoking_Status_Current Smoker                       0.020480   \n",
       "Smoking_Status_Former Smoker                       -0.002399   \n",
       "Smoking_Status_Never Smoked                        -0.009375   \n",
       "APOE_ε4_Negative                                    0.017701   \n",
       "APOE_ε4_Positive                                   -0.017701   \n",
       "Physical_Activity_Mild Activity                    -0.011918   \n",
       "Physical_Activity_Moderate Activity                -0.013876   \n",
       "Physical_Activity_Sedentary                         0.025820   \n",
       "Depression_Status_No                                0.018278   \n",
       "Depression_Status_Yes                              -0.018278   \n",
       "Medication_History_No                               0.050559   \n",
       "Medication_History_Yes                             -0.050559   \n",
       "Nutrition_Diet_Balanced Diet                       -0.071585   \n",
       "Nutrition_Diet_Low-Carb Diet                       -0.005764   \n",
       "Nutrition_Diet_Mediterranean Diet                   0.076998   \n",
       "Sleep_Quality_Good                                 -0.003336   \n",
       "Sleep_Quality_Poor                                  0.003336   \n",
       "Chronic_Health_Conditions_Diabetes                  0.000923   \n",
       "Chronic_Health_Conditions_Heart Disease            -0.008128   \n",
       "Chronic_Health_Conditions_Hypertension             -0.042758   \n",
       "Chronic_Health_Conditions_Not diagnosed with ch...  0.046621   \n",
       "\n",
       "                                                    Cognitive_Test_Scores  \\\n",
       "Diabetic                                                        -0.050019   \n",
       "AlcoholLevel                                                    -0.018716   \n",
       "HeartRate                                                        0.005493   \n",
       "BloodOxygenLevel                                                 0.070218   \n",
       "BodyTemperature                                                 -0.009791   \n",
       "Weight                                                           0.035821   \n",
       "MRI_Delay                                                       -0.052227   \n",
       "Dosage in mg                                                    -0.619073   \n",
       "Age                                                              0.062640   \n",
       "Cognitive_Test_Scores                                            1.000000   \n",
       "Dementia                                                        -0.843247   \n",
       "Prescription_Donepezil                                          -0.306300   \n",
       "Prescription_Galantamine                                        -0.328976   \n",
       "Prescription_Memantine                                          -0.356868   \n",
       "Prescription_No medication was prescribed                        0.843247   \n",
       "Prescription_Rivastigmine                                       -0.297839   \n",
       "Education_Level_Diploma/Degree                                   0.124226   \n",
       "Education_Level_No School                                       -0.115918   \n",
       "Education_Level_Primary School                                   0.049045   \n",
       "Education_Level_Secondary School                                -0.057739   \n",
       "Dominant_Hand_Left                                               0.003288   \n",
       "Dominant_Hand_Right                                             -0.003288   \n",
       "Gender_Female                                                    0.006271   \n",
       "Gender_Male                                                     -0.006271   \n",
       "Family_History_No                                               -0.084899   \n",
       "Family_History_Yes                                               0.084899   \n",
       "Smoking_Status_Current Smoker                                    0.251192   \n",
       "Smoking_Status_Former Smoker                                    -0.098752   \n",
       "Smoking_Status_Never Smoked                                     -0.045580   \n",
       "APOE_ε4_Negative                                                 0.372562   \n",
       "APOE_ε4_Positive                                                -0.372562   \n",
       "Physical_Activity_Mild Activity                                  0.017509   \n",
       "Physical_Activity_Moderate Activity                             -0.027555   \n",
       "Physical_Activity_Sedentary                                      0.009510   \n",
       "Depression_Status_No                                             0.477475   \n",
       "Depression_Status_Yes                                           -0.477475   \n",
       "Medication_History_No                                           -0.013304   \n",
       "Medication_History_Yes                                           0.013304   \n",
       "Nutrition_Diet_Balanced Diet                                     0.037301   \n",
       "Nutrition_Diet_Low-Carb Diet                                    -0.016316   \n",
       "Nutrition_Diet_Mediterranean Diet                               -0.020917   \n",
       "Sleep_Quality_Good                                               0.004113   \n",
       "Sleep_Quality_Poor                                              -0.004113   \n",
       "Chronic_Health_Conditions_Diabetes                              -0.050019   \n",
       "Chronic_Health_Conditions_Heart Disease                          0.046618   \n",
       "Chronic_Health_Conditions_Hypertension                           0.015205   \n",
       "Chronic_Health_Conditions_Not diagnosed with ch...               0.006928   \n",
       "\n",
       "                                                    ...  \\\n",
       "Diabetic                                            ...   \n",
       "AlcoholLevel                                        ...   \n",
       "HeartRate                                           ...   \n",
       "BloodOxygenLevel                                    ...   \n",
       "BodyTemperature                                     ...   \n",
       "Weight                                              ...   \n",
       "MRI_Delay                                           ...   \n",
       "Dosage in mg                                        ...   \n",
       "Age                                                 ...   \n",
       "Cognitive_Test_Scores                               ...   \n",
       "Dementia                                            ...   \n",
       "Prescription_Donepezil                              ...   \n",
       "Prescription_Galantamine                            ...   \n",
       "Prescription_Memantine                              ...   \n",
       "Prescription_No medication was prescribed           ...   \n",
       "Prescription_Rivastigmine                           ...   \n",
       "Education_Level_Diploma/Degree                      ...   \n",
       "Education_Level_No School                           ...   \n",
       "Education_Level_Primary School                      ...   \n",
       "Education_Level_Secondary School                    ...   \n",
       "Dominant_Hand_Left                                  ...   \n",
       "Dominant_Hand_Right                                 ...   \n",
       "Gender_Female                                       ...   \n",
       "Gender_Male                                         ...   \n",
       "Family_History_No                                   ...   \n",
       "Family_History_Yes                                  ...   \n",
       "Smoking_Status_Current Smoker                       ...   \n",
       "Smoking_Status_Former Smoker                        ...   \n",
       "Smoking_Status_Never Smoked                         ...   \n",
       "APOE_ε4_Negative                                    ...   \n",
       "APOE_ε4_Positive                                    ...   \n",
       "Physical_Activity_Mild Activity                     ...   \n",
       "Physical_Activity_Moderate Activity                 ...   \n",
       "Physical_Activity_Sedentary                         ...   \n",
       "Depression_Status_No                                ...   \n",
       "Depression_Status_Yes                               ...   \n",
       "Medication_History_No                               ...   \n",
       "Medication_History_Yes                              ...   \n",
       "Nutrition_Diet_Balanced Diet                        ...   \n",
       "Nutrition_Diet_Low-Carb Diet                        ...   \n",
       "Nutrition_Diet_Mediterranean Diet                   ...   \n",
       "Sleep_Quality_Good                                  ...   \n",
       "Sleep_Quality_Poor                                  ...   \n",
       "Chronic_Health_Conditions_Diabetes                  ...   \n",
       "Chronic_Health_Conditions_Heart Disease             ...   \n",
       "Chronic_Health_Conditions_Hypertension              ...   \n",
       "Chronic_Health_Conditions_Not diagnosed with ch...  ...   \n",
       "\n",
       "                                                    Medication_History_Yes  \\\n",
       "Diabetic                                                         -0.006733   \n",
       "AlcoholLevel                                                     -0.058951   \n",
       "HeartRate                                                         0.027799   \n",
       "BloodOxygenLevel                                                  0.015129   \n",
       "BodyTemperature                                                   0.022006   \n",
       "Weight                                                           -0.057993   \n",
       "MRI_Delay                                                         0.038864   \n",
       "Dosage in mg                                                     -0.024600   \n",
       "Age                                                              -0.050559   \n",
       "Cognitive_Test_Scores                                             0.013304   \n",
       "Dementia                                                          0.006846   \n",
       "Prescription_Donepezil                                           -0.025797   \n",
       "Prescription_Galantamine                                          0.004537   \n",
       "Prescription_Memantine                                            0.001246   \n",
       "Prescription_No medication was prescribed                        -0.006846   \n",
       "Prescription_Rivastigmine                                         0.029871   \n",
       "Education_Level_Diploma/Degree                                    0.004860   \n",
       "Education_Level_No School                                        -0.014761   \n",
       "Education_Level_Primary School                                   -0.020298   \n",
       "Education_Level_Secondary School                                  0.029334   \n",
       "Dominant_Hand_Left                                                0.008946   \n",
       "Dominant_Hand_Right                                              -0.008946   \n",
       "Gender_Female                                                     0.031789   \n",
       "Gender_Male                                                      -0.031789   \n",
       "Family_History_No                                                 0.053183   \n",
       "Family_History_Yes                                               -0.053183   \n",
       "Smoking_Status_Current Smoker                                     0.005174   \n",
       "Smoking_Status_Former Smoker                                     -0.094017   \n",
       "Smoking_Status_Never Smoked                                       0.091145   \n",
       "APOE_ε4_Negative                                                  0.007450   \n",
       "APOE_ε4_Positive                                                 -0.007450   \n",
       "Physical_Activity_Mild Activity                                   0.019225   \n",
       "Physical_Activity_Moderate Activity                              -0.014831   \n",
       "Physical_Activity_Sedentary                                      -0.004822   \n",
       "Depression_Status_No                                              0.004326   \n",
       "Depression_Status_Yes                                            -0.004326   \n",
       "Medication_History_No                                            -1.000000   \n",
       "Medication_History_Yes                                            1.000000   \n",
       "Nutrition_Diet_Balanced Diet                                     -0.011250   \n",
       "Nutrition_Diet_Low-Carb Diet                                      0.010127   \n",
       "Nutrition_Diet_Mediterranean Diet                                 0.001134   \n",
       "Sleep_Quality_Good                                                0.029985   \n",
       "Sleep_Quality_Poor                                               -0.029985   \n",
       "Chronic_Health_Conditions_Diabetes                               -0.006733   \n",
       "Chronic_Health_Conditions_Heart Disease                           0.057109   \n",
       "Chronic_Health_Conditions_Hypertension                           -0.036916   \n",
       "Chronic_Health_Conditions_Not diagnosed with ch...               -0.010470   \n",
       "\n",
       "                                                    Nutrition_Diet_Balanced Diet  \\\n",
       "Diabetic                                                               -0.009839   \n",
       "AlcoholLevel                                                           -0.013902   \n",
       "HeartRate                                                              -0.001782   \n",
       "BloodOxygenLevel                                                       -0.000840   \n",
       "BodyTemperature                                                         0.015300   \n",
       "Weight                                                                 -0.020632   \n",
       "MRI_Delay                                                               0.008633   \n",
       "Dosage in mg                                                           -0.021741   \n",
       "Age                                                                    -0.071585   \n",
       "Cognitive_Test_Scores                                                   0.037301   \n",
       "Dementia                                                               -0.029827   \n",
       "Prescription_Donepezil                                                 -0.016875   \n",
       "Prescription_Galantamine                                               -0.067418   \n",
       "Prescription_Memantine                                                  0.034983   \n",
       "Prescription_No medication was prescribed                               0.029827   \n",
       "Prescription_Rivastigmine                                               0.003227   \n",
       "Education_Level_Diploma/Degree                                         -0.020488   \n",
       "Education_Level_No School                                              -0.008566   \n",
       "Education_Level_Primary School                                         -0.031134   \n",
       "Education_Level_Secondary School                                        0.055729   \n",
       "Dominant_Hand_Left                                                      0.007191   \n",
       "Dominant_Hand_Right                                                    -0.007191   \n",
       "Gender_Female                                                           0.028336   \n",
       "Gender_Male                                                            -0.028336   \n",
       "Family_History_No                                                       0.011221   \n",
       "Family_History_Yes                                                     -0.011221   \n",
       "Smoking_Status_Current Smoker                                           0.008310   \n",
       "Smoking_Status_Former Smoker                                            0.042381   \n",
       "Smoking_Status_Never Smoked                                            -0.047206   \n",
       "APOE_ε4_Negative                                                        0.020312   \n",
       "APOE_ε4_Positive                                                       -0.020312   \n",
       "Physical_Activity_Mild Activity                                         0.064369   \n",
       "Physical_Activity_Moderate Activity                                    -0.048223   \n",
       "Physical_Activity_Sedentary                                            -0.017563   \n",
       "Depression_Status_No                                                   -0.003259   \n",
       "Depression_Status_Yes                                                   0.003259   \n",
       "Medication_History_No                                                   0.011250   \n",
       "Medication_History_Yes                                                 -0.011250   \n",
       "Nutrition_Diet_Balanced Diet                                            1.000000   \n",
       "Nutrition_Diet_Low-Carb Diet                                           -0.494767   \n",
       "Nutrition_Diet_Mediterranean Diet                                      -0.503744   \n",
       "Sleep_Quality_Good                                                      0.022510   \n",
       "Sleep_Quality_Poor                                                     -0.022510   \n",
       "Chronic_Health_Conditions_Diabetes                                     -0.009839   \n",
       "Chronic_Health_Conditions_Heart Disease                                 0.044240   \n",
       "Chronic_Health_Conditions_Hypertension                                  0.013001   \n",
       "Chronic_Health_Conditions_Not diagnosed with ch...                     -0.041145   \n",
       "\n",
       "                                                    Nutrition_Diet_Low-Carb Diet  \\\n",
       "Diabetic                                                                0.003021   \n",
       "AlcoholLevel                                                            0.032151   \n",
       "HeartRate                                                              -0.083193   \n",
       "BloodOxygenLevel                                                       -0.014534   \n",
       "BodyTemperature                                                         0.023253   \n",
       "Weight                                                                 -0.000085   \n",
       "MRI_Delay                                                              -0.013200   \n",
       "Dosage in mg                                                            0.021725   \n",
       "Age                                                                    -0.005764   \n",
       "Cognitive_Test_Scores                                                  -0.016316   \n",
       "Dementia                                                                0.008298   \n",
       "Prescription_Donepezil                                                 -0.015383   \n",
       "Prescription_Galantamine                                                0.036976   \n",
       "Prescription_Memantine                                                  0.004838   \n",
       "Prescription_No medication was prescribed                              -0.008298   \n",
       "Prescription_Rivastigmine                                              -0.014910   \n",
       "Education_Level_Diploma/Degree                                         -0.036489   \n",
       "Education_Level_No School                                               0.004995   \n",
       "Education_Level_Primary School                                          0.028922   \n",
       "Education_Level_Secondary School                                       -0.006103   \n",
       "Dominant_Hand_Left                                                     -0.047970   \n",
       "Dominant_Hand_Right                                                     0.047970   \n",
       "Gender_Female                                                           0.019907   \n",
       "Gender_Male                                                            -0.019907   \n",
       "Family_History_No                                                      -0.005960   \n",
       "Family_History_Yes                                                      0.005960   \n",
       "Smoking_Status_Current Smoker                                          -0.042358   \n",
       "Smoking_Status_Former Smoker                                            0.025013   \n",
       "Smoking_Status_Never Smoked                                            -0.000684   \n",
       "APOE_ε4_Negative                                                       -0.004523   \n",
       "APOE_ε4_Positive                                                        0.004523   \n",
       "Physical_Activity_Mild Activity                                        -0.048257   \n",
       "Physical_Activity_Moderate Activity                                     0.050507   \n",
       "Physical_Activity_Sedentary                                            -0.001039   \n",
       "Depression_Status_No                                                    0.004203   \n",
       "Depression_Status_Yes                                                  -0.004203   \n",
       "Medication_History_No                                                  -0.010127   \n",
       "Medication_History_Yes                                                  0.010127   \n",
       "Nutrition_Diet_Balanced Diet                                           -0.494767   \n",
       "Nutrition_Diet_Low-Carb Diet                                            1.000000   \n",
       "Nutrition_Diet_Mediterranean Diet                                      -0.501475   \n",
       "Sleep_Quality_Good                                                     -0.016115   \n",
       "Sleep_Quality_Poor                                                      0.016115   \n",
       "Chronic_Health_Conditions_Diabetes                                      0.003021   \n",
       "Chronic_Health_Conditions_Heart Disease                                -0.047893   \n",
       "Chronic_Health_Conditions_Hypertension                                  0.008921   \n",
       "Chronic_Health_Conditions_Not diagnosed with ch...                      0.032897   \n",
       "\n",
       "                                                    Nutrition_Diet_Mediterranean Diet  \\\n",
       "Diabetic                                                                     0.006793   \n",
       "AlcoholLevel                                                                -0.018119   \n",
       "HeartRate                                                                    0.084472   \n",
       "BloodOxygenLevel                                                             0.015284   \n",
       "BodyTemperature                                                             -0.038347   \n",
       "Weight                                                                       0.020625   \n",
       "MRI_Delay                                                                    0.004527   \n",
       "Dosage in mg                                                                 0.000048   \n",
       "Age                                                                          0.076998   \n",
       "Cognitive_Test_Scores                                                       -0.020917   \n",
       "Dementia                                                                     0.021446   \n",
       "Prescription_Donepezil                                                       0.032092   \n",
       "Prescription_Galantamine                                                     0.030363   \n",
       "Prescription_Memantine                                                      -0.039637   \n",
       "Prescription_No medication was prescribed                                   -0.021446   \n",
       "Prescription_Rivastigmine                                                    0.011609   \n",
       "Education_Level_Diploma/Degree                                               0.056669   \n",
       "Education_Level_No School                                                    0.003563   \n",
       "Education_Level_Primary School                                               0.002246   \n",
       "Education_Level_Secondary School                                            -0.049415   \n",
       "Dominant_Hand_Left                                                           0.040526   \n",
       "Dominant_Hand_Right                                                         -0.040526   \n",
       "Gender_Female                                                               -0.047999   \n",
       "Gender_Male                                                                  0.047999   \n",
       "Family_History_No                                                           -0.005247   \n",
       "Family_History_Yes                                                           0.005247   \n",
       "Smoking_Status_Current Smoker                                                0.033833   \n",
       "Smoking_Status_Former Smoker                                                -0.067057   \n",
       "Smoking_Status_Never Smoked                                                  0.047676   \n",
       "APOE_ε4_Negative                                                            -0.015726   \n",
       "APOE_ε4_Positive                                                             0.015726   \n",
       "Physical_Activity_Mild Activity                                             -0.016114   \n",
       "Physical_Activity_Moderate Activity                                         -0.002197   \n",
       "Physical_Activity_Sedentary                                                  0.018518   \n",
       "Depression_Status_No                                                        -0.000934   \n",
       "Depression_Status_Yes                                                        0.000934   \n",
       "Medication_History_No                                                       -0.001134   \n",
       "Medication_History_Yes                                                       0.001134   \n",
       "Nutrition_Diet_Balanced Diet                                                -0.503744   \n",
       "Nutrition_Diet_Low-Carb Diet                                                -0.501475   \n",
       "Nutrition_Diet_Mediterranean Diet                                            1.000000   \n",
       "Sleep_Quality_Good                                                          -0.006391   \n",
       "Sleep_Quality_Poor                                                           0.006391   \n",
       "Chronic_Health_Conditions_Diabetes                                           0.006793   \n",
       "Chronic_Health_Conditions_Heart Disease                                      0.003563   \n",
       "Chronic_Health_Conditions_Hypertension                                      -0.021811   \n",
       "Chronic_Health_Conditions_Not diagnosed with ch...                           0.008261   \n",
       "\n",
       "                                                    Sleep_Quality_Good  \\\n",
       "Diabetic                                                      0.055916   \n",
       "AlcoholLevel                                                 -0.033801   \n",
       "HeartRate                                                    -0.003392   \n",
       "BloodOxygenLevel                                             -0.017862   \n",
       "BodyTemperature                                              -0.011410   \n",
       "Weight                                                       -0.005504   \n",
       "MRI_Delay                                                    -0.002877   \n",
       "Dosage in mg                                                 -0.015638   \n",
       "Age                                                          -0.003336   \n",
       "Cognitive_Test_Scores                                         0.004113   \n",
       "Dementia                                                     -0.020096   \n",
       "Prescription_Donepezil                                        0.033825   \n",
       "Prescription_Galantamine                                      0.010608   \n",
       "Prescription_Memantine                                       -0.045890   \n",
       "Prescription_No medication was prescribed                     0.020096   \n",
       "Prescription_Rivastigmine                                    -0.027576   \n",
       "Education_Level_Diploma/Degree                               -0.071649   \n",
       "Education_Level_No School                                    -0.006813   \n",
       "Education_Level_Primary School                                0.056440   \n",
       "Education_Level_Secondary School                              0.001464   \n",
       "Dominant_Hand_Left                                           -0.015463   \n",
       "Dominant_Hand_Right                                           0.015463   \n",
       "Gender_Female                                                -0.019502   \n",
       "Gender_Male                                                   0.019502   \n",
       "Family_History_No                                             0.041409   \n",
       "Family_History_Yes                                           -0.041409   \n",
       "Smoking_Status_Current Smoker                                -0.013589   \n",
       "Smoking_Status_Former Smoker                                 -0.037934   \n",
       "Smoking_Status_Never Smoked                                   0.045789   \n",
       "APOE_ε4_Negative                                              0.006107   \n",
       "APOE_ε4_Positive                                             -0.006107   \n",
       "Physical_Activity_Mild Activity                               0.098425   \n",
       "Physical_Activity_Moderate Activity                          -0.039550   \n",
       "Physical_Activity_Sedentary                                  -0.060688   \n",
       "Depression_Status_No                                          0.019436   \n",
       "Depression_Status_Yes                                        -0.019436   \n",
       "Medication_History_No                                        -0.029985   \n",
       "Medication_History_Yes                                        0.029985   \n",
       "Nutrition_Diet_Balanced Diet                                  0.022510   \n",
       "Nutrition_Diet_Low-Carb Diet                                 -0.016115   \n",
       "Nutrition_Diet_Mediterranean Diet                            -0.006391   \n",
       "Sleep_Quality_Good                                            1.000000   \n",
       "Sleep_Quality_Poor                                           -1.000000   \n",
       "Chronic_Health_Conditions_Diabetes                            0.055916   \n",
       "Chronic_Health_Conditions_Heart Disease                       0.020883   \n",
       "Chronic_Health_Conditions_Hypertension                       -0.079620   \n",
       "Chronic_Health_Conditions_Not diagnosed with ch...           -0.017853   \n",
       "\n",
       "                                                    Sleep_Quality_Poor  \\\n",
       "Diabetic                                                     -0.055916   \n",
       "AlcoholLevel                                                  0.033801   \n",
       "HeartRate                                                     0.003392   \n",
       "BloodOxygenLevel                                              0.017862   \n",
       "BodyTemperature                                               0.011410   \n",
       "Weight                                                        0.005504   \n",
       "MRI_Delay                                                     0.002877   \n",
       "Dosage in mg                                                  0.015638   \n",
       "Age                                                           0.003336   \n",
       "Cognitive_Test_Scores                                        -0.004113   \n",
       "Dementia                                                      0.020096   \n",
       "Prescription_Donepezil                                       -0.033825   \n",
       "Prescription_Galantamine                                     -0.010608   \n",
       "Prescription_Memantine                                        0.045890   \n",
       "Prescription_No medication was prescribed                    -0.020096   \n",
       "Prescription_Rivastigmine                                     0.027576   \n",
       "Education_Level_Diploma/Degree                                0.071649   \n",
       "Education_Level_No School                                     0.006813   \n",
       "Education_Level_Primary School                               -0.056440   \n",
       "Education_Level_Secondary School                             -0.001464   \n",
       "Dominant_Hand_Left                                            0.015463   \n",
       "Dominant_Hand_Right                                          -0.015463   \n",
       "Gender_Female                                                 0.019502   \n",
       "Gender_Male                                                  -0.019502   \n",
       "Family_History_No                                            -0.041409   \n",
       "Family_History_Yes                                            0.041409   \n",
       "Smoking_Status_Current Smoker                                 0.013589   \n",
       "Smoking_Status_Former Smoker                                  0.037934   \n",
       "Smoking_Status_Never Smoked                                  -0.045789   \n",
       "APOE_ε4_Negative                                             -0.006107   \n",
       "APOE_ε4_Positive                                              0.006107   \n",
       "Physical_Activity_Mild Activity                              -0.098425   \n",
       "Physical_Activity_Moderate Activity                           0.039550   \n",
       "Physical_Activity_Sedentary                                   0.060688   \n",
       "Depression_Status_No                                         -0.019436   \n",
       "Depression_Status_Yes                                         0.019436   \n",
       "Medication_History_No                                         0.029985   \n",
       "Medication_History_Yes                                       -0.029985   \n",
       "Nutrition_Diet_Balanced Diet                                 -0.022510   \n",
       "Nutrition_Diet_Low-Carb Diet                                  0.016115   \n",
       "Nutrition_Diet_Mediterranean Diet                             0.006391   \n",
       "Sleep_Quality_Good                                           -1.000000   \n",
       "Sleep_Quality_Poor                                            1.000000   \n",
       "Chronic_Health_Conditions_Diabetes                           -0.055916   \n",
       "Chronic_Health_Conditions_Heart Disease                      -0.020883   \n",
       "Chronic_Health_Conditions_Hypertension                        0.079620   \n",
       "Chronic_Health_Conditions_Not diagnosed with ch...            0.017853   \n",
       "\n",
       "                                                    Chronic_Health_Conditions_Diabetes  \\\n",
       "Diabetic                                                                      1.000000   \n",
       "AlcoholLevel                                                                 -0.025616   \n",
       "HeartRate                                                                    -0.007188   \n",
       "BloodOxygenLevel                                                             -0.016575   \n",
       "BodyTemperature                                                              -0.053851   \n",
       "Weight                                                                       -0.007501   \n",
       "MRI_Delay                                                                    -0.020378   \n",
       "Dosage in mg                                                                  0.049210   \n",
       "Age                                                                           0.000923   \n",
       "Cognitive_Test_Scores                                                        -0.050019   \n",
       "Dementia                                                                      0.044815   \n",
       "Prescription_Donepezil                                                        0.031793   \n",
       "Prescription_Galantamine                                                      0.005293   \n",
       "Prescription_Memantine                                                        0.037943   \n",
       "Prescription_No medication was prescribed                                    -0.044815   \n",
       "Prescription_Rivastigmine                                                    -0.006469   \n",
       "Education_Level_Diploma/Degree                                                0.022424   \n",
       "Education_Level_No School                                                     0.008209   \n",
       "Education_Level_Primary School                                                0.005922   \n",
       "Education_Level_Secondary School                                             -0.030237   \n",
       "Dominant_Hand_Left                                                            0.083100   \n",
       "Dominant_Hand_Right                                                          -0.083100   \n",
       "Gender_Female                                                                -0.022216   \n",
       "Gender_Male                                                                   0.022216   \n",
       "Family_History_No                                                             0.023066   \n",
       "Family_History_Yes                                                           -0.023066   \n",
       "Smoking_Status_Current Smoker                                                 0.012793   \n",
       "Smoking_Status_Former Smoker                                                 -0.031940   \n",
       "Smoking_Status_Never Smoked                                                   0.024618   \n",
       "APOE_ε4_Negative                                                             -0.025953   \n",
       "APOE_ε4_Positive                                                              0.025953   \n",
       "Physical_Activity_Mild Activity                                               0.003928   \n",
       "Physical_Activity_Moderate Activity                                           0.003720   \n",
       "Physical_Activity_Sedentary                                                  -0.007666   \n",
       "Depression_Status_No                                                         -0.015421   \n",
       "Depression_Status_Yes                                                         0.015421   \n",
       "Medication_History_No                                                         0.006733   \n",
       "Medication_History_Yes                                                       -0.006733   \n",
       "Nutrition_Diet_Balanced Diet                                                 -0.009839   \n",
       "Nutrition_Diet_Low-Carb Diet                                                  0.003021   \n",
       "Nutrition_Diet_Mediterranean Diet                                             0.006793   \n",
       "Sleep_Quality_Good                                                            0.055916   \n",
       "Sleep_Quality_Poor                                                           -0.055916   \n",
       "Chronic_Health_Conditions_Diabetes                                            1.000000   \n",
       "Chronic_Health_Conditions_Heart Disease                                      -0.439574   \n",
       "Chronic_Health_Conditions_Hypertension                                       -0.436213   \n",
       "Chronic_Health_Conditions_Not diagnosed with ch...                           -0.479236   \n",
       "\n",
       "                                                    Chronic_Health_Conditions_Heart Disease  \\\n",
       "Diabetic                                                                          -0.439574   \n",
       "AlcoholLevel                                                                      -0.055492   \n",
       "HeartRate                                                                         -0.020177   \n",
       "BloodOxygenLevel                                                                  -0.013011   \n",
       "BodyTemperature                                                                    0.030771   \n",
       "Weight                                                                            -0.007676   \n",
       "MRI_Delay                                                                          0.074871   \n",
       "Dosage in mg                                                                      -0.048884   \n",
       "Age                                                                               -0.008128   \n",
       "Cognitive_Test_Scores                                                              0.046618   \n",
       "Dementia                                                                          -0.056256   \n",
       "Prescription_Donepezil                                                            -0.039406   \n",
       "Prescription_Galantamine                                                          -0.003133   \n",
       "Prescription_Memantine                                                            -0.031760   \n",
       "Prescription_No medication was prescribed                                          0.056256   \n",
       "Prescription_Rivastigmine                                                         -0.012331   \n",
       "Education_Level_Diploma/Degree                                                     0.003386   \n",
       "Education_Level_No School                                                         -0.038366   \n",
       "Education_Level_Primary School                                                     0.038002   \n",
       "Education_Level_Secondary School                                                  -0.012735   \n",
       "Dominant_Hand_Left                                                                -0.041173   \n",
       "Dominant_Hand_Right                                                                0.041173   \n",
       "Gender_Female                                                                      0.043549   \n",
       "Gender_Male                                                                       -0.043549   \n",
       "Family_History_No                                                                  0.008849   \n",
       "Family_History_Yes                                                                -0.008849   \n",
       "Smoking_Status_Current Smoker                                                     -0.028483   \n",
       "Smoking_Status_Former Smoker                                                      -0.016582   \n",
       "Smoking_Status_Never Smoked                                                        0.032979   \n",
       "APOE_ε4_Negative                                                                   0.069374   \n",
       "APOE_ε4_Positive                                                                  -0.069374   \n",
       "Physical_Activity_Mild Activity                                                   -0.008134   \n",
       "Physical_Activity_Moderate Activity                                                0.022013   \n",
       "Physical_Activity_Sedentary                                                       -0.013535   \n",
       "Depression_Status_No                                                               0.019113   \n",
       "Depression_Status_Yes                                                             -0.019113   \n",
       "Medication_History_No                                                             -0.057109   \n",
       "Medication_History_Yes                                                             0.057109   \n",
       "Nutrition_Diet_Balanced Diet                                                       0.044240   \n",
       "Nutrition_Diet_Low-Carb Diet                                                      -0.047893   \n",
       "Nutrition_Diet_Mediterranean Diet                                                  0.003563   \n",
       "Sleep_Quality_Good                                                                 0.020883   \n",
       "Sleep_Quality_Poor                                                                -0.020883   \n",
       "Chronic_Health_Conditions_Diabetes                                                -0.439574   \n",
       "Chronic_Health_Conditions_Heart Disease                                            1.000000   \n",
       "Chronic_Health_Conditions_Hypertension                                            -0.182029   \n",
       "Chronic_Health_Conditions_Not diagnosed with ch...                                -0.199983   \n",
       "\n",
       "                                                    Chronic_Health_Conditions_Hypertension  \\\n",
       "Diabetic                                                                         -0.436213   \n",
       "AlcoholLevel                                                                      0.002164   \n",
       "HeartRate                                                                         0.036131   \n",
       "BloodOxygenLevel                                                                  0.013205   \n",
       "BodyTemperature                                                                  -0.007905   \n",
       "Weight                                                                            0.031411   \n",
       "MRI_Delay                                                                        -0.022546   \n",
       "Dosage in mg                                                                     -0.010629   \n",
       "Age                                                                              -0.042758   \n",
       "Cognitive_Test_Scores                                                             0.015205   \n",
       "Dementia                                                                         -0.012256   \n",
       "Prescription_Donepezil                                                           -0.011310   \n",
       "Prescription_Galantamine                                                         -0.043047   \n",
       "Prescription_Memantine                                                            0.011774   \n",
       "Prescription_No medication was prescribed                                         0.012256   \n",
       "Prescription_Rivastigmine                                                         0.023962   \n",
       "Education_Level_Diploma/Degree                                                   -0.009718   \n",
       "Education_Level_No School                                                         0.055918   \n",
       "Education_Level_Primary School                                                   -0.020040   \n",
       "Education_Level_Secondary School                                                 -0.015170   \n",
       "Dominant_Hand_Left                                                               -0.007823   \n",
       "Dominant_Hand_Right                                                               0.007823   \n",
       "Gender_Female                                                                     0.004934   \n",
       "Gender_Male                                                                      -0.004934   \n",
       "Family_History_No                                                                -0.019127   \n",
       "Family_History_Yes                                                                0.019127   \n",
       "Smoking_Status_Current Smoker                                                    -0.036594   \n",
       "Smoking_Status_Former Smoker                                                      0.066493   \n",
       "Smoking_Status_Never Smoked                                                      -0.045523   \n",
       "APOE_ε4_Negative                                                                 -0.029043   \n",
       "APOE_ε4_Positive                                                                  0.029043   \n",
       "Physical_Activity_Mild Activity                                                   0.007549   \n",
       "Physical_Activity_Moderate Activity                                              -0.015831   \n",
       "Physical_Activity_Sedentary                                                       0.008011   \n",
       "Depression_Status_No                                                              0.009591   \n",
       "Depression_Status_Yes                                                            -0.009591   \n",
       "Medication_History_No                                                             0.036916   \n",
       "Medication_History_Yes                                                           -0.036916   \n",
       "Nutrition_Diet_Balanced Diet                                                      0.013001   \n",
       "Nutrition_Diet_Low-Carb Diet                                                      0.008921   \n",
       "Nutrition_Diet_Mediterranean Diet                                                -0.021811   \n",
       "Sleep_Quality_Good                                                               -0.079620   \n",
       "Sleep_Quality_Poor                                                                0.079620   \n",
       "Chronic_Health_Conditions_Diabetes                                               -0.436213   \n",
       "Chronic_Health_Conditions_Heart Disease                                          -0.182029   \n",
       "Chronic_Health_Conditions_Hypertension                                            1.000000   \n",
       "Chronic_Health_Conditions_Not diagnosed with ch...                               -0.198454   \n",
       "\n",
       "                                                    Chronic_Health_Conditions_Not diagnosed with chronic illness  \n",
       "Diabetic                                                                                    -0.479236             \n",
       "AlcoholLevel                                                                                 0.083755             \n",
       "HeartRate                                                                                   -0.005509             \n",
       "BloodOxygenLevel                                                                             0.021495             \n",
       "BodyTemperature                                                                              0.048587             \n",
       "Weight                                                                                      -0.012469             \n",
       "MRI_Delay                                                                                   -0.022941             \n",
       "Dosage in mg                                                                                -0.008032             \n",
       "Age                                                                                          0.046621             \n",
       "Cognitive_Test_Scores                                                                        0.006928             \n",
       "Dementia                                                                                     0.006185             \n",
       "Prescription_Donepezil                                                                       0.006369             \n",
       "Prescription_Galantamine                                                                     0.036480             \n",
       "Prescription_Memantine                                                                      -0.030545             \n",
       "Prescription_No medication was prescribed                                                   -0.006185             \n",
       "Prescription_Rivastigmine                                                                   -0.002425             \n",
       "Education_Level_Diploma/Degree                                                              -0.023309             \n",
       "Education_Level_No School                                                                   -0.026994             \n",
       "Education_Level_Primary School                                                              -0.024779             \n",
       "Education_Level_Secondary School                                                             0.065693             \n",
       "Dominant_Hand_Left                                                                          -0.062134             \n",
       "Dominant_Hand_Right                                                                          0.062134             \n",
       "Gender_Female                                                                               -0.016779             \n",
       "Gender_Male                                                                                  0.016779             \n",
       "Family_History_No                                                                           -0.020468             \n",
       "Family_History_Yes                                                                           0.020468             \n",
       "Smoking_Status_Current Smoker                                                                0.044573             \n",
       "Smoking_Status_Former Smoker                                                                -0.005141             \n",
       "Smoking_Status_Never Smoked                                                                 -0.020483             \n",
       "APOE_ε4_Negative                                                                            -0.004381             \n",
       "APOE_ε4_Positive                                                                             0.004381             \n",
       "Physical_Activity_Mild Activity                                                             -0.004531             \n",
       "Physical_Activity_Moderate Activity                                                         -0.010766             \n",
       "Physical_Activity_Sedentary                                                                  0.015250             \n",
       "Depression_Status_No                                                                        -0.006945             \n",
       "Depression_Status_Yes                                                                        0.006945             \n",
       "Medication_History_No                                                                        0.010470             \n",
       "Medication_History_Yes                                                                      -0.010470             \n",
       "Nutrition_Diet_Balanced Diet                                                                -0.041145             \n",
       "Nutrition_Diet_Low-Carb Diet                                                                 0.032897             \n",
       "Nutrition_Diet_Mediterranean Diet                                                            0.008261             \n",
       "Sleep_Quality_Good                                                                          -0.017853             \n",
       "Sleep_Quality_Poor                                                                           0.017853             \n",
       "Chronic_Health_Conditions_Diabetes                                                          -0.479236             \n",
       "Chronic_Health_Conditions_Heart Disease                                                     -0.199983             \n",
       "Chronic_Health_Conditions_Hypertension                                                      -0.198454             \n",
       "Chronic_Health_Conditions_Not diagnosed with ch...                                           1.000000             \n",
       "\n",
       "[47 rows x 47 columns]"
      ]
     },
     "execution_count": 17,
     "metadata": {},
     "output_type": "execute_result"
    }
   ],
   "source": [
    "dmn_with_corr=dmn_df_dummies.corr()\n",
    "dmn_with_corr"
   ]
  },
  {
   "cell_type": "code",
   "execution_count": 268,
   "id": "74736ddf-7429-4bbd-9ca0-f8bfffe42a87",
   "metadata": {
    "tags": []
   },
   "outputs": [
    {
     "data": {
      "text/plain": [
       "<Axes: >"
      ]
     },
     "execution_count": 268,
     "metadata": {},
     "output_type": "execute_result"
    },
    {
     "data": {
      "image/png": "[encoded data removed]",
      "text/plain": [
       "<Figure size 100x1500 with 2 Axes>"
      ]
     },
     "metadata": {},
     "output_type": "display_data"
    }
   ],
   "source": [
    "g= dmn_with_corr[[\"Dementia\"]]\n",
    "plt.figure(figsize=(1,15))\n",
    "sns.heatmap(g, cmap= 'coolwarm', center= 0, annot = True)\n"
   ]
  },
  {
   "cell_type": "code",
   "execution_count": 23,
   "id": "fe7ab3c2-9388-4273-aa05-5058f4cbc5b8",
   "metadata": {
    "tags": []
   },
   "outputs": [],
   "source": [
    "only_sick= dmn_df[dmn_df['Dementia']==1]\n",
    "not_sick= dmn_df[dmn_df['Dementia']==0]\n",
    "women= dmn_df[dmn_df['Gender']=='Female']\n",
    "men= dmn_df[dmn_df['Gender']=='Male']\n"
   ]
  },
  {
   "cell_type": "markdown",
   "id": "dfecf871-141e-428c-94fd-571f7c5609c2",
   "metadata": {},
   "source": [
    "חילקנו את הדאטה לכמה קבוצות שבהן נשתמש בהמשך"
   ]
  },
  {
   "cell_type": "markdown",
   "id": "d167020f-35a8-4f7c-ac1b-2ee70043183d",
   "metadata": {},
   "source": [
    " # <b id=\"section_2\">  </b> <b style='color:#F05454'>  first path - Genetics & Education : </b> <b></b> \n",
    "\n",
    "- מי שעם גן יחלה יותר\n",
    "- הקבלה להשכלה בקורולציה\n",
    "\n",
    "השערה:  \n",
    "אם לא למד בכלל  ונושא אם הגן - כמעט בטוח שיחלה"
   ]
  },
  {
   "cell_type": "markdown",
   "id": "085eaa80-1c88-487d-8a2a-639afebe3283",
   "metadata": {},
   "source": [
    "מהקורלציה הלא נומרית ראינו קשר חזק בין עמודה שנקראת \"APOE_E4\" לדמנציה "
   ]
  },
  {
   "cell_type": "markdown",
   "id": "9aebf85f-ae19-4c09-bacc-35d37bcdffee",
   "metadata": {},
   "source": [
    "*הסבר על הגן*\n",
    "חיפשנו באינטרנט ולמדנו על החלבון הזה\n",
    "נתמקד בחלבון ונראה מה נמצא:"
   ]
  },
  {
   "cell_type": "code",
   "execution_count": 147,
   "id": "8d08fc59-02b3-412e-82fb-d8c7f0941511",
   "metadata": {
    "tags": []
   },
   "outputs": [
    {
     "data": {
      "image/png": "[encoded data removed]",
      "text/plain": [
       "<Figure size 640x480 with 1 Axes>"
      ]
     },
     "metadata": {},
     "output_type": "display_data"
    }
   ],
   "source": [
    "sns.countplot(x='APOE_ε4', hue='Dementia', data=dmn_df)\n",
    "plt.show()"
   ]
  },
  {
   "cell_type": "raw",
   "id": "b231f347-4c8d-492d-bb84-c97a56f139d8",
   "metadata": {},
   "source": [
    "ראשית בדקנו כמה מתוך החולים שלנו נשאים של הגן\n",
    "נציג גם באחוזים:"
   ]
  },
  {
   "cell_type": "code",
   "execution_count": 158,
   "id": "955fb754-7302-4036-ae21-9a70865fe098",
   "metadata": {
    "tags": []
   },
   "outputs": [
    {
     "data": {
      "application/vnd.plotly.v1+json": {
       "config": {
        "plotlyServerURL": "https://plot.ly"
       },
       "data": [
        {
         "domain": {
          "x": [
           0,
           0.26666666666666666
          ],
          "y": [
           0,
           1
          ]
         },
         "labels": [
          "Positive",
          "Negative"
         ],
         "title": {
          "font": {
           "size": 2
          },
          "text": "כותרת ראשית"
         },
         "type": "pie",
         "values": [
          694,
          306
         ]
        },
        {
         "domain": {
          "x": [
           0.3666666666666667,
           0.6333333333333333
          ],
          "y": [
           0,
           1
          ]
         },
         "labels": [
          "Positive",
          "Negative"
         ],
         "title": {
          "font": {
           "size": 2
          },
          "text": "כותרת ראשית"
         },
         "type": "pie",
         "values": [
          435,
          50
         ]
        },
        {
         "domain": {
          "x": [
           0.7333333333333334,
           1
          ],
          "y": [
           0,
           1
          ]
         },
         "labels": [
          "Positive",
          "Negative"
         ],
         "title": {
          "font": {
           "size": 2
          },
          "text": "כותרת ראשית"
         },
         "type": "pie",
         "values": [
          259,
          256
         ]
        }
       ],
       "layout": {
        "annotations": [
         {
          "font": {
           "size": 16
          },
          "showarrow": false,
          "text": "among the subjects",
          "x": 0.13333333333333333,
          "xanchor": "center",
          "xref": "paper",
          "y": 1,
          "yanchor": "bottom",
          "yref": "paper"
         },
         {
          "font": {
           "size": 16
          },
          "showarrow": false,
          "text": "among those with dementia",
          "x": 0.5,
          "xanchor": "center",
          "xref": "paper",
          "y": 1,
          "yanchor": "bottom",
          "yref": "paper"
         },
         {
          "font": {
           "size": 16
          },
          "showarrow": false,
          "text": "\n\n\n\n\n among those without dementia",
          "x": 0.8666666666666667,
          "xanchor": "center",
          "xref": "paper",
          "y": 1,
          "yanchor": "bottom",
          "yref": "paper"
         }
        ],
        "autosize": true,
        "template": {
         "data": {
          "bar": [
           {
            "error_x": {
             "color": "#2a3f5f"
            },
            "error_y": {
             "color": "#2a3f5f"
            },
            "marker": {
             "line": {
              "color": "#E5ECF6",
              "width": 0.5
             },
             "pattern": {
              "fillmode": "overlay",
              "size": 10,
              "solidity": 0.2
             }
            },
            "type": "bar"
           }
          ],
          "barpolar": [
           {
            "marker": {
             "line": {
              "color": "#E5ECF6",
              "width": 0.5
             },
             "pattern": {
              "fillmode": "overlay",
              "size": 10,
              "solidity": 0.2
             }
            },
            "type": "barpolar"
           }
          ],
          "carpet": [
           {
            "aaxis": {
             "endlinecolor": "#2a3f5f",
             "gridcolor": "white",
             "linecolor": "white",
             "minorgridcolor": "white",
             "startlinecolor": "#2a3f5f"
            },
            "baxis": {
             "endlinecolor": "#2a3f5f",
             "gridcolor": "white",
             "linecolor": "white",
             "minorgridcolor": "white",
             "startlinecolor": "#2a3f5f"
            },
            "type": "carpet"
           }
          ],
          "choropleth": [
           {
            "colorbar": {
             "outlinewidth": 0,
             "ticks": ""
            },
            "type": "choropleth"
           }
          ],
          "contour": [
           {
            "colorbar": {
             "outlinewidth": 0,
             "ticks": ""
            },
            "colorscale": [
             [
              0,
              "#0d0887"
             ],
             [
              0.1111111111111111,
              "#46039f"
             ],
             [
              0.2222222222222222,
              "#7201a8"
             ],
             [
              0.3333333333333333,
              "#9c179e"
             ],
             [
              0.4444444444444444,
              "#bd3786"
             ],
             [
              0.5555555555555556,
              "#d8576b"
             ],
             [
              0.6666666666666666,
              "#ed7953"
             ],
             [
              0.7777777777777778,
              "#fb9f3a"
             ],
             [
              0.8888888888888888,
              "#fdca26"
             ],
             [
              1,
              "#f0f921"
             ]
            ],
            "type": "contour"
           }
          ],
          "contourcarpet": [
           {
            "colorbar": {
             "outlinewidth": 0,
             "ticks": ""
            },
            "type": "contourcarpet"
           }
          ],
          "heatmap": [
           {
            "colorbar": {
             "outlinewidth": 0,
             "ticks": ""
            },
            "colorscale": [
             [
              0,
              "#0d0887"
             ],
             [
              0.1111111111111111,
              "#46039f"
             ],
             [
              0.2222222222222222,
              "#7201a8"
             ],
             [
              0.3333333333333333,
              "#9c179e"
             ],
             [
              0.4444444444444444,
              "#bd3786"
             ],
             [
              0.5555555555555556,
              "#d8576b"
             ],
             [
              0.6666666666666666,
              "#ed7953"
             ],
             [
              0.7777777777777778,
              "#fb9f3a"
             ],
             [
              0.8888888888888888,
              "#fdca26"
             ],
             [
              1,
              "#f0f921"
             ]
            ],
            "type": "heatmap"
           }
          ],
          "heatmapgl": [
           {
            "colorbar": {
             "outlinewidth": 0,
             "ticks": ""
            },
            "colorscale": [
             [
              0,
              "#0d0887"
             ],
             [
              0.1111111111111111,
              "#46039f"
             ],
             [
              0.2222222222222222,
              "#7201a8"
             ],
             [
              0.3333333333333333,
              "#9c179e"
             ],
             [
              0.4444444444444444,
              "#bd3786"
             ],
             [
              0.5555555555555556,
              "#d8576b"
             ],
             [
              0.6666666666666666,
              "#ed7953"
             ],
             [
              0.7777777777777778,
              "#fb9f3a"
             ],
             [
              0.8888888888888888,
              "#fdca26"
             ],
             [
              1,
              "#f0f921"
             ]
            ],
            "type": "heatmapgl"
           }
          ],
          "histogram": [
           {
            "marker": {
             "pattern": {
              "fillmode": "overlay",
              "size": 10,
              "solidity": 0.2
             }
            },
            "type": "histogram"
           }
          ],
          "histogram2d": [
           {
            "colorbar": {
             "outlinewidth": 0,
             "ticks": ""
            },
            "colorscale": [
             [
              0,
              "#0d0887"
             ],
             [
              0.1111111111111111,
              "#46039f"
             ],
             [
              0.2222222222222222,
              "#7201a8"
             ],
             [
              0.3333333333333333,
              "#9c179e"
             ],
             [
              0.4444444444444444,
              "#bd3786"
             ],
             [
              0.5555555555555556,
              "#d8576b"
             ],
             [
              0.6666666666666666,
              "#ed7953"
             ],
             [
              0.7777777777777778,
              "#fb9f3a"
             ],
             [
              0.8888888888888888,
              "#fdca26"
             ],
             [
              1,
              "#f0f921"
             ]
            ],
            "type": "histogram2d"
           }
          ],
          "histogram2dcontour": [
           {
            "colorbar": {
             "outlinewidth": 0,
             "ticks": ""
            },
            "colorscale": [
             [
              0,
              "#0d0887"
             ],
             [
              0.1111111111111111,
              "#46039f"
             ],
             [
              0.2222222222222222,
              "#7201a8"
             ],
             [
              0.3333333333333333,
              "#9c179e"
             ],
             [
              0.4444444444444444,
              "#bd3786"
             ],
             [
              0.5555555555555556,
              "#d8576b"
             ],
             [
              0.6666666666666666,
              "#ed7953"
             ],
             [
              0.7777777777777778,
              "#fb9f3a"
             ],
             [
              0.8888888888888888,
              "#fdca26"
             ],
             [
              1,
              "#f0f921"
             ]
            ],
            "type": "histogram2dcontour"
           }
          ],
          "mesh3d": [
           {
            "colorbar": {
             "outlinewidth": 0,
             "ticks": ""
            },
            "type": "mesh3d"
           }
          ],
          "parcoords": [
           {
            "line": {
             "colorbar": {
              "outlinewidth": 0,
              "ticks": ""
             }
            },
            "type": "parcoords"
           }
          ],
          "pie": [
           {
            "automargin": true,
            "type": "pie"
           }
          ],
          "scatter": [
           {
            "fillpattern": {
             "fillmode": "overlay",
             "size": 10,
             "solidity": 0.2
            },
            "type": "scatter"
           }
          ],
          "scatter3d": [
           {
            "line": {
             "colorbar": {
              "outlinewidth": 0,
              "ticks": ""
             }
            },
            "marker": {
             "colorbar": {
              "outlinewidth": 0,
              "ticks": ""
             }
            },
            "type": "scatter3d"
           }
          ],
          "scattercarpet": [
           {
            "marker": {
             "colorbar": {
              "outlinewidth": 0,
              "ticks": ""
             }
            },
            "type": "scattercarpet"
           }
          ],
          "scattergeo": [
           {
            "marker": {
             "colorbar": {
              "outlinewidth": 0,
              "ticks": ""
             }
            },
            "type": "scattergeo"
           }
          ],
          "scattergl": [
           {
            "marker": {
             "colorbar": {
              "outlinewidth": 0,
              "ticks": ""
             }
            },
            "type": "scattergl"
           }
          ],
          "scattermapbox": [
           {
            "marker": {
             "colorbar": {
              "outlinewidth": 0,
              "ticks": ""
             }
            },
            "type": "scattermapbox"
           }
          ],
          "scatterpolar": [
           {
            "marker": {
             "colorbar": {
              "outlinewidth": 0,
              "ticks": ""
             }
            },
            "type": "scatterpolar"
           }
          ],
          "scatterpolargl": [
           {
            "marker": {
             "colorbar": {
              "outlinewidth": 0,
              "ticks": ""
             }
            },
            "type": "scatterpolargl"
           }
          ],
          "scatterternary": [
           {
            "marker": {
             "colorbar": {
              "outlinewidth": 0,
              "ticks": ""
             }
            },
            "type": "scatterternary"
           }
          ],
          "surface": [
           {
            "colorbar": {
             "outlinewidth": 0,
             "ticks": ""
            },
            "colorscale": [
             [
              0,
              "#0d0887"
             ],
             [
              0.1111111111111111,
              "#46039f"
             ],
             [
              0.2222222222222222,
              "#7201a8"
             ],
             [
              0.3333333333333333,
              "#9c179e"
             ],
             [
              0.4444444444444444,
              "#bd3786"
             ],
             [
              0.5555555555555556,
              "#d8576b"
             ],
             [
              0.6666666666666666,
              "#ed7953"
             ],
             [
              0.7777777777777778,
              "#fb9f3a"
             ],
             [
              0.8888888888888888,
              "#fdca26"
             ],
             [
              1,
              "#f0f921"
             ]
            ],
            "type": "surface"
           }
          ],
          "table": [
           {
            "cells": {
             "fill": {
              "color": "#EBF0F8"
             },
             "line": {
              "color": "white"
             }
            },
            "header": {
             "fill": {
              "color": "#C8D4E3"
             },
             "line": {
              "color": "white"
             }
            },
            "type": "table"
           }
          ]
         },
         "layout": {
          "annotationdefaults": {
           "arrowcolor": "#2a3f5f",
           "arrowhead": 0,
           "arrowwidth": 1
          },
          "autotypenumbers": "strict",
          "coloraxis": {
           "colorbar": {
            "outlinewidth": 0,
            "ticks": ""
           }
          },
          "colorscale": {
           "diverging": [
            [
             0,
             "#8e0152"
            ],
            [
             0.1,
             "#c51b7d"
            ],
            [
             0.2,
             "#de77ae"
            ],
            [
             0.3,
             "#f1b6da"
            ],
            [
             0.4,
             "#fde0ef"
            ],
            [
             0.5,
             "#f7f7f7"
            ],
            [
             0.6,
             "#e6f5d0"
            ],
            [
             0.7,
             "#b8e186"
            ],
            [
             0.8,
             "#7fbc41"
            ],
            [
             0.9,
             "#4d9221"
            ],
            [
             1,
             "#276419"
            ]
           ],
           "sequential": [
            [
             0,
             "#0d0887"
            ],
            [
             0.1111111111111111,
             "#46039f"
            ],
            [
             0.2222222222222222,
             "#7201a8"
            ],
            [
             0.3333333333333333,
             "#9c179e"
            ],
            [
             0.4444444444444444,
             "#bd3786"
            ],
            [
             0.5555555555555556,
             "#d8576b"
            ],
            [
             0.6666666666666666,
             "#ed7953"
            ],
            [
             0.7777777777777778,
             "#fb9f3a"
            ],
            [
             0.8888888888888888,
             "#fdca26"
            ],
            [
             1,
             "#f0f921"
            ]
           ],
           "sequentialminus": [
            [
             0,
             "#0d0887"
            ],
            [
             0.1111111111111111,
             "#46039f"
            ],
            [
             0.2222222222222222,
             "#7201a8"
            ],
            [
             0.3333333333333333,
             "#9c179e"
            ],
            [
             0.4444444444444444,
             "#bd3786"
            ],
            [
             0.5555555555555556,
             "#d8576b"
            ],
            [
             0.6666666666666666,
             "#ed7953"
            ],
            [
             0.7777777777777778,
             "#fb9f3a"
            ],
            [
             0.8888888888888888,
             "#fdca26"
            ],
            [
             1,
             "#f0f921"
            ]
           ]
          },
          "colorway": [
           "#636efa",
           "#EF553B",
           "#00cc96",
           "#ab63fa",
           "#FFA15A",
           "#19d3f3",
           "#FF6692",
           "#B6E880",
           "#FF97FF",
           "#FECB52"
          ],
          "font": {
           "color": "#2a3f5f"
          },
          "geo": {
           "bgcolor": "white",
           "lakecolor": "white",
           "landcolor": "#E5ECF6",
           "showlakes": true,
           "showland": true,
           "subunitcolor": "white"
          },
          "hoverlabel": {
           "align": "left"
          },
          "hovermode": "closest",
          "mapbox": {
           "style": "light"
          },
          "paper_bgcolor": "white",
          "plot_bgcolor": "#E5ECF6",
          "polar": {
           "angularaxis": {
            "gridcolor": "white",
            "linecolor": "white",
            "ticks": ""
           },
           "bgcolor": "#E5ECF6",
           "radialaxis": {
            "gridcolor": "white",
            "linecolor": "white",
            "ticks": ""
           }
          },
          "scene": {
           "xaxis": {
            "backgroundcolor": "#E5ECF6",
            "gridcolor": "white",
            "gridwidth": 2,
            "linecolor": "white",
            "showbackground": true,
            "ticks": "",
            "zerolinecolor": "white"
           },
           "yaxis": {
            "backgroundcolor": "#E5ECF6",
            "gridcolor": "white",
            "gridwidth": 2,
            "linecolor": "white",
            "showbackground": true,
            "ticks": "",
            "zerolinecolor": "white"
           },
           "zaxis": {
            "backgroundcolor": "#E5ECF6",
            "gridcolor": "white",
            "gridwidth": 2,
            "linecolor": "white",
            "showbackground": true,
            "ticks": "",
            "zerolinecolor": "white"
           }
          },
          "shapedefaults": {
           "line": {
            "color": "#2a3f5f"
           }
          },
          "ternary": {
           "aaxis": {
            "gridcolor": "white",
            "linecolor": "white",
            "ticks": ""
           },
           "baxis": {
            "gridcolor": "white",
            "linecolor": "white",
            "ticks": ""
           },
           "bgcolor": "#E5ECF6",
           "caxis": {
            "gridcolor": "white",
            "linecolor": "white",
            "ticks": ""
           }
          },
          "title": {
           "x": 0.05
          },
          "xaxis": {
           "automargin": true,
           "gridcolor": "white",
           "linecolor": "white",
           "ticks": "",
           "title": {
            "standoff": 15
           },
           "zerolinecolor": "white",
           "zerolinewidth": 2
          },
          "yaxis": {
           "automargin": true,
           "gridcolor": "white",
           "linecolor": "white",
           "ticks": "",
           "title": {
            "standoff": 15
           },
           "zerolinecolor": "white",
           "zerolinewidth": 2
          }
         }
        },
        "title": {
         "text": "The distribiution of the gene:"
        }
       }
      },
      "image/png": "[encoded data removed]",
      "text/html": [
       "<div>                            <div id=\"239cdb36-7e4c-4f11-a7d9-8ab426040189\" class=\"plotly-graph-div\" style=\"height:525px; width:100%;\"></div>            <script type=\"text/javascript\">                require([\"plotly\"], function(Plotly) {                    window.PLOTLYENV=window.PLOTLYENV || {};                                    if (document.getElementById(\"239cdb36-7e4c-4f11-a7d9-8ab426040189\")) {                    Plotly.newPlot(                        \"239cdb36-7e4c-4f11-a7d9-8ab426040189\",                        [{\"labels\":[\"Positive\",\"Negative\"],\"title\":{\"font\":{\"size\":2},\"text\":\"\\u05db\\u05d5\\u05ea\\u05e8\\u05ea \\u05e8\\u05d0\\u05e9\\u05d9\\u05ea\"},\"values\":[694,306],\"type\":\"pie\",\"domain\":{\"x\":[0.0,0.26666666666666666],\"y\":[0.0,1.0]}},{\"labels\":[\"Positive\",\"Negative\"],\"title\":{\"font\":{\"size\":2},\"text\":\"\\u05db\\u05d5\\u05ea\\u05e8\\u05ea \\u05e8\\u05d0\\u05e9\\u05d9\\u05ea\"},\"values\":[435,50],\"type\":\"pie\",\"domain\":{\"x\":[0.3666666666666667,0.6333333333333333],\"y\":[0.0,1.0]}},{\"labels\":[\"Positive\",\"Negative\"],\"title\":{\"font\":{\"size\":2},\"text\":\"\\u05db\\u05d5\\u05ea\\u05e8\\u05ea \\u05e8\\u05d0\\u05e9\\u05d9\\u05ea\"},\"values\":[259,256],\"type\":\"pie\",\"domain\":{\"x\":[0.7333333333333334,1.0],\"y\":[0.0,1.0]}}],                        {\"template\":{\"data\":{\"histogram2dcontour\":[{\"type\":\"histogram2dcontour\",\"colorbar\":{\"outlinewidth\":0,\"ticks\":\"\"},\"colorscale\":[[0.0,\"#0d0887\"],[0.1111111111111111,\"#46039f\"],[0.2222222222222222,\"#7201a8\"],[0.3333333333333333,\"#9c179e\"],[0.4444444444444444,\"#bd3786\"],[0.5555555555555556,\"#d8576b\"],[0.6666666666666666,\"#ed7953\"],[0.7777777777777778,\"#fb9f3a\"],[0.8888888888888888,\"#fdca26\"],[1.0,\"#f0f921\"]]}],\"choropleth\":[{\"type\":\"choropleth\",\"colorbar\":{\"outlinewidth\":0,\"ticks\":\"\"}}],\"histogram2d\":[{\"type\":\"histogram2d\",\"colorbar\":{\"outlinewidth\":0,\"ticks\":\"\"},\"colorscale\":[[0.0,\"#0d0887\"],[0.1111111111111111,\"#46039f\"],[0.2222222222222222,\"#7201a8\"],[0.3333333333333333,\"#9c179e\"],[0.4444444444444444,\"#bd3786\"],[0.5555555555555556,\"#d8576b\"],[0.6666666666666666,\"#ed7953\"],[0.7777777777777778,\"#fb9f3a\"],[0.8888888888888888,\"#fdca26\"],[1.0,\"#f0f921\"]]}],\"heatmap\":[{\"type\":\"heatmap\",\"colorbar\":{\"outlinewidth\":0,\"ticks\":\"\"},\"colorscale\":[[0.0,\"#0d0887\"],[0.1111111111111111,\"#46039f\"],[0.2222222222222222,\"#7201a8\"],[0.3333333333333333,\"#9c179e\"],[0.4444444444444444,\"#bd3786\"],[0.5555555555555556,\"#d8576b\"],[0.6666666666666666,\"#ed7953\"],[0.7777777777777778,\"#fb9f3a\"],[0.8888888888888888,\"#fdca26\"],[1.0,\"#f0f921\"]]}],\"heatmapgl\":[{\"type\":\"heatmapgl\",\"colorbar\":{\"outlinewidth\":0,\"ticks\":\"\"},\"colorscale\":[[0.0,\"#0d0887\"],[0.1111111111111111,\"#46039f\"],[0.2222222222222222,\"#7201a8\"],[0.3333333333333333,\"#9c179e\"],[0.4444444444444444,\"#bd3786\"],[0.5555555555555556,\"#d8576b\"],[0.6666666666666666,\"#ed7953\"],[0.7777777777777778,\"#fb9f3a\"],[0.8888888888888888,\"#fdca26\"],[1.0,\"#f0f921\"]]}],\"contourcarpet\":[{\"type\":\"contourcarpet\",\"colorbar\":{\"outlinewidth\":0,\"ticks\":\"\"}}],\"contour\":[{\"type\":\"contour\",\"colorbar\":{\"outlinewidth\":0,\"ticks\":\"\"},\"colorscale\":[[0.0,\"#0d0887\"],[0.1111111111111111,\"#46039f\"],[0.2222222222222222,\"#7201a8\"],[0.3333333333333333,\"#9c179e\"],[0.4444444444444444,\"#bd3786\"],[0.5555555555555556,\"#d8576b\"],[0.6666666666666666,\"#ed7953\"],[0.7777777777777778,\"#fb9f3a\"],[0.8888888888888888,\"#fdca26\"],[1.0,\"#f0f921\"]]}],\"surface\":[{\"type\":\"surface\",\"colorbar\":{\"outlinewidth\":0,\"ticks\":\"\"},\"colorscale\":[[0.0,\"#0d0887\"],[0.1111111111111111,\"#46039f\"],[0.2222222222222222,\"#7201a8\"],[0.3333333333333333,\"#9c179e\"],[0.4444444444444444,\"#bd3786\"],[0.5555555555555556,\"#d8576b\"],[0.6666666666666666,\"#ed7953\"],[0.7777777777777778,\"#fb9f3a\"],[0.8888888888888888,\"#fdca26\"],[1.0,\"#f0f921\"]]}],\"mesh3d\":[{\"type\":\"mesh3d\",\"colorbar\":{\"outlinewidth\":0,\"ticks\":\"\"}}],\"scatter\":[{\"fillpattern\":{\"fillmode\":\"overlay\",\"size\":10,\"solidity\":0.2},\"type\":\"scatter\"}],\"parcoords\":[{\"type\":\"parcoords\",\"line\":{\"colorbar\":{\"outlinewidth\":0,\"ticks\":\"\"}}}],\"scatterpolargl\":[{\"type\":\"scatterpolargl\",\"marker\":{\"colorbar\":{\"outlinewidth\":0,\"ticks\":\"\"}}}],\"bar\":[{\"error_x\":{\"color\":\"#2a3f5f\"},\"error_y\":{\"color\":\"#2a3f5f\"},\"marker\":{\"line\":{\"color\":\"#E5ECF6\",\"width\":0.5},\"pattern\":{\"fillmode\":\"overlay\",\"size\":10,\"solidity\":0.2}},\"type\":\"bar\"}],\"scattergeo\":[{\"type\":\"scattergeo\",\"marker\":{\"colorbar\":{\"outlinewidth\":0,\"ticks\":\"\"}}}],\"scatterpolar\":[{\"type\":\"scatterpolar\",\"marker\":{\"colorbar\":{\"outlinewidth\":0,\"ticks\":\"\"}}}],\"histogram\":[{\"marker\":{\"pattern\":{\"fillmode\":\"overlay\",\"size\":10,\"solidity\":0.2}},\"type\":\"histogram\"}],\"scattergl\":[{\"type\":\"scattergl\",\"marker\":{\"colorbar\":{\"outlinewidth\":0,\"ticks\":\"\"}}}],\"scatter3d\":[{\"type\":\"scatter3d\",\"line\":{\"colorbar\":{\"outlinewidth\":0,\"ticks\":\"\"}},\"marker\":{\"colorbar\":{\"outlinewidth\":0,\"ticks\":\"\"}}}],\"scattermapbox\":[{\"type\":\"scattermapbox\",\"marker\":{\"colorbar\":{\"outlinewidth\":0,\"ticks\":\"\"}}}],\"scatterternary\":[{\"type\":\"scatterternary\",\"marker\":{\"colorbar\":{\"outlinewidth\":0,\"ticks\":\"\"}}}],\"scattercarpet\":[{\"type\":\"scattercarpet\",\"marker\":{\"colorbar\":{\"outlinewidth\":0,\"ticks\":\"\"}}}],\"carpet\":[{\"aaxis\":{\"endlinecolor\":\"#2a3f5f\",\"gridcolor\":\"white\",\"linecolor\":\"white\",\"minorgridcolor\":\"white\",\"startlinecolor\":\"#2a3f5f\"},\"baxis\":{\"endlinecolor\":\"#2a3f5f\",\"gridcolor\":\"white\",\"linecolor\":\"white\",\"minorgridcolor\":\"white\",\"startlinecolor\":\"#2a3f5f\"},\"type\":\"carpet\"}],\"table\":[{\"cells\":{\"fill\":{\"color\":\"#EBF0F8\"},\"line\":{\"color\":\"white\"}},\"header\":{\"fill\":{\"color\":\"#C8D4E3\"},\"line\":{\"color\":\"white\"}},\"type\":\"table\"}],\"barpolar\":[{\"marker\":{\"line\":{\"color\":\"#E5ECF6\",\"width\":0.5},\"pattern\":{\"fillmode\":\"overlay\",\"size\":10,\"solidity\":0.2}},\"type\":\"barpolar\"}],\"pie\":[{\"automargin\":true,\"type\":\"pie\"}]},\"layout\":{\"autotypenumbers\":\"strict\",\"colorway\":[\"#636efa\",\"#EF553B\",\"#00cc96\",\"#ab63fa\",\"#FFA15A\",\"#19d3f3\",\"#FF6692\",\"#B6E880\",\"#FF97FF\",\"#FECB52\"],\"font\":{\"color\":\"#2a3f5f\"},\"hovermode\":\"closest\",\"hoverlabel\":{\"align\":\"left\"},\"paper_bgcolor\":\"white\",\"plot_bgcolor\":\"#E5ECF6\",\"polar\":{\"bgcolor\":\"#E5ECF6\",\"angularaxis\":{\"gridcolor\":\"white\",\"linecolor\":\"white\",\"ticks\":\"\"},\"radialaxis\":{\"gridcolor\":\"white\",\"linecolor\":\"white\",\"ticks\":\"\"}},\"ternary\":{\"bgcolor\":\"#E5ECF6\",\"aaxis\":{\"gridcolor\":\"white\",\"linecolor\":\"white\",\"ticks\":\"\"},\"baxis\":{\"gridcolor\":\"white\",\"linecolor\":\"white\",\"ticks\":\"\"},\"caxis\":{\"gridcolor\":\"white\",\"linecolor\":\"white\",\"ticks\":\"\"}},\"coloraxis\":{\"colorbar\":{\"outlinewidth\":0,\"ticks\":\"\"}},\"colorscale\":{\"sequential\":[[0.0,\"#0d0887\"],[0.1111111111111111,\"#46039f\"],[0.2222222222222222,\"#7201a8\"],[0.3333333333333333,\"#9c179e\"],[0.4444444444444444,\"#bd3786\"],[0.5555555555555556,\"#d8576b\"],[0.6666666666666666,\"#ed7953\"],[0.7777777777777778,\"#fb9f3a\"],[0.8888888888888888,\"#fdca26\"],[1.0,\"#f0f921\"]],\"sequentialminus\":[[0.0,\"#0d0887\"],[0.1111111111111111,\"#46039f\"],[0.2222222222222222,\"#7201a8\"],[0.3333333333333333,\"#9c179e\"],[0.4444444444444444,\"#bd3786\"],[0.5555555555555556,\"#d8576b\"],[0.6666666666666666,\"#ed7953\"],[0.7777777777777778,\"#fb9f3a\"],[0.8888888888888888,\"#fdca26\"],[1.0,\"#f0f921\"]],\"diverging\":[[0,\"#8e0152\"],[0.1,\"#c51b7d\"],[0.2,\"#de77ae\"],[0.3,\"#f1b6da\"],[0.4,\"#fde0ef\"],[0.5,\"#f7f7f7\"],[0.6,\"#e6f5d0\"],[0.7,\"#b8e186\"],[0.8,\"#7fbc41\"],[0.9,\"#4d9221\"],[1,\"#276419\"]]},\"xaxis\":{\"gridcolor\":\"white\",\"linecolor\":\"white\",\"ticks\":\"\",\"title\":{\"standoff\":15},\"zerolinecolor\":\"white\",\"automargin\":true,\"zerolinewidth\":2},\"yaxis\":{\"gridcolor\":\"white\",\"linecolor\":\"white\",\"ticks\":\"\",\"title\":{\"standoff\":15},\"zerolinecolor\":\"white\",\"automargin\":true,\"zerolinewidth\":2},\"scene\":{\"xaxis\":{\"backgroundcolor\":\"#E5ECF6\",\"gridcolor\":\"white\",\"linecolor\":\"white\",\"showbackground\":true,\"ticks\":\"\",\"zerolinecolor\":\"white\",\"gridwidth\":2},\"yaxis\":{\"backgroundcolor\":\"#E5ECF6\",\"gridcolor\":\"white\",\"linecolor\":\"white\",\"showbackground\":true,\"ticks\":\"\",\"zerolinecolor\":\"white\",\"gridwidth\":2},\"zaxis\":{\"backgroundcolor\":\"#E5ECF6\",\"gridcolor\":\"white\",\"linecolor\":\"white\",\"showbackground\":true,\"ticks\":\"\",\"zerolinecolor\":\"white\",\"gridwidth\":2}},\"shapedefaults\":{\"line\":{\"color\":\"#2a3f5f\"}},\"annotationdefaults\":{\"arrowcolor\":\"#2a3f5f\",\"arrowhead\":0,\"arrowwidth\":1},\"geo\":{\"bgcolor\":\"white\",\"landcolor\":\"#E5ECF6\",\"subunitcolor\":\"white\",\"showland\":true,\"showlakes\":true,\"lakecolor\":\"white\"},\"title\":{\"x\":0.05},\"mapbox\":{\"style\":\"light\"}}},\"annotations\":[{\"font\":{\"size\":16},\"showarrow\":false,\"text\":\"among the subjects\",\"x\":0.13333333333333333,\"xanchor\":\"center\",\"xref\":\"paper\",\"y\":1.0,\"yanchor\":\"bottom\",\"yref\":\"paper\"},{\"font\":{\"size\":16},\"showarrow\":false,\"text\":\"among those with dementia\",\"x\":0.5,\"xanchor\":\"center\",\"xref\":\"paper\",\"y\":1.0,\"yanchor\":\"bottom\",\"yref\":\"paper\"},{\"font\":{\"size\":16},\"showarrow\":false,\"text\":\"\\n\\n\\n\\n\\n among those without dementia\",\"x\":0.8666666666666667,\"xanchor\":\"center\",\"xref\":\"paper\",\"y\":1.0,\"yanchor\":\"bottom\",\"yref\":\"paper\"}],\"title\":{\"text\":\"The distribiution of the gene:\"}},                        {\"responsive\": true}                    ).then(function(){\n",
       "                            \n",
       "var gd = document.getElementById('239cdb36-7e4c-4f11-a7d9-8ab426040189');\n",
       "var x = new MutationObserver(function (mutations, observer) {{\n",
       "        var display = window.getComputedStyle(gd).display;\n",
       "        if (!display || display === 'none') {{\n",
       "            console.log([gd, 'removed!']);\n",
       "            Plotly.purge(gd);\n",
       "            observer.disconnect();\n",
       "        }}\n",
       "}});\n",
       "\n",
       "// Listen for the removal of the full notebook cells\n",
       "var notebookContainer = gd.closest('#notebook-container');\n",
       "if (notebookContainer) {{\n",
       "    x.observe(notebookContainer, {childList: true});\n",
       "}}\n",
       "\n",
       "// Listen for the clearing of the current output cell\n",
       "var outputEl = gd.closest('.output');\n",
       "if (outputEl) {{\n",
       "    x.observe(outputEl, {childList: true});\n",
       "}}\n",
       "\n",
       "                        })                };                });            </script>        </div>"
      ]
     },
     "metadata": {},
     "output_type": "display_data"
    }
   ],
   "source": [
    "APOE_count_all = dmn_df['APOE_ε4'].value_counts()\n",
    "APOE_count_sick = only_sick['APOE_ε4'].value_counts()\n",
    "APOE_count_not_sick = not_sick['APOE_ε4'].value_counts()\n",
    "\n",
    "fig = make_subplots(rows=1, cols=3, specs=[[{'type':'pie'}, {'type':'pie'}, {'type':'pie'}]], subplot_titles=['among the subjects','among those with dementia', '\\n\\n\\n\\n\\n among those without dementia'],horizontal_spacing=0.1)\n",
    "\n",
    "fig.add_trace(go.Pie(labels=APOE_count_all.index, values=APOE_count_all, title={'text': 'כותרת ראשית', 'font': {'size': 2}}), row=1, col=1)\n",
    "\n",
    "fig.add_trace(go.Pie(labels=APOE_count_sick.index, values=APOE_count_sick, title={'text': 'כותרת ראשית', 'font': {'size': 2}}), row=1, col=2)\n",
    "\n",
    "fig.add_trace(go.Pie(labels=APOE_count_not_sick.index, values=APOE_count_not_sick, title={'text': 'כותרת ראשית', 'font': {'size': 2}}), row=1, col=3)\n",
    "fig.update_layout(title_text= 'The distribiution of the gene:')\n",
    "fig.show()\n"
   ]
  },
  {
   "cell_type": "markdown",
   "id": "8ebfdb93-c020-49f9-94f2-cda984f5172b",
   "metadata": {},
   "source": [
    " נראה שרוב הנבדקים נשאים של הגן, מתוך אלה שאינם חולים- כמעט50% נשאים של הגן. אבל נוכל לראות בבירור שמתוך אלה שחולים- רוב מוחלט נשא של הגן"
   ]
  },
  {
   "cell_type": "raw",
   "id": "8cc04f20-ba48-4f7b-ae8a-2f05c0760598",
   "metadata": {},
   "source": [
    " בחרנו להתמקד בחולים עם הגן ולבחון מול רמת השכלה ובדקנו את זה באופן הבא כדי לראות את היחס הספציפי"
   ]
  },
  {
   "cell_type": "code",
   "execution_count": 162,
   "id": "642d9eef-e979-4682-a744-84f869821b24",
   "metadata": {
    "tags": []
   },
   "outputs": [
    {
     "data": {
      "text/html": [
       "<div>\n",
       "<style scoped>\n",
       "    .dataframe tbody tr th:only-of-type {\n",
       "        vertical-align: middle;\n",
       "    }\n",
       "\n",
       "    .dataframe tbody tr th {\n",
       "        vertical-align: top;\n",
       "    }\n",
       "\n",
       "    .dataframe thead th {\n",
       "        text-align: right;\n",
       "    }\n",
       "</style>\n",
       "<table border=\"1\" class=\"dataframe\">\n",
       "  <thead>\n",
       "    <tr style=\"text-align: right;\">\n",
       "      <th>Education_Level</th>\n",
       "      <th>Diploma/Degree</th>\n",
       "      <th>No School</th>\n",
       "      <th>Primary School</th>\n",
       "      <th>Secondary School</th>\n",
       "    </tr>\n",
       "    <tr>\n",
       "      <th>APOE_ε4</th>\n",
       "      <th></th>\n",
       "      <th></th>\n",
       "      <th></th>\n",
       "      <th></th>\n",
       "    </tr>\n",
       "  </thead>\n",
       "  <tbody>\n",
       "    <tr>\n",
       "      <th>Negative</th>\n",
       "      <td>0.035088</td>\n",
       "      <td>0.225000</td>\n",
       "      <td>0.200000</td>\n",
       "      <td>0.166667</td>\n",
       "    </tr>\n",
       "    <tr>\n",
       "      <th>Positive</th>\n",
       "      <td>0.515789</td>\n",
       "      <td>0.773913</td>\n",
       "      <td>0.590909</td>\n",
       "      <td>0.640909</td>\n",
       "    </tr>\n",
       "  </tbody>\n",
       "</table>\n",
       "</div>"
      ],
      "text/plain": [
       "Education_Level  Diploma/Degree  No School  Primary School  Secondary School\n",
       "APOE_ε4                                                                     \n",
       "Negative               0.035088   0.225000        0.200000          0.166667\n",
       "Positive               0.515789   0.773913        0.590909          0.640909"
      ]
     },
     "execution_count": 162,
     "metadata": {},
     "output_type": "execute_result"
    }
   ],
   "source": [
    "dmn_df.pivot_table('Dementia', index= 'APOE_ε4', columns= 'Education_Level', aggfunc= 'mean')"
   ]
  },
  {
   "cell_type": "raw",
   "id": "6b917b2b-dcd0-4885-a3a2-8f1206c19035",
   "metadata": {},
   "source": [
    "מצאנו קשר מאוד חזק בין אלה שנשאים של הגן וללא השכלה כלל לבין הסיכוי לחלות. כלומר כ77% מתוך הנבדקים שלא למדו ונושאים את הגן- חולים!"
   ]
  },
  {
   "cell_type": "code",
   "execution_count": 250,
   "id": "4f7de1cb-aa03-4b64-9d66-712ee5a4ee56",
   "metadata": {
    "tags": []
   },
   "outputs": [
    {
     "data": {
      "image/png": "[encoded data removed]",
      "text/plain": [
       "<Figure size 800x400 with 1 Axes>"
      ]
     },
     "metadata": {},
     "output_type": "display_data"
    }
   ],
   "source": [
    "plt.figure(figsize=(8,4))\n",
    "ax = sns.barplot(data = dmn_df, x='Education_Level', y='Dementia', hue = 'APOE_ε4',errorbar=None, order=['No School', 'Primary School', 'Secondary School', 'Diploma/Degree'])\n",
    "ax.set_ylabel('average Dementia')\n",
    "#sns.relplot(x='Education_Level', y='Dementia', data=dmn_df[dmn_df['APOE_ε4']=='Negative'], kind='line', color='blue', linewidth=2, linestyle='-', markers='o', label='')\n",
    "sns.lineplot(dmn_df[dmn_df['APOE_ε4']=='Negative'], x='Education_Level', y='Dementia', hue= 'APOE_ε4', sort=False)\n",
    "plt.legend(title='APOE_ε4', loc=('upper right')) \n",
    "plt.show()\n",
    "#להפוך את העמודות הכחולות לגרף קו יורד"
   ]
  },
  {
   "cell_type": "markdown",
   "id": "3a1822a2-ddaf-4173-ae93-e13682687adb",
   "metadata": {},
   "source": [
    "<div dir='rtl'>\n",
    "מהגרף הזה נוכל לראות שנוכל לראות שבמיוחד מי שללא השכלה בכלל- בעל סיכוי גבוה  יותר לחלות \n",
    "אך גם בכלל מי שחיובי לגן יש לו סיכוי גבוה יותר לדמנציה (כפי שידענו) בכל אחת מרמות ההשכלה\n",
    "נשים לב שהעמודות הכחולות במגמת ירידה ככל שרמת ההשכלה גדלה- כלומר ממש נוכל לראות שמי ששלילי לגן - ככל שילמד יותר כך הסיכוי שלו לחלות שואף ל"
   ]
  },
  {
   "cell_type": "markdown",
   "id": "6e0a0dac-c21e-4fb8-bc34-e9c024015c82",
   "metadata": {
    "tags": []
   },
   "source": [
    " # <b id=\"section_2\">  </b> <b style='color:#F05454'> second path - Cognitive test scores & Education: </b> <b></b> \n",
    "- חלוקה לחולים ובריאים\n",
    "-  תוצאות המבחנים שונות בין החולים לבריאים (רק כדי להראות) \n",
    "- בדקנו איזה חלק מהציונים עשו אנשים בעלי רמות השכלה שונות\n",
    "- גילינו שחולי דמנציה בעלי עבר של תואר , קיבלו ציונים גבוהים יותר במבחן הקוגנטיבי\n",
    "\n",
    "השערה:  \n",
    "יתכן ורקע אקדמי (ובתוכו הפעלת חשיבה ולימוד, רמת חייים או דרישה עצמית גבוהה) יכול להשפיע על היכולות הקוגנטיביות בקרב חולי דמנציה אמנם בדקנו על קבוצה מצומצמת( גם חולים וגם עם תואר ראשון) ולכן ממליצות לבדוק על רבוצה גדולה יותר של אנשים ולאמת או להפריך את הטענה שלנו"
   ]
  },
  {
   "cell_type": "raw",
   "id": "d0fff9e7-7b96-400d-8208-8c198fd5c1f6",
   "metadata": {},
   "source": [
    "כשרצינו לבדוק את הרמת השכלה של החולים מול הבריאים שמנו לב ליחס כמעט הפוך בין חולים שעשו תואר ראשון לבין בריאים שלא למדו בכלל"
   ]
  },
  {
   "cell_type": "code",
   "execution_count": 164,
   "id": "148a6cd2-3610-4796-a8b9-5bc0c137c132",
   "metadata": {
    "jupyter": {
     "source_hidden": true
    },
    "tags": []
   },
   "outputs": [
    {
     "data": {
      "text/plain": [
       "<Axes: xlabel='Education_Level', ylabel='count'>"
      ]
     },
     "execution_count": 164,
     "metadata": {},
     "output_type": "execute_result"
    },
    {
     "data": {
      "image/png": "[encoded data removed]",
      "text/plain": [
       "<Figure size 1800x400 with 2 Axes>"
      ]
     },
     "metadata": {},
     "output_type": "display_data"
    }
   ],
   "source": [
    "fig, axes = plt.subplots(figsize=(18, 4), ncols=2)\n",
    "sns.countplot(data = dmn_df, x=\"Education_Level\",hue=\"Dementia\", ax = axes[0])\n",
    "sns.countplot(data=dmn_df, x='Education_Level', hue='Dementia', order=['No School', 'Diploma/Degree'], ax = axes[1])\n"
   ]
  },
  {
   "cell_type": "raw",
   "id": "74e237a7-465c-4b78-967b-a5778abc2c00",
   "metadata": {},
   "source": [
    "נרצה להתמקד בחמישים החולים שעשו תואר:"
   ]
  },
  {
   "cell_type": "code",
   "execution_count": 251,
   "id": "f4ed851e-1475-4940-88c2-6ccf855c891e",
   "metadata": {},
   "outputs": [
    {
     "data": {
      "image/png": "[encoded data removed]",
      "text/plain": [
       "<Figure size 400x400 with 1 Axes>"
      ]
     },
     "metadata": {},
     "output_type": "display_data"
    }
   ],
   "source": [
    "plt.figure(figsize = (4, 4), facecolor = \"white\")\n",
    "sns.boxplot(dmn_df, x = 'Dementia', y = 'Cognitive_Test_Scores')\n",
    "plt.show()"
   ]
  },
  {
   "cell_type": "raw",
   "id": "5cf8931c-3e1b-4ae2-af56-fb74ddcb4b52",
   "metadata": {
    "tags": []
   },
   "source": [
    "בגרף הזה נוכל לראות התפלגות מאוד חד משמעית בין החולים לבריאים במבחן קוגניטיבי שנעשה לכל הנבדקים.\n",
    "מי שחולה התוצאות שלו היו בין 1-7 בלבד, ומי שבריא תוצאותיו היו בין 8-10 בלבד. (1 מראה על תפקוד נמוך מאוד ו10 מראה על תפקוד גבוה)"
   ]
  },
  {
   "cell_type": "raw",
   "id": "44251316-81be-4ad2-8ee2-2f17c578c770",
   "metadata": {},
   "source": [
    "חשבנו לבדוק האם מתוך החולים נמצא קשר בין רמת ההשכלה לבין הציון במבחן הקוגניטבי:"
   ]
  },
  {
   "cell_type": "code",
   "execution_count": 258,
   "id": "ac0d4d34-0da5-4864-b40b-628b7c7319a2",
   "metadata": {
    "tags": []
   },
   "outputs": [
    {
     "data": {
      "image/png": "[encoded data removed]",
      "text/plain": [
       "<Figure size 640x480 with 1 Axes>"
      ]
     },
     "metadata": {},
     "output_type": "display_data"
    }
   ],
   "source": [
    "#sns.countplot(only_sick[only_sick['Education_Level']=='Diploma/Degree'], x='Cognitive_Test_Scores')\n",
    "sns.histplot(only_sick[only_sick['Education_Level']=='Diploma/Degree'], x='Cognitive_Test_Scores',stat='percent', bins=8)\n",
    "plt.title('cognitive test scores among 50 subject who has diploma')\n",
    "plt.show()\n",
    "#kלהציג באחוזים - stat precent\n",
    "#גרף של layerplot barchart horizon stack\n",
    "#לחפש צידע על המבחן ואס לחשוב על אם להציג את שאר הציונים גל של הבריאים"
   ]
  },
  {
   "cell_type": "code",
   "execution_count": 259,
   "id": "603ef64e-4e83-44a8-993e-5fca054330bb",
   "metadata": {
    "tags": []
   },
   "outputs": [
    {
     "data": {
      "text/plain": [
       "<Axes: xlabel='Cognitive_Test_Scores', ylabel='count'>"
      ]
     },
     "execution_count": 259,
     "metadata": {},
     "output_type": "execute_result"
    },
    {
     "data": {
      "image/png": "[encoded data removed]",
      "text/plain": [
       "<Figure size 640x480 with 1 Axes>"
      ]
     },
     "metadata": {},
     "output_type": "display_data"
    }
   ],
   "source": [
    "sns.countplot(only_sick[only_sick['Education_Level']=='Diploma/Degree'], x='Cognitive_Test_Scores')"
   ]
  },
  {
   "cell_type": "raw",
   "id": "038f3e5b-942d-47a3-8157-47f4c3f913a7",
   "metadata": {},
   "source": [
    "לקחנו רק את חמישים האנשים שחולים ועשו תואר ראשון ורצינו לבדוק מה היו התוצאות שלהם במבחנים הקוגניטיביים\n",
    "בגרף נוכל לראות מגמה(אם כי לא ברורה בגלל שהמחלה הזו לא אחידה) של רוב ציונים גבוהים יותר לפי רמת ההשכלה\n",
    ".כלומר, ניתן להסיק שעל אף שעדיין חלו, רוב האנשים שעשו תואר ראשון כנראה בתפקוד גבוה יותר קוגנטיבית כי הצליחו להשיג ציונים גבוהים במבחן קוגניציה"
   ]
  },
  {
   "cell_type": "markdown",
   "id": "a78bf07c-788c-4ce9-8bbf-3289fcd6a267",
   "metadata": {
    "tags": []
   },
   "source": [
    " # <b id=\"section_2\">  </b> <b style='color:#F05454'> third path - Cognitive test scores & Alcohol level: </b> <b></b> \n",
    "\n",
    "- חלוקה לחולים ובריאים\n",
    "-  בהראנו שתוצאות המבחנים שונות בין החולים לבריאים (רק כדי להראות) \n",
    "- בדקנו איזה חלק מהציונים עשו אנשים בעלי רמות השכלה שונות\n",
    "- גילינו שחולי דמנציה בעלי עבר של תואר שני, קיבלו ציונים גבוהים יותר במבחן הקוגנטיבי\n"
   ]
  },
  {
   "cell_type": "code",
   "execution_count": null,
   "id": "fd97ec4c-9127-4505-8bf0-939ca4e3361f",
   "metadata": {},
   "outputs": [],
   "source": []
  },
  {
   "cell_type": "code",
   "execution_count": null,
   "id": "7e6ac46b-9ded-4a23-9901-ed8344da8075",
   "metadata": {},
   "outputs": [],
   "source": []
  },
  {
   "cell_type": "code",
   "execution_count": null,
   "id": "7d188cf6-db8f-472b-89c9-c61e4e5cfd5a",
   "metadata": {},
   "outputs": [],
   "source": []
  }
 ],
 "metadata": {
  "kernelspec": {
   "display_name": "Python 3 (ipykernel)",
   "language": "python",
   "name": "python3"
  },
  "language_info": {
   "codemirror_mode": {
    "name": "ipython",
    "version": 3
   },
   "file_extension": ".py",
   "mimetype": "text/x-python",
   "name": "python",
   "nbconvert_exporter": "python",
   "pygments_lexer": "ipython3",
   "version": "3.11.5"
  }
 },
 "nbformat": 4,
 "nbformat_minor": 5
}
